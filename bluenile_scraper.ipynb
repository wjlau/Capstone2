{
 "cells": [
  {
   "cell_type": "code",
   "execution_count": 1,
   "id": "postal-puzzle",
   "metadata": {},
   "outputs": [],
   "source": [
    "from selenium import webdriver\n",
    "from selenium.webdriver.support.ui import Select\n",
    "from time import sleep\n",
    "from pymongo import MongoClient\n",
    "import pprint\n",
    "import pandas as pd\n",
    "import numpy as np\n",
    "import requests\n",
    "from bs4 import BeautifulSoup\n",
    "import json"
   ]
  },
  {
   "cell_type": "code",
   "execution_count": 2,
   "id": "matched-discovery",
   "metadata": {},
   "outputs": [],
   "source": [
    "#Create web browser (do not need to have driver install - Safari driver for mac \n",
    "#is preloaded on the OS. Just need to enable: /usr/bin/safaridriver --enable)\n",
    "driver = webdriver.Safari()\n",
    "#Go to desired URL\n",
    "driver.get('https://www.bluenile.com/diamond-search')\n",
    "sleep(3)"
   ]
  },
  {
   "cell_type": "markdown",
   "id": "parental-express",
   "metadata": {},
   "source": [
    "For some reason the element is considered invisible when interacting with selenium by clicking it. The below code works"
   ]
  },
  {
   "cell_type": "code",
   "execution_count": 3,
   "id": "american-regular",
   "metadata": {},
   "outputs": [],
   "source": [
    "#expanding the menu for all filters\n",
    "expanded_filters = driver.find_element_by_xpath('//*[@id=\"react-app\"]/div/div/section/div/div[2]/div[3]/button[2]')\n",
    "driver.execute_script(\"arguments[0].click()\",expanded_filters)\n",
    "sleep(1)\n",
    "\n",
    "#toggling on all additional filters - unclicks round: removes it\n",
    "filters = ['Round-filter-button-med-lrg','Princess-filter-button-med-lrg','Emerald-filter-button-med-lrg',\n",
    "             'Asscher-filter-button-med-lrg','Cushion-filter-button-med-lrg','Marquise-filter-button-med-lrg',\n",
    "             'Radiant-filter-button-med-lrg','Oval-filter-button-med-lrg','Pear-filter-button-med-lrg',\n",
    "             'Heart-filter-button-med-lrg','polish-toggle-button','symmetry-toggle-button',\n",
    "           'fluorescence-toggle-button','depth %-toggle-button','table %-toggle-button','l/w ratio-toggle-button']\n",
    "for element_id in filters:\n",
    "    feature = driver.find_element_by_id(element_id)\n",
    "    driver.execute_script(\"arguments[0].click()\",feature)\n",
    "    sleep(1)\n",
    "cutlet=driver.find_element_by_xpath('//*[@id=\"culet-filter-container-accordion\"]/button')\n",
    "driver.execute_script(\"arguments[0].click()\",cutlet)"
   ]
  },
  {
   "cell_type": "code",
   "execution_count": 4,
   "id": "utility-dance",
   "metadata": {},
   "outputs": [],
   "source": [
    "driver.execute_script(\"window.scrollTo(0, window.scrollY + 300)\")\n",
    "#change \"items per page\" to 24\n",
    "#need to use absolute xpath (full xpath) where you do not need to give any\n",
    "#attribute names in the xpath because id is dynamic - cannot use\n",
    "items_per_page = Select(driver.find_element_by_xpath('/html/body/div[1]/main/div/div/div/section/div/div[3]/div[2]/div/select'))\n",
    "items_per_page.select_by_value('24')"
   ]
  },
  {
   "cell_type": "markdown",
   "id": "human-master",
   "metadata": {},
   "source": [
    "There is a lazy loader but it doesn't truly load all entries even if it shows \"items per page\" as \"all\" - need to change \"items per page\" to the other option which is \"24\" and then iterate through all pages and pull data from each page instead."
   ]
  },
  {
   "cell_type": "code",
   "execution_count": 5,
   "id": "informational-ethnic",
   "metadata": {},
   "outputs": [],
   "source": [
    "client = MongoClient()\n",
    "db = client.capstone2_bluenile\n",
    "diamonds = db.diamond_info\n",
    "#scroll down to the bottom of the page for the next page button to show up \n",
    "driver.execute_script(\"window.scrollTo(0, window.scrollY + 1500)\")\n",
    "#iterating through all pages\n",
    "num_page = 2492\n",
    "#inserting intial page\n",
    "page_source = driver.page_source\n",
    "diamonds.insert_one({'page':1,'html':page_source})\n",
    "#clicking/iterating through each page and saving raw html to MongoDB\n",
    "for page in range(2,num_page+1):\n",
    "    next_page = driver.find_element_by_xpath('//button[text()=\"Next \"]')\n",
    "    driver.execute_script(\"arguments[0].click()\",next_page)\n",
    "    sleep(np.random.randint(4))\n",
    "    driver.execute_script(\"window.scrollTo(0, window.scrollY + 1500)\")\n",
    "    sleep(np.random.randint(4))\n",
    "    page_source = driver.page_source\n",
    "    diamonds.insert_one({'page':page,'html':page_source})\n"
   ]
  }
 ],
 "metadata": {
  "kernelspec": {
   "display_name": "Python 3",
   "language": "python",
   "name": "python3"
  },
  "language_info": {
   "codemirror_mode": {
    "name": "ipython",
    "version": 3
   },
   "file_extension": ".py",
   "mimetype": "text/x-python",
   "name": "python",
   "nbconvert_exporter": "python",
   "pygments_lexer": "ipython3",
   "version": "3.7.10"
  }
 },
 "nbformat": 4,
 "nbformat_minor": 5
}
