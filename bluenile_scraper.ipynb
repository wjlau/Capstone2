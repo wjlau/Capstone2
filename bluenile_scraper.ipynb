{
 "cells": [
  {
   "cell_type": "code",
   "execution_count": 129,
   "id": "postal-puzzle",
   "metadata": {},
   "outputs": [],
   "source": [
    "from selenium import webdriver\n",
    "from selenium.webdriver.common.keys import Keys\n",
    "from selenium.webdriver.support.ui import Select\n",
    "from time import sleep\n",
    "from pymongo import MongoClient\n",
    "import pprint\n",
    "import pandas as pd\n",
    "import numpy as np\n",
    "import requests\n",
    "from bs4 import BeautifulSoup\n",
    "import json"
   ]
  },
  {
   "cell_type": "code",
   "execution_count": 161,
   "id": "consolidated-prophet",
   "metadata": {},
   "outputs": [],
   "source": [
    "#Connect to hosted MongoDB instance\n",
    "client = MongoClient()\n",
    "#Access already existing database\n",
    "db = client[\n",
    "    'capstone2_updated']\n",
    "#Access already existing collection in database\n",
    "diamond_info = db['diamond_info']"
   ]
  },
  {
   "cell_type": "code",
   "execution_count": 261,
   "id": "matched-discovery",
   "metadata": {},
   "outputs": [],
   "source": [
    "#Create web browser (do not need to have driver install - Safari driver for mac \n",
    "#is preloaded on the OS. Just need to enable: /usr/bin/safaridriver --enable)\n",
    "driver = webdriver.Safari()\n",
    "#Go to desired URL\n",
    "driver.get('https://www.bluenile.com/diamond-search')\n",
    "sleep(3)"
   ]
  },
  {
   "cell_type": "markdown",
   "id": "parental-express",
   "metadata": {},
   "source": [
    "Lazy loader only gives 1000 rows of data and iterating through pages only gives up to 42 pages of data. Work-around - change price, grab 1000 rows, update price floor to previous pulled max and pull again. Repeat."
   ]
  },
  {
   "cell_type": "code",
   "execution_count": 262,
   "id": "american-regular",
   "metadata": {},
   "outputs": [],
   "source": [
    "#expanding the menu for all filters\n",
    "expanded_filters = driver.find_element_by_xpath('//*[@id=\"react-app\"]/div/div/section/div/div[2]/div[3]/button[2]')\n",
    "driver.execute_script(\"arguments[0].click()\",expanded_filters)\n",
    "sleep(1)\n",
    "\n",
    "#toggling on all additional filters - unclicks round: removes it\n",
    "filters = ['Round-filter-button-med-lrg','Princess-filter-button-med-lrg','Emerald-filter-button-med-lrg',\n",
    "             'Asscher-filter-button-med-lrg','Cushion-filter-button-med-lrg','Marquise-filter-button-med-lrg',\n",
    "             'Radiant-filter-button-med-lrg','Oval-filter-button-med-lrg','Pear-filter-button-med-lrg',\n",
    "             'Heart-filter-button-med-lrg','polish-toggle-button','symmetry-toggle-button',\n",
    "           'fluorescence-toggle-button','depth %-toggle-button','table %-toggle-button','l/w ratio-toggle-button']\n",
    "for element_id in filters:\n",
    "    feature = driver.find_element_by_id(element_id)\n",
    "    driver.execute_script(\"arguments[0].click()\",feature)\n",
    "    sleep(1)\n",
    "cutlet=driver.find_element_by_xpath('//*[@id=\"culet-filter-container-accordion\"]/button')\n",
    "driver.execute_script(\"arguments[0].click()\",cutlet)"
   ]
  },
  {
   "cell_type": "markdown",
   "id": "static-street",
   "metadata": {},
   "source": [
    "## Pull first two pages for example to see if it works (322 is the max price from first place to use as the floor price for next page)"
   ]
  },
  {
   "cell_type": "code",
   "execution_count": 263,
   "id": "chicken-velvet",
   "metadata": {},
   "outputs": [],
   "source": [
    "driver.execute_script(\"window.scrollTo(0, window.scrollY + 64400)\") # scroll down the page - lazy loader\n",
    "sleep(12) #need to wait for page to load\n",
    "# for the initial page with default filters \n",
    "page_source = driver.page_source\n",
    "diamond_info.insert_one({'pull':1,'html':page_source})\n",
    "\n",
    "#initiate first max price\n",
    "diamonds = diamond_info.find_one({'pull':1})['html']\n",
    "soup = BeautifulSoup(diamonds,'html.parser')\n",
    "if len(soup.find_all('div','row-cell price')[999].text.split('Now: ')) == 2:\n",
    "    x =  soup.find_all('div','row-cell price')[999].text.split('Now: ')[0][5:]\n",
    "else: \n",
    "    x = soup.find_all('div','row-cell price')[999].text\n",
    "max_price = int(x[1:]) \n",
    "\n",
    "#initialize pull to keep count\n",
    "pull = 1\n",
    "\n",
    "#set previous max price to the next pulls floor price to update\n",
    "while max_price < 326:\n",
    "    #scroll up the page to update floor price\n",
    "    driver.execute_script(\"window.scrollTo(0, window.scrollY - 65000)\")\n",
    "    #updating price\n",
    "    inputElement = driver.find_element_by_xpath(\"/html/body/div[1]/main/div/div/div/section/div/div[2]/div[3]/div[7]/div[2]/div/fieldset/div/div[1]/input\")\n",
    "    inputElement.send_keys(max_price)\n",
    "    inputElement.send_keys(Keys.ENTER)\n",
    "    #scrolling down page for updated data \n",
    "    driver.execute_script(\"window.scrollTo(0, window.scrollY + 65000)\")\n",
    "    sleep(12)\n",
    "    #insert into mongodb\n",
    "    page_source = driver.page_source\n",
    "    pull+=1\n",
    "    diamond_info.insert_one({'pull':pull,'html':page_source})\n",
    "    #updating max price for next iteration \n",
    "    diamonds = diamond_info.find_one({'pull':pull})['html']\n",
    "    soup = BeautifulSoup(diamonds,'html.parser')\n",
    "    if len(soup.find_all('div','row-cell price')[-1].text.split('Now: ')) == 2:\n",
    "            price = soup.find_all('div','row-cell price')[-1].text.split('Now: ')[0][6:].replace(',','')\n",
    "            max_price =  int(price)\n",
    "        else: \n",
    "            price = soup.find_all('div','row-cell price')[-1].text[1:].replace(',','')\n",
    "            max_price = int(price)"
   ]
  },
  {
   "cell_type": "code",
   "execution_count": 329,
   "id": "worse-deficit",
   "metadata": {},
   "outputs": [],
   "source": [
    "def scraper(total_max_price):\n",
    "    \n",
    "    client = MongoClient()\n",
    "    db = client['capstone2_updated']\n",
    "    diamond_info = db['diamond_info']\n",
    "    \n",
    "    \n",
    "    driver = webdriver.Safari()\n",
    "    driver.get('https://www.bluenile.com/diamond-search')\n",
    "    sleep(3)\n",
    "    \n",
    "    expanded_filters = driver.find_element_by_xpath('//*[@id=\"react-app\"]/div/div/section/div/div[2]/div[3]/button[2]')\n",
    "    driver.execute_script(\"arguments[0].click()\",expanded_filters)\n",
    "    sleep(1)\n",
    "\n",
    "    filters = ['Round-filter-button-med-lrg','Princess-filter-button-med-lrg','Emerald-filter-button-med-lrg',\n",
    "                 'Asscher-filter-button-med-lrg','Cushion-filter-button-med-lrg','Marquise-filter-button-med-lrg',\n",
    "                 'Radiant-filter-button-med-lrg','Oval-filter-button-med-lrg','Pear-filter-button-med-lrg',\n",
    "                 'Heart-filter-button-med-lrg','polish-toggle-button','symmetry-toggle-button',\n",
    "               'fluorescence-toggle-button','depth %-toggle-button','table %-toggle-button','l/w ratio-toggle-button']\n",
    "    for element_id in filters:\n",
    "        feature = driver.find_element_by_id(element_id)\n",
    "        driver.execute_script(\"arguments[0].click()\",feature)\n",
    "        sleep(1)\n",
    "    cutlet=driver.find_element_by_xpath('//*[@id=\"culet-filter-container-accordion\"]/button')\n",
    "    driver.execute_script(\"arguments[0].click()\",cutlet)\n",
    "    \n",
    "    \n",
    "    driver.execute_script(\"window.scrollTo(0, window.scrollY + 64400)\")\n",
    "    sleep(12) \n",
    "    page_source = driver.page_source\n",
    "    diamond_info.insert_one({'pull':1,'html':page_source})\n",
    "\n",
    "\n",
    "    diamonds = diamond_info.find_one({'pull':1})['html']\n",
    "    soup = BeautifulSoup(diamonds,'html.parser')\n",
    "    if len(soup.find_all('div','row-cell price')[-1].text.split('Now: ')) == 2:\n",
    "        x =  soup.find_all('div','row-cell price')[-1].text.split('Now: ')[0][5:]\n",
    "    else: \n",
    "        x = soup.find_all('div','row-cell price')[-1].text\n",
    "    max_price = int(x[1:]) \n",
    "\n",
    "\n",
    "    pull = 1\n",
    "    while max_price < total_max_price:\n",
    "        driver.execute_script(\"window.scrollTo(0, window.scrollY - 65000)\")\n",
    "        inputElement = driver.find_element_by_xpath(\"/html/body/div[1]/main/div/div/div/section/div/div[2]/div[3]/div[7]/div[2]/div/fieldset/div/div[1]/input\")\n",
    "        inputElement.send_keys(max_price)\n",
    "        inputElement.send_keys(Keys.ENTER)\n",
    "        driver.execute_script(\"window.scrollTo(0, window.scrollY + 65000)\")\n",
    "        sleep(12)\n",
    "        page_source = driver.page_source\n",
    "        pull+=1\n",
    "        diamond_info.insert_one({'pull':pull,'html':page_source})\n",
    "        diamonds = diamond_info.find_one({'pull':pull})['html']\n",
    "        soup = BeautifulSoup(diamonds,'html.parser')\n",
    "        if len(soup.find_all('div','row-cell price')[-1].text.split('Now: ')) == 2:\n",
    "            price = soup.find_all('div','row-cell price')[-1].text.split('Now: ')[0][6:].replace(',','')\n",
    "            max_price =  int(price)\n",
    "        else: \n",
    "            price = soup.find_all('div','row-cell price')[-1].text[1:].replace(',','')\n",
    "            max_price = int(price)\n",
    "    \n",
    "    return \"Done!\""
   ]
  },
  {
   "cell_type": "code",
   "execution_count": 330,
   "id": "advanced-mortgage",
   "metadata": {},
   "outputs": [
    {
     "data": {
      "text/plain": [
       "'Done!'"
      ]
     },
     "execution_count": 330,
     "metadata": {},
     "output_type": "execute_result"
    }
   ],
   "source": [
    "scraper(2702260) #max price taken from website"
   ]
  }
 ],
 "metadata": {
  "kernelspec": {
   "display_name": "Python 3",
   "language": "python",
   "name": "python3"
  },
  "language_info": {
   "codemirror_mode": {
    "name": "ipython",
    "version": 3
   },
   "file_extension": ".py",
   "mimetype": "text/x-python",
   "name": "python",
   "nbconvert_exporter": "python",
   "pygments_lexer": "ipython3",
   "version": "3.7.10"
  }
 },
 "nbformat": 4,
 "nbformat_minor": 5
}
