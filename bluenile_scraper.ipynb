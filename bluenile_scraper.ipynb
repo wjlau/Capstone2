{
 "cells": [
  {
   "cell_type": "code",
   "execution_count": 37,
   "id": "postal-puzzle",
   "metadata": {},
   "outputs": [],
   "source": [
    "from selenium import webdriver\n",
    "from selenium.webdriver.support.ui import Select\n",
    "from time import sleep\n",
    "from pymongo import MongoClient\n",
    "import pprint\n",
    "import pandas as pd\n",
    "import requests\n",
    "from bs4 import BeautifulSoup\n",
    "import json"
   ]
  },
  {
   "cell_type": "code",
   "execution_count": 58,
   "id": "matched-discovery",
   "metadata": {},
   "outputs": [],
   "source": [
    "#Create web browser (do not need to have driver install - Safari driver for mac \n",
    "#is preloaded on the OS. Just need to enable: /usr/bin/safaridriver --enable)\n",
    "driver = webdriver.Safari()\n",
    "#Go to desired URL\n",
    "driver.get('https://www.bluenile.com/diamond-search')\n",
    "sleep(3)"
   ]
  },
  {
   "cell_type": "markdown",
   "id": "parental-express",
   "metadata": {},
   "source": [
    "For some reason the element is considered invisible when interacting with selenium by clicking it. The below code works"
   ]
  },
  {
   "cell_type": "code",
   "execution_count": null,
   "id": "temporal-classics",
   "metadata": {},
   "outputs": [],
   "source": [
    "#expanding the menu for all filters\n",
    "expanded_filters = driver.find_element_by_xpath('//*[@id=\"react-app\"]/div/div/section/div/div[2]/div[3]/button[2]')\n",
    "driver.execute_script(\"arguments[0].click()\",expanded_filters)\n",
    "sleep(1)\n",
    "\n",
    "#toggling on all additional filters\n",
    "filters = ['Round-filter-button-med-lrg','Princess-filter-button-med-lrg','Emerald-filter-button-med-lrg',\n",
    "             'Asscher-filter-button-med-lrg','Cushion-filter-button-med-lrg','Marquise-filter-button-med-lrg',\n",
    "             'Radiant-filter-button-med-lrg','Oval-filter-button-med-lrg','Pear-filter-button-med-lrg',\n",
    "             'Heart-filter-button-med-lrg','polish-toggle-button','symmetry-toggle-button',\n",
    "           'fluorescence-toggle-button','depth %-toggle-button','table %-toggle-button','l/w ratio-toggle-button']\n",
    "for element_id in filters:\n",
    "    feature = driver.find_element_by_id(element_id)\n",
    "    if feature.is_selected() == False:\n",
    "        driver.execute_script(\"arguments[0].click()\",feature)\n",
    "        sleep(1)\n",
    "cutlet=driver.find_element_by_xpath('//*[@id=\"culet-filter-container-accordion\"]/button')\n",
    "driver.execute_script(\"arguments[0].click()\",cutlet)"
   ]
  },
  {
   "cell_type": "code",
   "execution_count": 41,
   "id": "utility-dance",
   "metadata": {},
   "outputs": [],
   "source": [
    "#change \"items per page\" to 24\n",
    "#need to use absolute xpath (full xpath) where you do not need to give any\n",
    "#attribute names in the xpath because id is dynamic - cannot use\n",
    "items_per_page = Select(driver.find_element_by_xpath('/html/body/div[1]/main/div/div/div/section/div/div[3]/div[2]/div/select'))\n",
    "items_per_page.select_by_value('24')"
   ]
  },
  {
   "cell_type": "code",
   "execution_count": 57,
   "id": "expired-quarter",
   "metadata": {},
   "outputs": [],
   "source": [
    "next_page = driver.find_element_by_xpath('//button[text()=\"Next \"]')\n",
    "driver.execute_script(\"arguments[0].click()\",next_page)"
   ]
  },
  {
   "cell_type": "code",
   "execution_count": null,
   "id": "noticed-convertible",
   "metadata": {},
   "outputs": [],
   "source": []
  },
  {
   "cell_type": "code",
   "execution_count": 173,
   "id": "informational-ethnic",
   "metadata": {},
   "outputs": [],
   "source": [
    "#iterating through all pages\n",
    "num_page = 11691\n",
    "#inserting intial page\n",
    "page_source = driver.page_source\n",
    "diamonds.insert_one({'page 1': 'html':page_source})\n",
    "#clicking/iterating through each page and saving raw html to MongoDB\n",
    "for page in range(2,num_page+1):\n",
    "    #need to click to the next page\n",
    "    diamonds.insert_one({f'page {page}': 'html':page_source}\n"
   ]
  },
  {
   "cell_type": "code",
   "execution_count": null,
   "id": "printable-trade",
   "metadata": {},
   "outputs": [],
   "source": []
  },
  {
   "cell_type": "code",
   "execution_count": 56,
   "id": "typical-cable",
   "metadata": {},
   "outputs": [],
   "source": [
    "driver.execute_script(\"window.scrollTo(0, window.scrollY + 300)\")"
   ]
  },
  {
   "cell_type": "markdown",
   "id": "bored-reporter",
   "metadata": {},
   "source": [
    "There is a lazy loader but it doesn't truly load all entries even if it shows \"items per page\" as \"all\" - need to change \"items per page\" to the other option which is \"24\" and then iterate through all pages and pull data from each page instead."
   ]
  },
  {
   "cell_type": "code",
   "execution_count": 107,
   "id": "distinguished-tomato",
   "metadata": {},
   "outputs": [],
   "source": [
    "#Scroll down the page forcing lazy loading\n",
    "# for i in range(110):\n",
    "#     driver.execute_script(\"window.scrollTo(0, window.scrollY + 600)\")\n",
    "    "
   ]
  },
  {
   "cell_type": "code",
   "execution_count": null,
   "id": "steady-cotton",
   "metadata": {},
   "outputs": [],
   "source": []
  },
  {
   "cell_type": "code",
   "execution_count": 117,
   "id": "pleasant-delivery",
   "metadata": {},
   "outputs": [],
   "source": [
    "#get page source - to use save into MongoDB and use for beautifulsoup\n",
    "page_source = driver.page_source\n",
    "client = MongoClient()\n",
    "db = client.capstone2_bluenile\n",
    "diamonds = db.diamond_info\n",
    "#commenting out - do not want multiples if I rerun this notebook\n",
    "#diamonds.insert_one({'website':'Blue Nile - Selenium','html':page_source})"
   ]
  },
  {
   "cell_type": "code",
   "execution_count": 124,
   "id": "pressed-management",
   "metadata": {},
   "outputs": [],
   "source": [
    "#parse hypertext to get data with beautiful soup\n",
    "soup = BeautifulSoup(page_source,'html.parser')"
   ]
  },
  {
   "cell_type": "code",
   "execution_count": 134,
   "id": "underlying-enemy",
   "metadata": {},
   "outputs": [
    {
     "data": {
      "text/plain": [
       "1000"
      ]
     },
     "execution_count": 134,
     "metadata": {},
     "output_type": "execute_result"
    }
   ],
   "source": [
    "len(soup.find_all('div',class_=\"grid-row row\"))"
   ]
  },
  {
   "cell_type": "code",
   "execution_count": null,
   "id": "clinical-culture",
   "metadata": {},
   "outputs": [],
   "source": []
  },
  {
   "cell_type": "code",
   "execution_count": 56,
   "id": "american-illustration",
   "metadata": {},
   "outputs": [],
   "source": []
  },
  {
   "cell_type": "code",
   "execution_count": 57,
   "id": "expired-standing",
   "metadata": {},
   "outputs": [],
   "source": []
  },
  {
   "cell_type": "code",
   "execution_count": null,
   "id": "hairy-coral",
   "metadata": {},
   "outputs": [],
   "source": []
  },
  {
   "cell_type": "code",
   "execution_count": null,
   "id": "twelve-incident",
   "metadata": {},
   "outputs": [],
   "source": []
  }
 ],
 "metadata": {
  "kernelspec": {
   "display_name": "Python 3",
   "language": "python",
   "name": "python3"
  },
  "language_info": {
   "codemirror_mode": {
    "name": "ipython",
    "version": 3
   },
   "file_extension": ".py",
   "mimetype": "text/x-python",
   "name": "python",
   "nbconvert_exporter": "python",
   "pygments_lexer": "ipython3",
   "version": "3.7.10"
  }
 },
 "nbformat": 4,
 "nbformat_minor": 5
}
