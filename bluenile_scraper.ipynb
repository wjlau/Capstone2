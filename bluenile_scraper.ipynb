{
 "cells": [
  {
   "cell_type": "code",
   "execution_count": 59,
   "id": "rotary-warrant",
   "metadata": {},
   "outputs": [],
   "source": [
    "from selenium import webdriver\n",
    "from time import sleep"
   ]
  },
  {
   "cell_type": "code",
   "execution_count": 72,
   "id": "crucial-beijing",
   "metadata": {},
   "outputs": [],
   "source": [
    "#Create web browser (do not need to have driver install - Safari driver for mac \n",
    "#is preloaded on the OS. Just need to enable: /usr/bin/safaridriver --enable)\n",
    "driver = webdriver.Safari()\n",
    "#Go to desired URL\n",
    "driver.get('https://www.bluenile.com/diamond-search')\n",
    "sleep(3)"
   ]
  },
  {
   "cell_type": "markdown",
   "id": "opening-entrance",
   "metadata": {},
   "source": [
    "For some reason the element is considered invisible when interacting with selenium by clicking it. The below code works"
   ]
  },
  {
   "cell_type": "code",
   "execution_count": 73,
   "id": "single-treaty",
   "metadata": {},
   "outputs": [],
   "source": [
    "#expanding the menu for all filters\n",
    "expanded_filters = driver.find_element_by_xpath('//*[@id=\"react-app\"]/div/div/section/div/div[2]/div[3]/button[2]')\n",
    "driver.execute_script(\"arguments[0].click()\",expanded_filters)\n",
    "sleep(1)\n",
    "\n",
    "#element ids \n",
    "filters = ['Round-filter-button-med-lrg','Princess-filter-button-med-lrg','Emerald-filter-button-med-lrg',\n",
    "             'Asscher-filter-button-med-lrg','Cushion-filter-button-med-lrg','Marquise-filter-button-med-lrg',\n",
    "             'Radiant-filter-button-med-lrg','Oval-filter-button-med-lrg','Pear-filter-button-med-lrg',\n",
    "             'Heart-filter-button-med-lrg','polish-toggle-button','symmetry-toggle-button',\n",
    "           'fluorescence-toggle-button','depth %-toggle-button','table %-toggle-button','l/w ratio-toggle-button']\n",
    "for element_id in filters:\n",
    "    feature = driver.find_element_by_id(element_id)\n",
    "    if feature.is_selected() == False:\n",
    "        driver.execute_script(\"arguments[0].click()\",feature)\n",
    "        sleep(1)\n",
    "cutlet=driver.find_element_by_xpath('//*[@id=\"culet-filter-container-accordion\"]/button')\n",
    "driver.execute_script(\"arguments[0].click()\",cutlet)"
   ]
  },
  {
   "cell_type": "code",
   "execution_count": 78,
   "id": "empirical-cycle",
   "metadata": {},
   "outputs": [],
   "source": [
    "driver.execute_script(\"window.scrollTo(0, window.scrollY + 100)\")"
   ]
  },
  {
   "cell_type": "code",
   "execution_count": 30,
   "id": "committed-cycle",
   "metadata": {},
   "outputs": [],
   "source": []
  },
  {
   "cell_type": "code",
   "execution_count": 31,
   "id": "polyphonic-repeat",
   "metadata": {},
   "outputs": [],
   "source": []
  },
  {
   "cell_type": "code",
   "execution_count": 34,
   "id": "vital-westminster",
   "metadata": {},
   "outputs": [],
   "source": []
  },
  {
   "cell_type": "code",
   "execution_count": null,
   "id": "statewide-buddy",
   "metadata": {},
   "outputs": [],
   "source": []
  },
  {
   "cell_type": "code",
   "execution_count": 36,
   "id": "double-convention",
   "metadata": {},
   "outputs": [],
   "source": []
  },
  {
   "cell_type": "code",
   "execution_count": 56,
   "id": "elder-lancaster",
   "metadata": {},
   "outputs": [],
   "source": []
  },
  {
   "cell_type": "code",
   "execution_count": 57,
   "id": "approximate-armstrong",
   "metadata": {},
   "outputs": [],
   "source": []
  },
  {
   "cell_type": "code",
   "execution_count": null,
   "id": "bottom-placement",
   "metadata": {},
   "outputs": [],
   "source": []
  },
  {
   "cell_type": "code",
   "execution_count": null,
   "id": "radio-difficulty",
   "metadata": {},
   "outputs": [],
   "source": []
  }
 ],
 "metadata": {
  "kernelspec": {
   "display_name": "Python 3",
   "language": "python",
   "name": "python3"
  },
  "language_info": {
   "codemirror_mode": {
    "name": "ipython",
    "version": 3
   },
   "file_extension": ".py",
   "mimetype": "text/x-python",
   "name": "python",
   "nbconvert_exporter": "python",
   "pygments_lexer": "ipython3",
   "version": "3.7.10"
  }
 },
 "nbformat": 4,
 "nbformat_minor": 5
}
