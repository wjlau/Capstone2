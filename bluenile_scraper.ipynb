{
 "cells": [
  {
   "cell_type": "code",
   "execution_count": 1,
   "id": "rental-billy",
   "metadata": {},
   "outputs": [],
   "source": [
    "from selenium import webdriver\n",
    "from time import sleep"
   ]
  },
  {
   "cell_type": "code",
   "execution_count": 2,
   "id": "saved-berkeley",
   "metadata": {},
   "outputs": [],
   "source": [
    "#Create web browser (do not need to have driver install - Safari driver for mac \n",
    "#is preloaded on the OS. Just need to enable: /usr/bin/safaridriver --enable)\n",
    "driver = webdriver.Safari()\n",
    "#Go to desired URL\n",
    "driver.get('https://www.bluenile.com/diamond-search')\n",
    "sleep(3)"
   ]
  },
  {
   "cell_type": "markdown",
   "id": "nuclear-excerpt",
   "metadata": {},
   "source": [
    "For some reason the element is considered invisible when interacting with selenium by clicking it. The below code works"
   ]
  },
  {
   "cell_type": "code",
   "execution_count": 3,
   "id": "functioning-amazon",
   "metadata": {},
   "outputs": [],
   "source": [
    "#select all diamond shapes by element id\n",
    "shape_ids = ['Round-filter-button-med-lrg','Princess-filter-button-med-lrg','Emerald-filter-button-med-lrg',\n",
    "             'Asscher-filter-button-med-lrg','Cushion-filter-button-med-lrg','Marquise-filter-button-med-lrg',\n",
    "             'Radiant-filter-button-med-lrg','Oval-filter-button-med-lrg','Pear-filter-button-med-lrg',\n",
    "             'Heart-filter-button-med-lrg']\n",
    "\n",
    "for id in shape_ids:\n",
    "    select_shape = driver.find_element_by_id(id)\n",
    "    sleep(1)\n",
    "    if select_shape.is_selected() == False:\n",
    "        driver.execute_script(\"arguments[0].click()\",select_shape)\n",
    "    "
   ]
  },
  {
   "cell_type": "code",
   "execution_count": null,
   "id": "hairy-platinum",
   "metadata": {},
   "outputs": [],
   "source": []
  },
  {
   "cell_type": "code",
   "execution_count": null,
   "id": "dimensional-corruption",
   "metadata": {},
   "outputs": [],
   "source": []
  },
  {
   "cell_type": "code",
   "execution_count": null,
   "id": "civilian-conspiracy",
   "metadata": {},
   "outputs": [],
   "source": []
  },
  {
   "cell_type": "code",
   "execution_count": null,
   "id": "improving-plastic",
   "metadata": {},
   "outputs": [],
   "source": []
  },
  {
   "cell_type": "code",
   "execution_count": null,
   "id": "universal-collectible",
   "metadata": {},
   "outputs": [],
   "source": []
  },
  {
   "cell_type": "code",
   "execution_count": null,
   "id": "special-removal",
   "metadata": {},
   "outputs": [],
   "source": []
  }
 ],
 "metadata": {
  "kernelspec": {
   "display_name": "Python 3",
   "language": "python",
   "name": "python3"
  },
  "language_info": {
   "codemirror_mode": {
    "name": "ipython",
    "version": 3
   },
   "file_extension": ".py",
   "mimetype": "text/x-python",
   "name": "python",
   "nbconvert_exporter": "python",
   "pygments_lexer": "ipython3",
   "version": "3.7.10"
  }
 },
 "nbformat": 4,
 "nbformat_minor": 5
}
