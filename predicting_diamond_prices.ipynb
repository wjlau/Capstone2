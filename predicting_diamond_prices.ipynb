{
 "cells": [
  {
   "cell_type": "code",
   "execution_count": 1137,
   "id": "grateful-facility",
   "metadata": {},
   "outputs": [],
   "source": [
    "import pandas as pd\n",
    "import numpy as np\n",
    "import matplotlib.pyplot as plt\n",
    "import seaborn as sns\n",
    "from sklearn.linear_model import LinearRegression, Lasso\n",
    "from sklearn.model_selection import train_test_split, cross_val_score, GridSearchCV, RandomizedSearchCV\n",
    "from sklearn.metrics import mean_squared_error, r2_score\n",
    "from sklearn.preprocessing import StandardScaler, OrdinalEncoder\n",
    "from sklearn.ensemble import RandomForestRegressor\n",
    "from pprint import pprint"
   ]
  },
  {
   "cell_type": "code",
   "execution_count": 527,
   "id": "advised-health",
   "metadata": {},
   "outputs": [],
   "source": [
    "df = pd.read_csv('updated_diamonds.csv')"
   ]
  },
  {
   "cell_type": "markdown",
   "id": "embedded-collins",
   "metadata": {},
   "source": [
    "## EDA"
   ]
  },
  {
   "cell_type": "code",
   "execution_count": 528,
   "id": "conceptual-beauty",
   "metadata": {},
   "outputs": [],
   "source": [
    "df.drop('Unnamed: 0',axis =1, inplace=True) #removing column that was basically the same as the index\n",
    "df.drop_duplicates(inplace = True) #might be some duplicate rows based on the way the data was scraped (changing floor price)"
   ]
  },
  {
   "cell_type": "code",
   "execution_count": 529,
   "id": "residential-checklist",
   "metadata": {},
   "outputs": [
    {
     "name": "stdout",
     "output_type": "stream",
     "text": [
      "<class 'pandas.core.frame.DataFrame'>\n",
      "Int64Index: 52461 entries, 0 to 52885\n",
      "Data columns (total 14 columns):\n",
      " #   Column            Non-Null Count  Dtype  \n",
      "---  ------            --------------  -----  \n",
      " 0   shape             52461 non-null  object \n",
      " 1   original_price    52461 non-null  int64  \n",
      " 2   discounted_price  6796 non-null   float64\n",
      " 3   carat             52461 non-null  float64\n",
      " 4   cut               52461 non-null  object \n",
      " 5   color             52461 non-null  object \n",
      " 6   clarity           52461 non-null  object \n",
      " 7   polish            52461 non-null  object \n",
      " 8   symmetry          52461 non-null  object \n",
      " 9   fluorescence      52461 non-null  object \n",
      " 10  depth             52461 non-null  float64\n",
      " 11  table             52461 non-null  float64\n",
      " 12  lxwratio          52461 non-null  float64\n",
      " 13  culet             52461 non-null  object \n",
      "dtypes: float64(5), int64(1), object(8)\n",
      "memory usage: 6.0+ MB\n"
     ]
    }
   ],
   "source": [
    "df.info() #data types are as expected"
   ]
  },
  {
   "cell_type": "code",
   "execution_count": 530,
   "id": "smaller-attachment",
   "metadata": {},
   "outputs": [
    {
     "data": {
      "text/html": [
       "<div>\n",
       "<style scoped>\n",
       "    .dataframe tbody tr th:only-of-type {\n",
       "        vertical-align: middle;\n",
       "    }\n",
       "\n",
       "    .dataframe tbody tr th {\n",
       "        vertical-align: top;\n",
       "    }\n",
       "\n",
       "    .dataframe thead th {\n",
       "        text-align: right;\n",
       "    }\n",
       "</style>\n",
       "<table border=\"1\" class=\"dataframe\">\n",
       "  <thead>\n",
       "    <tr style=\"text-align: right;\">\n",
       "      <th></th>\n",
       "      <th>original_price</th>\n",
       "      <th>discounted_price</th>\n",
       "      <th>carat</th>\n",
       "      <th>depth</th>\n",
       "      <th>table</th>\n",
       "      <th>lxwratio</th>\n",
       "    </tr>\n",
       "  </thead>\n",
       "  <tbody>\n",
       "    <tr>\n",
       "      <th>count</th>\n",
       "      <td>5.246100e+04</td>\n",
       "      <td>6796.000000</td>\n",
       "      <td>52461.000000</td>\n",
       "      <td>52461.000000</td>\n",
       "      <td>52461.000000</td>\n",
       "      <td>52461.000000</td>\n",
       "    </tr>\n",
       "    <tr>\n",
       "      <th>mean</th>\n",
       "      <td>7.941095e+03</td>\n",
       "      <td>2758.761919</td>\n",
       "      <td>0.993874</td>\n",
       "      <td>66.088462</td>\n",
       "      <td>62.946719</td>\n",
       "      <td>1.308527</td>\n",
       "    </tr>\n",
       "    <tr>\n",
       "      <th>std</th>\n",
       "      <td>2.688281e+04</td>\n",
       "      <td>11111.163456</td>\n",
       "      <td>0.909858</td>\n",
       "      <td>4.517800</td>\n",
       "      <td>5.039816</td>\n",
       "      <td>0.236147</td>\n",
       "    </tr>\n",
       "    <tr>\n",
       "      <th>min</th>\n",
       "      <td>2.210000e+02</td>\n",
       "      <td>238.000000</td>\n",
       "      <td>0.230000</td>\n",
       "      <td>51.000000</td>\n",
       "      <td>51.000000</td>\n",
       "      <td>0.790000</td>\n",
       "    </tr>\n",
       "    <tr>\n",
       "      <th>25%</th>\n",
       "      <td>7.930000e+02</td>\n",
       "      <td>453.000000</td>\n",
       "      <td>0.400000</td>\n",
       "      <td>62.700000</td>\n",
       "      <td>59.000000</td>\n",
       "      <td>1.050000</td>\n",
       "    </tr>\n",
       "    <tr>\n",
       "      <th>50%</th>\n",
       "      <td>2.152000e+03</td>\n",
       "      <td>851.000000</td>\n",
       "      <td>0.710000</td>\n",
       "      <td>66.200000</td>\n",
       "      <td>62.000000</td>\n",
       "      <td>1.350000</td>\n",
       "    </tr>\n",
       "    <tr>\n",
       "      <th>75%</th>\n",
       "      <td>6.409000e+03</td>\n",
       "      <td>1817.000000</td>\n",
       "      <td>1.200000</td>\n",
       "      <td>68.900000</td>\n",
       "      <td>66.000000</td>\n",
       "      <td>1.440000</td>\n",
       "    </tr>\n",
       "    <tr>\n",
       "      <th>max</th>\n",
       "      <td>2.702260e+06</td>\n",
       "      <td>343853.000000</td>\n",
       "      <td>20.450000</td>\n",
       "      <td>80.000000</td>\n",
       "      <td>85.000000</td>\n",
       "      <td>3.370000</td>\n",
       "    </tr>\n",
       "  </tbody>\n",
       "</table>\n",
       "</div>"
      ],
      "text/plain": [
       "       original_price  discounted_price         carat         depth  \\\n",
       "count    5.246100e+04       6796.000000  52461.000000  52461.000000   \n",
       "mean     7.941095e+03       2758.761919      0.993874     66.088462   \n",
       "std      2.688281e+04      11111.163456      0.909858      4.517800   \n",
       "min      2.210000e+02        238.000000      0.230000     51.000000   \n",
       "25%      7.930000e+02        453.000000      0.400000     62.700000   \n",
       "50%      2.152000e+03        851.000000      0.710000     66.200000   \n",
       "75%      6.409000e+03       1817.000000      1.200000     68.900000   \n",
       "max      2.702260e+06     343853.000000     20.450000     80.000000   \n",
       "\n",
       "              table      lxwratio  \n",
       "count  52461.000000  52461.000000  \n",
       "mean      62.946719      1.308527  \n",
       "std        5.039816      0.236147  \n",
       "min       51.000000      0.790000  \n",
       "25%       59.000000      1.050000  \n",
       "50%       62.000000      1.350000  \n",
       "75%       66.000000      1.440000  \n",
       "max       85.000000      3.370000  "
      ]
     },
     "execution_count": 530,
     "metadata": {},
     "output_type": "execute_result"
    }
   ],
   "source": [
    "df.describe()"
   ]
  },
  {
   "cell_type": "code",
   "execution_count": 531,
   "id": "blessed-brunei",
   "metadata": {},
   "outputs": [],
   "source": [
    "#Astor Ideal and showing up as ealAstor - need to update\n",
    "df['cut'] = df['cut'].replace('ealAstor','Astor Ideal')"
   ]
  },
  {
   "cell_type": "code",
   "execution_count": 560,
   "id": "sorted-stuff",
   "metadata": {},
   "outputs": [
    {
     "data": {
      "image/png": "[encoded data removed]",
      "text/plain": [
       "<Figure size 720x720 with 6 Axes>"
      ]
     },
     "metadata": {
      "needs_background": "light"
     },
     "output_type": "display_data"
    }
   ],
   "source": [
    "df['log_price'] = np.log(df['original_price'])\n",
    "df.hist(figsize=(10,10),bins=30,grid=False);"
   ]
  },
  {
   "cell_type": "code",
   "execution_count": 534,
   "id": "ranking-native",
   "metadata": {},
   "outputs": [
    {
     "data": {
      "text/html": [
       "<div>\n",
       "<style scoped>\n",
       "    .dataframe tbody tr th:only-of-type {\n",
       "        vertical-align: middle;\n",
       "    }\n",
       "\n",
       "    .dataframe tbody tr th {\n",
       "        vertical-align: top;\n",
       "    }\n",
       "\n",
       "    .dataframe thead th {\n",
       "        text-align: right;\n",
       "    }\n",
       "</style>\n",
       "<table border=\"1\" class=\"dataframe\">\n",
       "  <thead>\n",
       "    <tr style=\"text-align: right;\">\n",
       "      <th></th>\n",
       "      <th>original_price</th>\n",
       "      <th>discounted_price</th>\n",
       "      <th>carat</th>\n",
       "      <th>depth</th>\n",
       "      <th>table</th>\n",
       "      <th>lxwratio</th>\n",
       "    </tr>\n",
       "  </thead>\n",
       "  <tbody>\n",
       "    <tr>\n",
       "      <th>original_price</th>\n",
       "      <td>1.000000</td>\n",
       "      <td>0.996543</td>\n",
       "      <td>0.750451</td>\n",
       "      <td>-0.001705</td>\n",
       "      <td>0.009492</td>\n",
       "      <td>-0.022267</td>\n",
       "    </tr>\n",
       "    <tr>\n",
       "      <th>discounted_price</th>\n",
       "      <td>0.996543</td>\n",
       "      <td>1.000000</td>\n",
       "      <td>0.821921</td>\n",
       "      <td>0.021983</td>\n",
       "      <td>0.024054</td>\n",
       "      <td>-0.041886</td>\n",
       "    </tr>\n",
       "    <tr>\n",
       "      <th>carat</th>\n",
       "      <td>0.750451</td>\n",
       "      <td>0.821921</td>\n",
       "      <td>1.000000</td>\n",
       "      <td>0.050836</td>\n",
       "      <td>0.015941</td>\n",
       "      <td>-0.111207</td>\n",
       "    </tr>\n",
       "    <tr>\n",
       "      <th>depth</th>\n",
       "      <td>-0.001705</td>\n",
       "      <td>0.021983</td>\n",
       "      <td>0.050836</td>\n",
       "      <td>1.000000</td>\n",
       "      <td>0.592803</td>\n",
       "      <td>-0.555673</td>\n",
       "    </tr>\n",
       "    <tr>\n",
       "      <th>table</th>\n",
       "      <td>0.009492</td>\n",
       "      <td>0.024054</td>\n",
       "      <td>0.015941</td>\n",
       "      <td>0.592803</td>\n",
       "      <td>1.000000</td>\n",
       "      <td>-0.446653</td>\n",
       "    </tr>\n",
       "    <tr>\n",
       "      <th>lxwratio</th>\n",
       "      <td>-0.022267</td>\n",
       "      <td>-0.041886</td>\n",
       "      <td>-0.111207</td>\n",
       "      <td>-0.555673</td>\n",
       "      <td>-0.446653</td>\n",
       "      <td>1.000000</td>\n",
       "    </tr>\n",
       "  </tbody>\n",
       "</table>\n",
       "</div>"
      ],
      "text/plain": [
       "                  original_price  discounted_price     carat     depth  \\\n",
       "original_price          1.000000          0.996543  0.750451 -0.001705   \n",
       "discounted_price        0.996543          1.000000  0.821921  0.021983   \n",
       "carat                   0.750451          0.821921  1.000000  0.050836   \n",
       "depth                  -0.001705          0.021983  0.050836  1.000000   \n",
       "table                   0.009492          0.024054  0.015941  0.592803   \n",
       "lxwratio               -0.022267         -0.041886 -0.111207 -0.555673   \n",
       "\n",
       "                     table  lxwratio  \n",
       "original_price    0.009492 -0.022267  \n",
       "discounted_price  0.024054 -0.041886  \n",
       "carat             0.015941 -0.111207  \n",
       "depth             0.592803 -0.555673  \n",
       "table             1.000000 -0.446653  \n",
       "lxwratio         -0.446653  1.000000  "
      ]
     },
     "execution_count": 534,
     "metadata": {},
     "output_type": "execute_result"
    }
   ],
   "source": [
    "df.corr()"
   ]
  },
  {
   "cell_type": "markdown",
   "id": "asian-sheffield",
   "metadata": {},
   "source": [
    "need to remove discounted price since we are trying to predict original price or else there might be data leakage - model will have the information you are trying to predict"
   ]
  },
  {
   "cell_type": "code",
   "execution_count": 535,
   "id": "judicial-period",
   "metadata": {},
   "outputs": [],
   "source": [
    "df.drop('discounted_price',axis =1,inplace = True)"
   ]
  },
  {
   "cell_type": "code",
   "execution_count": 536,
   "id": "domestic-unknown",
   "metadata": {},
   "outputs": [
    {
     "data": {
      "image/png": "[encoded data removed]",
      "text/plain": [
       "<Figure size 720x432 with 2 Axes>"
      ]
     },
     "metadata": {
      "needs_background": "light"
     },
     "output_type": "display_data"
    }
   ],
   "source": [
    "plt.figure(figsize=(10,6))\n",
    "heatmap = sns.heatmap(df.corr(),cmap = 'BrBG',annot = True)\n",
    "heatmap.set_title('Correlation Heatmap');"
   ]
  },
  {
   "cell_type": "code",
   "execution_count": 537,
   "id": "furnished-command",
   "metadata": {},
   "outputs": [
    {
     "data": {
      "image/png": "[encoded data removed]",
      "text/plain": [
       "<Figure size 720x432 with 2 Axes>"
      ]
     },
     "metadata": {
      "needs_background": "light"
     },
     "output_type": "display_data"
    }
   ],
   "source": [
    "plt.figure(figsize = (10,6))\n",
    "sns.heatmap(df.corr()[['original_price']],cmap = 'BrBG',annot=True);"
   ]
  },
  {
   "cell_type": "code",
   "execution_count": 561,
   "id": "offshore-sphere",
   "metadata": {},
   "outputs": [
    {
     "data": {
      "image/png": "[encoded data removed]",
      "text/plain": [
       "<Figure size 432x288 with 1 Axes>"
      ]
     },
     "metadata": {
      "needs_background": "light"
     },
     "output_type": "display_data"
    }
   ],
   "source": [
    "fig,ax = plt.subplots()\n",
    "ax.scatter(df.carat,np.log(df.original_price))\n",
    "ax.set_xlabel('Carats')\n",
    "ax.set_ylabel('Log of price');"
   ]
  },
  {
   "cell_type": "markdown",
   "id": "minus-england",
   "metadata": {},
   "source": [
    "Get a sense of categorical features with respect to target"
   ]
  },
  {
   "cell_type": "code",
   "execution_count": 559,
   "id": "prescription-dallas",
   "metadata": {},
   "outputs": [
    {
     "data": {
      "image/png": "[encoded data removed]",
      "text/plain": [
       "<Figure size 720x720 with 1 Axes>"
      ]
     },
     "metadata": {
      "needs_background": "light"
     },
     "output_type": "display_data"
    }
   ],
   "source": [
    "boxplot = df.boxplot(column=['log_price'],by='cut', figsize = (10,10), positions = [2,0,1] ,grid=False)"
   ]
  },
  {
   "cell_type": "code",
   "execution_count": 539,
   "id": "armed-charter",
   "metadata": {},
   "outputs": [
    {
     "data": {
      "image/png": "[encoded data removed]",
      "text/plain": [
       "<Figure size 720x720 with 1 Axes>"
      ]
     },
     "metadata": {
      "needs_background": "light"
     },
     "output_type": "display_data"
    }
   ],
   "source": [
    "df['log_price'] = np.log(df['original_price'])\n",
    "boxplot = df.boxplot(column=['log_price'],by='clarity', figsize = (10,10), grid=False)"
   ]
  },
  {
   "cell_type": "code",
   "execution_count": 540,
   "id": "dense-robertson",
   "metadata": {},
   "outputs": [
    {
     "data": {
      "image/png": "[encoded data removed]",
      "text/plain": [
       "<Figure size 720x720 with 1 Axes>"
      ]
     },
     "metadata": {
      "needs_background": "light"
     },
     "output_type": "display_data"
    }
   ],
   "source": [
    "boxplot = df.boxplot(column=['log_price'],by='color', figsize = (10,10), grid=False)"
   ]
  },
  {
   "cell_type": "code",
   "execution_count": 541,
   "id": "apart-origin",
   "metadata": {},
   "outputs": [
    {
     "data": {
      "image/png": "[encoded data removed]",
      "text/plain": [
       "<Figure size 432x288 with 1 Axes>"
      ]
     },
     "metadata": {
      "needs_background": "light"
     },
     "output_type": "display_data"
    }
   ],
   "source": [
    "sns.stripplot(data = df,\n",
    "              x='cut', y='original_price', \n",
    "              order = ['Good','Very Good','Astor Ideal'],\n",
    "              color = 'black', jitter=False);"
   ]
  },
  {
   "cell_type": "code",
   "execution_count": 542,
   "id": "quick-dealer",
   "metadata": {},
   "outputs": [
    {
     "data": {
      "image/png": "[encoded data removed]",
      "text/plain": [
       "<Figure size 432x288 with 1 Axes>"
      ]
     },
     "metadata": {
      "needs_background": "light"
     },
     "output_type": "display_data"
    }
   ],
   "source": [
    "sns.stripplot(data = df,\n",
    "              x='cut', y='carat', \n",
    "              order = ['Good','Very Good','Astor Ideal'],\n",
    "              color = 'black', jitter=False);"
   ]
  },
  {
   "cell_type": "code",
   "execution_count": 543,
   "id": "sustained-occurrence",
   "metadata": {},
   "outputs": [
    {
     "data": {
      "text/plain": [
       "0.009759630963954175"
      ]
     },
     "execution_count": 543,
     "metadata": {},
     "output_type": "execute_result"
    }
   ],
   "source": [
    "len(df[df.cut == 'Astor Ideal']['cut'])/df.shape[0] #less than one percent of diamonds are astor ideal"
   ]
  },
  {
   "cell_type": "code",
   "execution_count": 544,
   "id": "transsexual-reputation",
   "metadata": {},
   "outputs": [
    {
     "data": {
      "image/png": "[encoded data removed]",
      "text/plain": [
       "<Figure size 432x288 with 1 Axes>"
      ]
     },
     "metadata": {
      "needs_background": "light"
     },
     "output_type": "display_data"
    }
   ],
   "source": [
    "sns.stripplot(data = df,\n",
    "              x='clarity', y='original_price', \n",
    "              order = ['SI2','SI1','VS2','VS1','VVS2','VVS1','IF','FL'],\n",
    "              color = 'black', jitter=False);"
   ]
  },
  {
   "cell_type": "code",
   "execution_count": 545,
   "id": "adapted-scottish",
   "metadata": {},
   "outputs": [
    {
     "data": {
      "image/png": "[encoded data removed]",
      "text/plain": [
       "<Figure size 432x288 with 1 Axes>"
      ]
     },
     "metadata": {
      "needs_background": "light"
     },
     "output_type": "display_data"
    }
   ],
   "source": [
    "sns.stripplot(data = df,\n",
    "              x='color', y='original_price', \n",
    "              order = ['D', 'E','F','G','H','I','J','K'],\n",
    "              color = 'black', jitter=False);"
   ]
  },
  {
   "cell_type": "markdown",
   "id": "genetic-issue",
   "metadata": {},
   "source": [
    "## Linear Regression Model"
   ]
  },
  {
   "cell_type": "markdown",
   "id": "impossible-orlando",
   "metadata": {},
   "source": [
    "dummyize categorical features"
   ]
  },
  {
   "cell_type": "code",
   "execution_count": 914,
   "id": "cooperative-iraqi",
   "metadata": {},
   "outputs": [],
   "source": [
    "linreg = LinearRegression()\n",
    "\n",
    "X = df.drop(['original_price','log_price'],axis = 1)\n",
    "y = df.original_price\n",
    "X_train, X_test, y_train, y_test = train_test_split(X,y)"
   ]
  },
  {
   "cell_type": "markdown",
   "id": "enhanced-casting",
   "metadata": {},
   "source": [
    "Overfitting"
   ]
  },
  {
   "cell_type": "code",
   "execution_count": 1090,
   "id": "built-potential",
   "metadata": {},
   "outputs": [
    {
     "name": "stdout",
     "output_type": "stream",
     "text": [
      "Train RMSE: 13991.772864505207\n",
      "Test RMSE: 22757.429589645195\n"
     ]
    }
   ],
   "source": [
    "X_train_1 = pd.get_dummies(X_train)\n",
    "X_test_1 = pd.get_dummies(X_test)\n",
    "y_predicted_1 = linreg.fit(X_train_1,y_train).predict(X_test_1)\n",
    "print(f'Train RMSE: {-cross_val_score(linreg,X_train_1,y_train,scoring=\"neg_root_mean_squared_error\").mean()}')\n",
    "print(f'Test RMSE: {np.sqrt(mean_squared_error(y_test,y_predicted_1))}')"
   ]
  },
  {
   "cell_type": "code",
   "execution_count": 967,
   "id": "dominant-authorization",
   "metadata": {
    "scrolled": true
   },
   "outputs": [
    {
     "name": "stdout",
     "output_type": "stream",
     "text": [
      "Train RMSE: 14397.16472597673\n",
      "Test RMSE: 23182.84927866591\n"
     ]
    }
   ],
   "source": [
    "X_train_2 = X_train[['carat','cut','clarity', 'color']]\n",
    "X_train_2 = pd.get_dummies(X_train_2)\n",
    "X_test_2 = X_test[['carat','cut','clarity', 'color']]\n",
    "X_test_2 = pd.get_dummies(X_test_2)\n",
    "y_predicted_2 = linreg.fit(X_train_2,y_train).predict(X_test_2)\n",
    "print(f'Train RMSE: {-cross_val_score(linreg,X_train_2,y_train,scoring=\"neg_root_mean_squared_error\").mean()}')\n",
    "print(f'Test RMSE: {np.sqrt(mean_squared_error(y_test,y_predicted_2))}')"
   ]
  },
  {
   "cell_type": "markdown",
   "id": "alive-stranger",
   "metadata": {},
   "source": [
    "The plot below exhibits “heteroscedasticity,” meaning that the residuals get larger as the prediction moves from small to large (or from large to small)."
   ]
  },
  {
   "cell_type": "code",
   "execution_count": 946,
   "id": "worldwide-grounds",
   "metadata": {},
   "outputs": [
    {
     "data": {
      "image/png": "[encoded data removed]",
      "text/plain": [
       "<Figure size 432x288 with 1 Axes>"
      ]
     },
     "metadata": {
      "needs_background": "light"
     },
     "output_type": "display_data"
    }
   ],
   "source": [
    "predicted = linreg.fit(X_train_1,y_train).predict(X_test_1)\n",
    "residuals = y_test - predicted\n",
    "\n",
    "fig,ax = plt.subplots()\n",
    "ax.scatter(predicted,residuals)\n",
    "plt.axhline(y=0, color = 'r')\n",
    "ax.set_xlabel('Predicted Prices')\n",
    "ax.set_ylabel('Residuals');"
   ]
  },
  {
   "cell_type": "code",
   "execution_count": 1082,
   "id": "abroad-fellow",
   "metadata": {},
   "outputs": [
    {
     "data": {
      "text/plain": [
       "array([23716.36765965,   267.95612346,   251.61249861,  2439.70553589,\n",
       "        2414.19355204,  2626.28453105,  3036.16493391,   843.40325888,\n",
       "         182.39458053,  1235.05099849,   649.23323542,  6267.31266428,\n",
       "        2651.38391263,  4502.32382359,  2815.56992819,  1686.7538954 ,\n",
       "        5143.27982548,  4526.84373685,  3463.77646424,  1527.95267445,\n",
       "         201.0825391 ,  2216.1586337 ,  4707.34592484,  7939.43068158,\n",
       "       44421.37384322,  3824.56345258,  7434.89264521, 10609.63279203,\n",
       "        5578.87534883,  6969.41234927,  4819.52781258,  5184.46944272,\n",
       "         522.39791499,    81.5092205 ,   603.90713549,  2409.44645232,\n",
       "        1404.18529073,  1005.26116159,  3197.14313704,  3477.04802715,\n",
       "        1550.12664219,   488.64168415,  1004.97975954,  3810.45203897,\n",
       "        1035.19175553,  1019.68291575,  2578.63014887,  7917.60310059,\n",
       "         407.77998094,  3041.66756622,   403.29023196,  5286.86234058,\n",
       "         837.36270239,   720.73892816,  1498.1633567 ])"
      ]
     },
     "execution_count": 1082,
     "metadata": {},
     "output_type": "execute_result"
    }
   ],
   "source": [
    "scaler = StandardScaler()\n",
    "scaler.fit(X_train_1)\n",
    "X_train_s = scaler.transform(X_train_1)\n",
    "linreg.fit(X_train_1,y_train)\n",
    "\n",
    "np.abs(linreg.coef_)"
   ]
  },
  {
   "cell_type": "code",
   "execution_count": 925,
   "id": "funded-might",
   "metadata": {},
   "outputs": [
    {
     "data": {
      "text/html": [
       "<div>\n",
       "<style scoped>\n",
       "    .dataframe tbody tr th:only-of-type {\n",
       "        vertical-align: middle;\n",
       "    }\n",
       "\n",
       "    .dataframe tbody tr th {\n",
       "        vertical-align: top;\n",
       "    }\n",
       "\n",
       "    .dataframe thead th {\n",
       "        text-align: right;\n",
       "    }\n",
       "</style>\n",
       "<table border=\"1\" class=\"dataframe\">\n",
       "  <thead>\n",
       "    <tr style=\"text-align: right;\">\n",
       "      <th></th>\n",
       "      <th>features</th>\n",
       "      <th>coefs</th>\n",
       "    </tr>\n",
       "  </thead>\n",
       "  <tbody>\n",
       "    <tr>\n",
       "      <th>24</th>\n",
       "      <td>clarity_FL</td>\n",
       "      <td>44421.373843</td>\n",
       "    </tr>\n",
       "    <tr>\n",
       "      <th>0</th>\n",
       "      <td>carat</td>\n",
       "      <td>23716.367660</td>\n",
       "    </tr>\n",
       "    <tr>\n",
       "      <th>27</th>\n",
       "      <td>clarity_SI2</td>\n",
       "      <td>10609.632792</td>\n",
       "    </tr>\n",
       "    <tr>\n",
       "      <th>23</th>\n",
       "      <td>color_K</td>\n",
       "      <td>7939.430682</td>\n",
       "    </tr>\n",
       "    <tr>\n",
       "      <th>47</th>\n",
       "      <td>fluorescence_Very Strong Blue</td>\n",
       "      <td>7917.603101</td>\n",
       "    </tr>\n",
       "    <tr>\n",
       "      <th>26</th>\n",
       "      <td>clarity_SI1</td>\n",
       "      <td>7434.892645</td>\n",
       "    </tr>\n",
       "    <tr>\n",
       "      <th>29</th>\n",
       "      <td>clarity_VS2</td>\n",
       "      <td>6969.412349</td>\n",
       "    </tr>\n",
       "    <tr>\n",
       "      <th>11</th>\n",
       "      <td>shape_Princess</td>\n",
       "      <td>6267.312664</td>\n",
       "    </tr>\n",
       "    <tr>\n",
       "      <th>28</th>\n",
       "      <td>clarity_VS1</td>\n",
       "      <td>5578.875349</td>\n",
       "    </tr>\n",
       "    <tr>\n",
       "      <th>51</th>\n",
       "      <td>culet_Pointed</td>\n",
       "      <td>5286.862341</td>\n",
       "    </tr>\n",
       "    <tr>\n",
       "      <th>31</th>\n",
       "      <td>clarity_VVS2</td>\n",
       "      <td>5184.469443</td>\n",
       "    </tr>\n",
       "    <tr>\n",
       "      <th>16</th>\n",
       "      <td>color_D</td>\n",
       "      <td>5143.279825</td>\n",
       "    </tr>\n",
       "    <tr>\n",
       "      <th>30</th>\n",
       "      <td>clarity_VVS1</td>\n",
       "      <td>4819.527813</td>\n",
       "    </tr>\n",
       "    <tr>\n",
       "      <th>22</th>\n",
       "      <td>color_J</td>\n",
       "      <td>4707.345925</td>\n",
       "    </tr>\n",
       "    <tr>\n",
       "      <th>17</th>\n",
       "      <td>color_E</td>\n",
       "      <td>4526.843737</td>\n",
       "    </tr>\n",
       "    <tr>\n",
       "      <th>13</th>\n",
       "      <td>cut_Astor Ideal</td>\n",
       "      <td>4502.323824</td>\n",
       "    </tr>\n",
       "    <tr>\n",
       "      <th>25</th>\n",
       "      <td>clarity_IF</td>\n",
       "      <td>3824.563453</td>\n",
       "    </tr>\n",
       "    <tr>\n",
       "      <th>43</th>\n",
       "      <td>fluorescence_None</td>\n",
       "      <td>3810.452039</td>\n",
       "    </tr>\n",
       "    <tr>\n",
       "      <th>39</th>\n",
       "      <td>fluorescence_Faint Blue</td>\n",
       "      <td>3477.048027</td>\n",
       "    </tr>\n",
       "    <tr>\n",
       "      <th>18</th>\n",
       "      <td>color_F</td>\n",
       "      <td>3463.776464</td>\n",
       "    </tr>\n",
       "    <tr>\n",
       "      <th>38</th>\n",
       "      <td>fluorescence_Faint</td>\n",
       "      <td>3197.143137</td>\n",
       "    </tr>\n",
       "    <tr>\n",
       "      <th>49</th>\n",
       "      <td>culet_Medium</td>\n",
       "      <td>3041.667566</td>\n",
       "    </tr>\n",
       "    <tr>\n",
       "      <th>6</th>\n",
       "      <td>shape_Emerald</td>\n",
       "      <td>3036.164934</td>\n",
       "    </tr>\n",
       "    <tr>\n",
       "      <th>14</th>\n",
       "      <td>cut_Good</td>\n",
       "      <td>2815.569928</td>\n",
       "    </tr>\n",
       "    <tr>\n",
       "      <th>12</th>\n",
       "      <td>shape_Radiant</td>\n",
       "      <td>2651.383913</td>\n",
       "    </tr>\n",
       "    <tr>\n",
       "      <th>5</th>\n",
       "      <td>shape_Cushion</td>\n",
       "      <td>2626.284531</td>\n",
       "    </tr>\n",
       "    <tr>\n",
       "      <th>46</th>\n",
       "      <td>fluorescence_Very Strong</td>\n",
       "      <td>2578.630149</td>\n",
       "    </tr>\n",
       "    <tr>\n",
       "      <th>3</th>\n",
       "      <td>lxwratio</td>\n",
       "      <td>2439.705536</td>\n",
       "    </tr>\n",
       "    <tr>\n",
       "      <th>4</th>\n",
       "      <td>shape_Asscher</td>\n",
       "      <td>2414.193552</td>\n",
       "    </tr>\n",
       "    <tr>\n",
       "      <th>35</th>\n",
       "      <td>symmetry_Excellent</td>\n",
       "      <td>2409.446452</td>\n",
       "    </tr>\n",
       "    <tr>\n",
       "      <th>21</th>\n",
       "      <td>color_I</td>\n",
       "      <td>2216.158634</td>\n",
       "    </tr>\n",
       "    <tr>\n",
       "      <th>15</th>\n",
       "      <td>cut_Very Good</td>\n",
       "      <td>1686.753895</td>\n",
       "    </tr>\n",
       "    <tr>\n",
       "      <th>40</th>\n",
       "      <td>fluorescence_Medium</td>\n",
       "      <td>1550.126642</td>\n",
       "    </tr>\n",
       "    <tr>\n",
       "      <th>19</th>\n",
       "      <td>color_G</td>\n",
       "      <td>1527.952674</td>\n",
       "    </tr>\n",
       "    <tr>\n",
       "      <th>54</th>\n",
       "      <td>culet_Very Small</td>\n",
       "      <td>1498.163357</td>\n",
       "    </tr>\n",
       "    <tr>\n",
       "      <th>36</th>\n",
       "      <td>symmetry_Good</td>\n",
       "      <td>1404.185291</td>\n",
       "    </tr>\n",
       "    <tr>\n",
       "      <th>9</th>\n",
       "      <td>shape_Oval</td>\n",
       "      <td>1235.050998</td>\n",
       "    </tr>\n",
       "    <tr>\n",
       "      <th>44</th>\n",
       "      <td>fluorescence_Strong</td>\n",
       "      <td>1035.191756</td>\n",
       "    </tr>\n",
       "    <tr>\n",
       "      <th>45</th>\n",
       "      <td>fluorescence_Strong Blue</td>\n",
       "      <td>1019.682916</td>\n",
       "    </tr>\n",
       "    <tr>\n",
       "      <th>37</th>\n",
       "      <td>symmetry_Very Good</td>\n",
       "      <td>1005.261162</td>\n",
       "    </tr>\n",
       "    <tr>\n",
       "      <th>42</th>\n",
       "      <td>fluorescence_Medium Yellow</td>\n",
       "      <td>1004.979760</td>\n",
       "    </tr>\n",
       "    <tr>\n",
       "      <th>7</th>\n",
       "      <td>shape_Heart</td>\n",
       "      <td>843.403259</td>\n",
       "    </tr>\n",
       "    <tr>\n",
       "      <th>52</th>\n",
       "      <td>culet_Slightly Large</td>\n",
       "      <td>837.362702</td>\n",
       "    </tr>\n",
       "    <tr>\n",
       "      <th>53</th>\n",
       "      <td>culet_Small</td>\n",
       "      <td>720.738928</td>\n",
       "    </tr>\n",
       "    <tr>\n",
       "      <th>10</th>\n",
       "      <td>shape_Pear</td>\n",
       "      <td>649.233235</td>\n",
       "    </tr>\n",
       "    <tr>\n",
       "      <th>34</th>\n",
       "      <td>polish_Very Good</td>\n",
       "      <td>603.907135</td>\n",
       "    </tr>\n",
       "    <tr>\n",
       "      <th>32</th>\n",
       "      <td>polish_Excellent</td>\n",
       "      <td>522.397915</td>\n",
       "    </tr>\n",
       "    <tr>\n",
       "      <th>41</th>\n",
       "      <td>fluorescence_Medium Blue</td>\n",
       "      <td>488.641684</td>\n",
       "    </tr>\n",
       "    <tr>\n",
       "      <th>48</th>\n",
       "      <td>culet_Large</td>\n",
       "      <td>407.779981</td>\n",
       "    </tr>\n",
       "    <tr>\n",
       "      <th>50</th>\n",
       "      <td>culet_None</td>\n",
       "      <td>403.290232</td>\n",
       "    </tr>\n",
       "    <tr>\n",
       "      <th>1</th>\n",
       "      <td>depth</td>\n",
       "      <td>267.956123</td>\n",
       "    </tr>\n",
       "    <tr>\n",
       "      <th>2</th>\n",
       "      <td>table</td>\n",
       "      <td>251.612499</td>\n",
       "    </tr>\n",
       "    <tr>\n",
       "      <th>20</th>\n",
       "      <td>color_H</td>\n",
       "      <td>201.082539</td>\n",
       "    </tr>\n",
       "    <tr>\n",
       "      <th>8</th>\n",
       "      <td>shape_Marquise</td>\n",
       "      <td>182.394581</td>\n",
       "    </tr>\n",
       "    <tr>\n",
       "      <th>33</th>\n",
       "      <td>polish_Good</td>\n",
       "      <td>81.509220</td>\n",
       "    </tr>\n",
       "  </tbody>\n",
       "</table>\n",
       "</div>"
      ],
      "text/plain": [
       "                         features         coefs\n",
       "24                     clarity_FL  44421.373843\n",
       "0                           carat  23716.367660\n",
       "27                    clarity_SI2  10609.632792\n",
       "23                        color_K   7939.430682\n",
       "47  fluorescence_Very Strong Blue   7917.603101\n",
       "26                    clarity_SI1   7434.892645\n",
       "29                    clarity_VS2   6969.412349\n",
       "11                 shape_Princess   6267.312664\n",
       "28                    clarity_VS1   5578.875349\n",
       "51                  culet_Pointed   5286.862341\n",
       "31                   clarity_VVS2   5184.469443\n",
       "16                        color_D   5143.279825\n",
       "30                   clarity_VVS1   4819.527813\n",
       "22                        color_J   4707.345925\n",
       "17                        color_E   4526.843737\n",
       "13                cut_Astor Ideal   4502.323824\n",
       "25                     clarity_IF   3824.563453\n",
       "43              fluorescence_None   3810.452039\n",
       "39        fluorescence_Faint Blue   3477.048027\n",
       "18                        color_F   3463.776464\n",
       "38             fluorescence_Faint   3197.143137\n",
       "49                   culet_Medium   3041.667566\n",
       "6                   shape_Emerald   3036.164934\n",
       "14                       cut_Good   2815.569928\n",
       "12                  shape_Radiant   2651.383913\n",
       "5                   shape_Cushion   2626.284531\n",
       "46       fluorescence_Very Strong   2578.630149\n",
       "3                        lxwratio   2439.705536\n",
       "4                   shape_Asscher   2414.193552\n",
       "35             symmetry_Excellent   2409.446452\n",
       "21                        color_I   2216.158634\n",
       "15                  cut_Very Good   1686.753895\n",
       "40            fluorescence_Medium   1550.126642\n",
       "19                        color_G   1527.952674\n",
       "54               culet_Very Small   1498.163357\n",
       "36                  symmetry_Good   1404.185291\n",
       "9                      shape_Oval   1235.050998\n",
       "44            fluorescence_Strong   1035.191756\n",
       "45       fluorescence_Strong Blue   1019.682916\n",
       "37             symmetry_Very Good   1005.261162\n",
       "42     fluorescence_Medium Yellow   1004.979760\n",
       "7                     shape_Heart    843.403259\n",
       "52           culet_Slightly Large    837.362702\n",
       "53                    culet_Small    720.738928\n",
       "10                     shape_Pear    649.233235\n",
       "34               polish_Very Good    603.907135\n",
       "32               polish_Excellent    522.397915\n",
       "41       fluorescence_Medium Blue    488.641684\n",
       "48                    culet_Large    407.779981\n",
       "50                     culet_None    403.290232\n",
       "1                           depth    267.956123\n",
       "2                           table    251.612499\n",
       "20                        color_H    201.082539\n",
       "8                  shape_Marquise    182.394581\n",
       "33                    polish_Good     81.509220"
      ]
     },
     "execution_count": 925,
     "metadata": {},
     "output_type": "execute_result"
    }
   ],
   "source": [
    "coefficients = pd.concat([pd.DataFrame(X_train_1.columns, columns = ['features']),pd.DataFrame(np.transpose(np.abs(linreg.coef_)),columns = ['coefs'])], axis = 1)\n",
    "coefficients.sort_values(by=['coefs'],ascending=False)"
   ]
  },
  {
   "cell_type": "markdown",
   "id": "peripheral-installation",
   "metadata": {},
   "source": [
    "## Regularized Regression"
   ]
  },
  {
   "cell_type": "code",
   "execution_count": 1148,
   "id": "north-surname",
   "metadata": {},
   "outputs": [
    {
     "name": "stderr",
     "output_type": "stream",
     "text": [
      "/opt/anaconda3/lib/python3.7/site-packages/sklearn/linear_model/_coordinate_descent.py:532: ConvergenceWarning: Objective did not converge. You might want to increase the number of iterations. Duality gap: 194994882645.69727, tolerance: 2421621095.495268\n",
      "  positive)\n",
      "/opt/anaconda3/lib/python3.7/site-packages/sklearn/linear_model/_coordinate_descent.py:532: ConvergenceWarning: Objective did not converge. You might want to increase the number of iterations. Duality gap: 64490015626.09277, tolerance: 2421621095.495268\n",
      "  positive)\n"
     ]
    },
    {
     "data": {
      "text/html": [
       "<div>\n",
       "<style scoped>\n",
       "    .dataframe tbody tr th:only-of-type {\n",
       "        vertical-align: middle;\n",
       "    }\n",
       "\n",
       "    .dataframe tbody tr th {\n",
       "        vertical-align: top;\n",
       "    }\n",
       "\n",
       "    .dataframe thead th {\n",
       "        text-align: right;\n",
       "    }\n",
       "</style>\n",
       "<table border=\"1\" class=\"dataframe\">\n",
       "  <thead>\n",
       "    <tr style=\"text-align: right;\">\n",
       "      <th></th>\n",
       "      <th>feature</th>\n",
       "      <th>0.01</th>\n",
       "      <th>0.5</th>\n",
       "      <th>5</th>\n",
       "      <th>10</th>\n",
       "      <th>15</th>\n",
       "      <th>50</th>\n",
       "      <th>80</th>\n",
       "    </tr>\n",
       "  </thead>\n",
       "  <tbody>\n",
       "    <tr>\n",
       "      <th>0</th>\n",
       "      <td>carat</td>\n",
       "      <td>20248.665947</td>\n",
       "      <td>20247.888290</td>\n",
       "      <td>20240.141251</td>\n",
       "      <td>20231.603473</td>\n",
       "      <td>20223.067107</td>\n",
       "      <td>20163.607186</td>\n",
       "      <td>20112.335694</td>\n",
       "    </tr>\n",
       "    <tr>\n",
       "      <th>1</th>\n",
       "      <td>cut_Astor Ideal</td>\n",
       "      <td>299.920895</td>\n",
       "      <td>298.270901</td>\n",
       "      <td>293.412115</td>\n",
       "      <td>288.041161</td>\n",
       "      <td>282.667136</td>\n",
       "      <td>245.139133</td>\n",
       "      <td>212.826812</td>\n",
       "    </tr>\n",
       "    <tr>\n",
       "      <th>2</th>\n",
       "      <td>cut_Good</td>\n",
       "      <td>-657.271824</td>\n",
       "      <td>-661.086370</td>\n",
       "      <td>-657.476377</td>\n",
       "      <td>-653.450667</td>\n",
       "      <td>-649.427310</td>\n",
       "      <td>-621.221680</td>\n",
       "      <td>-597.126951</td>\n",
       "    </tr>\n",
       "    <tr>\n",
       "      <th>3</th>\n",
       "      <td>cut_Very Good</td>\n",
       "      <td>4.323987</td>\n",
       "      <td>0.000000</td>\n",
       "      <td>0.000000</td>\n",
       "      <td>0.000000</td>\n",
       "      <td>0.000000</td>\n",
       "      <td>0.000000</td>\n",
       "      <td>0.000000</td>\n",
       "    </tr>\n",
       "    <tr>\n",
       "      <th>4</th>\n",
       "      <td>clarity_FL</td>\n",
       "      <td>2365.807612</td>\n",
       "      <td>2357.265221</td>\n",
       "      <td>2340.051429</td>\n",
       "      <td>2336.204528</td>\n",
       "      <td>2332.340309</td>\n",
       "      <td>2305.165893</td>\n",
       "      <td>2281.754894</td>\n",
       "    </tr>\n",
       "    <tr>\n",
       "      <th>5</th>\n",
       "      <td>clarity_IF</td>\n",
       "      <td>528.798671</td>\n",
       "      <td>494.356806</td>\n",
       "      <td>433.931614</td>\n",
       "      <td>430.802217</td>\n",
       "      <td>427.602826</td>\n",
       "      <td>404.925839</td>\n",
       "      <td>384.761119</td>\n",
       "    </tr>\n",
       "    <tr>\n",
       "      <th>6</th>\n",
       "      <td>clarity_SI1</td>\n",
       "      <td>-460.197890</td>\n",
       "      <td>-533.066899</td>\n",
       "      <td>-651.538608</td>\n",
       "      <td>-645.249900</td>\n",
       "      <td>-639.091530</td>\n",
       "      <td>-596.247559</td>\n",
       "      <td>-561.164503</td>\n",
       "    </tr>\n",
       "    <tr>\n",
       "      <th>7</th>\n",
       "      <td>clarity_SI2</td>\n",
       "      <td>-1416.630827</td>\n",
       "      <td>-1473.665575</td>\n",
       "      <td>-1565.905292</td>\n",
       "      <td>-1560.280747</td>\n",
       "      <td>-1554.750362</td>\n",
       "      <td>-1516.149350</td>\n",
       "      <td>-1484.335762</td>\n",
       "    </tr>\n",
       "    <tr>\n",
       "      <th>8</th>\n",
       "      <td>clarity_VS1</td>\n",
       "      <td>187.436167</td>\n",
       "      <td>117.552568</td>\n",
       "      <td>0.000000</td>\n",
       "      <td>0.000000</td>\n",
       "      <td>0.000000</td>\n",
       "      <td>0.000000</td>\n",
       "      <td>0.000000</td>\n",
       "    </tr>\n",
       "    <tr>\n",
       "      <th>9</th>\n",
       "      <td>clarity_VS2</td>\n",
       "      <td>-343.764775</td>\n",
       "      <td>-411.637129</td>\n",
       "      <td>-521.302929</td>\n",
       "      <td>-514.643232</td>\n",
       "      <td>-508.083487</td>\n",
       "      <td>-462.369343</td>\n",
       "      <td>-424.442616</td>\n",
       "    </tr>\n",
       "    <tr>\n",
       "      <th>10</th>\n",
       "      <td>clarity_VVS1</td>\n",
       "      <td>366.359382</td>\n",
       "      <td>310.566857</td>\n",
       "      <td>214.498552</td>\n",
       "      <td>211.869137</td>\n",
       "      <td>209.164116</td>\n",
       "      <td>190.048511</td>\n",
       "      <td>172.741898</td>\n",
       "    </tr>\n",
       "    <tr>\n",
       "      <th>11</th>\n",
       "      <td>clarity_VVS2</td>\n",
       "      <td>323.783448</td>\n",
       "      <td>264.861669</td>\n",
       "      <td>163.684697</td>\n",
       "      <td>161.230129</td>\n",
       "      <td>158.701714</td>\n",
       "      <td>140.786360</td>\n",
       "      <td>124.574610</td>\n",
       "    </tr>\n",
       "    <tr>\n",
       "      <th>12</th>\n",
       "      <td>color_D</td>\n",
       "      <td>2299.551115</td>\n",
       "      <td>1972.072412</td>\n",
       "      <td>1640.484254</td>\n",
       "      <td>1634.044023</td>\n",
       "      <td>1627.629671</td>\n",
       "      <td>1585.908368</td>\n",
       "      <td>1547.009689</td>\n",
       "    </tr>\n",
       "    <tr>\n",
       "      <th>13</th>\n",
       "      <td>color_E</td>\n",
       "      <td>1939.414097</td>\n",
       "      <td>1626.390959</td>\n",
       "      <td>1308.413576</td>\n",
       "      <td>1300.834452</td>\n",
       "      <td>1293.281060</td>\n",
       "      <td>1243.193635</td>\n",
       "      <td>1197.556899</td>\n",
       "    </tr>\n",
       "    <tr>\n",
       "      <th>14</th>\n",
       "      <td>color_F</td>\n",
       "      <td>1367.424494</td>\n",
       "      <td>1072.596003</td>\n",
       "      <td>773.110758</td>\n",
       "      <td>765.863933</td>\n",
       "      <td>758.642867</td>\n",
       "      <td>710.530887</td>\n",
       "      <td>666.976300</td>\n",
       "    </tr>\n",
       "    <tr>\n",
       "      <th>15</th>\n",
       "      <td>color_G</td>\n",
       "      <td>550.187011</td>\n",
       "      <td>273.853451</td>\n",
       "      <td>-0.000000</td>\n",
       "      <td>-0.000000</td>\n",
       "      <td>-0.000000</td>\n",
       "      <td>-0.000000</td>\n",
       "      <td>-0.000000</td>\n",
       "    </tr>\n",
       "    <tr>\n",
       "      <th>16</th>\n",
       "      <td>color_H</td>\n",
       "      <td>88.280927</td>\n",
       "      <td>-148.123117</td>\n",
       "      <td>-381.413501</td>\n",
       "      <td>-378.794443</td>\n",
       "      <td>-376.156456</td>\n",
       "      <td>-355.842899</td>\n",
       "      <td>-340.197149</td>\n",
       "    </tr>\n",
       "    <tr>\n",
       "      <th>17</th>\n",
       "      <td>color_I</td>\n",
       "      <td>-628.770292</td>\n",
       "      <td>-851.513458</td>\n",
       "      <td>-1071.022123</td>\n",
       "      <td>-1068.247348</td>\n",
       "      <td>-1065.454590</td>\n",
       "      <td>-1044.235354</td>\n",
       "      <td>-1027.630497</td>\n",
       "    </tr>\n",
       "    <tr>\n",
       "      <th>18</th>\n",
       "      <td>color_J</td>\n",
       "      <td>-1113.857248</td>\n",
       "      <td>-1302.965636</td>\n",
       "      <td>-1488.462374</td>\n",
       "      <td>-1485.052960</td>\n",
       "      <td>-1481.629437</td>\n",
       "      <td>-1456.293856</td>\n",
       "      <td>-1435.886915</td>\n",
       "    </tr>\n",
       "    <tr>\n",
       "      <th>19</th>\n",
       "      <td>color_K</td>\n",
       "      <td>-1269.076496</td>\n",
       "      <td>-1397.297330</td>\n",
       "      <td>-1521.704703</td>\n",
       "      <td>-1517.706075</td>\n",
       "      <td>-1513.697324</td>\n",
       "      <td>-1484.722363</td>\n",
       "      <td>-1460.748572</td>\n",
       "    </tr>\n",
       "  </tbody>\n",
       "</table>\n",
       "</div>"
      ],
      "text/plain": [
       "            feature          0.01           0.5             5            10  \\\n",
       "0             carat  20248.665947  20247.888290  20240.141251  20231.603473   \n",
       "1   cut_Astor Ideal    299.920895    298.270901    293.412115    288.041161   \n",
       "2          cut_Good   -657.271824   -661.086370   -657.476377   -653.450667   \n",
       "3     cut_Very Good      4.323987      0.000000      0.000000      0.000000   \n",
       "4        clarity_FL   2365.807612   2357.265221   2340.051429   2336.204528   \n",
       "5        clarity_IF    528.798671    494.356806    433.931614    430.802217   \n",
       "6       clarity_SI1   -460.197890   -533.066899   -651.538608   -645.249900   \n",
       "7       clarity_SI2  -1416.630827  -1473.665575  -1565.905292  -1560.280747   \n",
       "8       clarity_VS1    187.436167    117.552568      0.000000      0.000000   \n",
       "9       clarity_VS2   -343.764775   -411.637129   -521.302929   -514.643232   \n",
       "10     clarity_VVS1    366.359382    310.566857    214.498552    211.869137   \n",
       "11     clarity_VVS2    323.783448    264.861669    163.684697    161.230129   \n",
       "12          color_D   2299.551115   1972.072412   1640.484254   1634.044023   \n",
       "13          color_E   1939.414097   1626.390959   1308.413576   1300.834452   \n",
       "14          color_F   1367.424494   1072.596003    773.110758    765.863933   \n",
       "15          color_G    550.187011    273.853451     -0.000000     -0.000000   \n",
       "16          color_H     88.280927   -148.123117   -381.413501   -378.794443   \n",
       "17          color_I   -628.770292   -851.513458  -1071.022123  -1068.247348   \n",
       "18          color_J  -1113.857248  -1302.965636  -1488.462374  -1485.052960   \n",
       "19          color_K  -1269.076496  -1397.297330  -1521.704703  -1517.706075   \n",
       "\n",
       "              15            50            80  \n",
       "0   20223.067107  20163.607186  20112.335694  \n",
       "1     282.667136    245.139133    212.826812  \n",
       "2    -649.427310   -621.221680   -597.126951  \n",
       "3       0.000000      0.000000      0.000000  \n",
       "4    2332.340309   2305.165893   2281.754894  \n",
       "5     427.602826    404.925839    384.761119  \n",
       "6    -639.091530   -596.247559   -561.164503  \n",
       "7   -1554.750362  -1516.149350  -1484.335762  \n",
       "8       0.000000      0.000000      0.000000  \n",
       "9    -508.083487   -462.369343   -424.442616  \n",
       "10    209.164116    190.048511    172.741898  \n",
       "11    158.701714    140.786360    124.574610  \n",
       "12   1627.629671   1585.908368   1547.009689  \n",
       "13   1293.281060   1243.193635   1197.556899  \n",
       "14    758.642867    710.530887    666.976300  \n",
       "15     -0.000000     -0.000000     -0.000000  \n",
       "16   -376.156456   -355.842899   -340.197149  \n",
       "17  -1065.454590  -1044.235354  -1027.630497  \n",
       "18  -1481.629437  -1456.293856  -1435.886915  \n",
       "19  -1513.697324  -1484.722363  -1460.748572  "
      ]
     },
     "execution_count": 1148,
     "metadata": {},
     "output_type": "execute_result"
    }
   ],
   "source": [
    "scaler = StandardScaler()\n",
    "scaler.fit(X_train_2)\n",
    "X_train_s = scaler.transform(X_train_2)\n",
    "X_test_s = scaler.transform(X_test_2)\n",
    "\n",
    "lasso_df = pd.DataFrame()\n",
    "lasso_df['feature'] = X_train_2.columns\n",
    "alphas = [0.01, .5, 5, 10, 15, 50,80]\n",
    "for alpha in alphas:\n",
    "    lasso = Lasso(alpha=alpha).fit(X_train_s,y_train)\n",
    "    column_name = alpha\n",
    "    lasso_df[column_name] = lasso.coef_\n",
    "\n",
    "lasso_df\n"
   ]
  },
  {
   "cell_type": "markdown",
   "id": "adjusted-heater",
   "metadata": {},
   "source": [
    "## Random Forest"
   ]
  },
  {
   "cell_type": "markdown",
   "id": "formed-calvin",
   "metadata": {},
   "source": [
    "Overfitting"
   ]
  },
  {
   "cell_type": "code",
   "execution_count": 968,
   "id": "dutch-filter",
   "metadata": {},
   "outputs": [
    {
     "name": "stdout",
     "output_type": "stream",
     "text": [
      "Train RMSE: 7289.144366351492\n",
      "Test RMSE: 18537.17613474698\n"
     ]
    }
   ],
   "source": [
    "#using all features\n",
    "rf= RandomForestRegressor(n_jobs=-1).fit(X_train_1,y_train)\n",
    "print(f'Train RMSE: {-cross_val_score(rf,X_train_1,y_train, scoring=\"neg_root_mean_squared_error\").mean()}')\n",
    "print(f'Test RMSE: {np.sqrt(mean_squared_error(y_test,rf.predict(X_test_1)))}')"
   ]
  },
  {
   "cell_type": "code",
   "execution_count": 1070,
   "id": "artistic-server",
   "metadata": {},
   "outputs": [
    {
     "name": "stdout",
     "output_type": "stream",
     "text": [
      "Train RMSE: 6694.9343785587935\n",
      "Test RMSE: 18279.272717774107\n"
     ]
    }
   ],
   "source": [
    "#remove features/only using 4c's - improved but still overfitting to training data\n",
    "rf= RandomForestRegressor(n_jobs=-1).fit(X_train_2,y_train)\n",
    "print(f'Train RMSE: {-cross_val_score(rf,X_train_2,y_train, scoring=\"neg_root_mean_squared_error\").mean()}')\n",
    "print(f'Test RMSE: {np.sqrt(mean_squared_error(y_test,rf.predict(X_test_2)))}')"
   ]
  },
  {
   "cell_type": "code",
   "execution_count": 1071,
   "id": "miniature-harassment",
   "metadata": {},
   "outputs": [
    {
     "data": {
      "image/png": "[encoded data removed]",
      "text/plain": [
       "<Figure size 720x1440 with 1 Axes>"
      ]
     },
     "metadata": {
      "needs_background": "light"
     },
     "output_type": "display_data"
    }
   ],
   "source": [
    "# Plot the feature importance\n",
    "feat_scores = pd.Series(rf.feature_importances_,\n",
    "                           index=X_train_2.columns)\n",
    "feat_scores = feat_scores.sort_values()\n",
    "ax = feat_scores.plot(kind='barh', \n",
    "                      figsize=(10,20),\n",
    "                      color='b')\n",
    "ax.set_title('Average Gini Importance')\n",
    "ax.set_xlabel('Average contribution to information gain');"
   ]
  },
  {
   "cell_type": "code",
   "execution_count": null,
   "id": "greatest-recall",
   "metadata": {},
   "outputs": [],
   "source": []
  },
  {
   "cell_type": "markdown",
   "id": "military-royal",
   "metadata": {},
   "source": [
    "* n_estimators = number of trees in the foreset\n",
    "* max_features = max number of features considered for splitting a node\n",
    "* max_depth = max number of levels in each decision tree\n",
    "* min_samples_split = min number of data points placed in a node before the node is split\n",
    "* min_samples_leaf = min number of data points allowed in a leaf node\n",
    "* bootstrap = method for sampling data points (with or without replacement)"
   ]
  },
  {
   "cell_type": "code",
   "execution_count": 1063,
   "id": "pleasant-pension",
   "metadata": {},
   "outputs": [],
   "source": [
    "#creating a random grid\n",
    "n_estimators = [int(x) for x in np.linspace(start=200,stop=500, num =4)]\n",
    "max_features = ['auto','sqrt']\n",
    "min_samples_split = [2,5,10]\n",
    "min_samples_leaf = [1,2,4]\n",
    "\n",
    "random_grid = {'n_estimators': n_estimators, \n",
    "               'max_features': max_features,\n",
    "               'min_samples_split': min_samples_split,\n",
    "               'min_samples_leaf': min_samples_leaf}"
   ]
  },
  {
   "cell_type": "code",
   "execution_count": 1068,
   "id": "governing-stupid",
   "metadata": {},
   "outputs": [
    {
     "ename": "KeyboardInterrupt",
     "evalue": "",
     "output_type": "error",
     "traceback": [
      "\u001b[0;31m---------------------------------------------------------------------------\u001b[0m",
      "\u001b[0;31mKeyboardInterrupt\u001b[0m                         Traceback (most recent call last)",
      "\u001b[0;32m<ipython-input-1068-ea7bf3886779>\u001b[0m in \u001b[0;36m<module>\u001b[0;34m\u001b[0m\n\u001b[1;32m      1\u001b[0m \u001b[0mrf\u001b[0m \u001b[0;34m=\u001b[0m \u001b[0mRandomForestRegressor\u001b[0m\u001b[0;34m(\u001b[0m\u001b[0mmax_depth\u001b[0m \u001b[0;34m=\u001b[0m \u001b[0;36m20\u001b[0m\u001b[0;34m,\u001b[0m \u001b[0mn_jobs\u001b[0m \u001b[0;34m=\u001b[0m \u001b[0;34m-\u001b[0m\u001b[0;36m1\u001b[0m \u001b[0;34m)\u001b[0m\u001b[0;34m\u001b[0m\u001b[0;34m\u001b[0m\u001b[0m\n\u001b[1;32m      2\u001b[0m \u001b[0mrf_random\u001b[0m \u001b[0;34m=\u001b[0m \u001b[0mRandomizedSearchCV\u001b[0m\u001b[0;34m(\u001b[0m\u001b[0mestimator\u001b[0m \u001b[0;34m=\u001b[0m \u001b[0mrf\u001b[0m\u001b[0;34m,\u001b[0m \u001b[0mparam_distributions\u001b[0m \u001b[0;34m=\u001b[0m \u001b[0mrandom_grid\u001b[0m\u001b[0;34m,\u001b[0m \u001b[0mn_iter\u001b[0m \u001b[0;34m=\u001b[0m \u001b[0;36m50\u001b[0m\u001b[0;34m,\u001b[0m \u001b[0mcv\u001b[0m\u001b[0;34m=\u001b[0m\u001b[0;36m3\u001b[0m\u001b[0;34m,\u001b[0m\u001b[0mn_jobs\u001b[0m\u001b[0;34m=\u001b[0m\u001b[0;34m-\u001b[0m\u001b[0;36m1\u001b[0m\u001b[0;34m)\u001b[0m\u001b[0;34m\u001b[0m\u001b[0;34m\u001b[0m\u001b[0m\n\u001b[0;32m----> 3\u001b[0;31m \u001b[0mrf_random\u001b[0m\u001b[0;34m.\u001b[0m\u001b[0mfit\u001b[0m\u001b[0;34m(\u001b[0m\u001b[0mX_train_2\u001b[0m\u001b[0;34m,\u001b[0m\u001b[0my_train\u001b[0m\u001b[0;34m)\u001b[0m\u001b[0;34m\u001b[0m\u001b[0;34m\u001b[0m\u001b[0m\n\u001b[0m",
      "\u001b[0;32m/opt/anaconda3/lib/python3.7/site-packages/sklearn/utils/validation.py\u001b[0m in \u001b[0;36minner_f\u001b[0;34m(*args, **kwargs)\u001b[0m\n\u001b[1;32m     61\u001b[0m             \u001b[0mextra_args\u001b[0m \u001b[0;34m=\u001b[0m \u001b[0mlen\u001b[0m\u001b[0;34m(\u001b[0m\u001b[0margs\u001b[0m\u001b[0;34m)\u001b[0m \u001b[0;34m-\u001b[0m \u001b[0mlen\u001b[0m\u001b[0;34m(\u001b[0m\u001b[0mall_args\u001b[0m\u001b[0;34m)\u001b[0m\u001b[0;34m\u001b[0m\u001b[0;34m\u001b[0m\u001b[0m\n\u001b[1;32m     62\u001b[0m             \u001b[0;32mif\u001b[0m \u001b[0mextra_args\u001b[0m \u001b[0;34m<=\u001b[0m \u001b[0;36m0\u001b[0m\u001b[0;34m:\u001b[0m\u001b[0;34m\u001b[0m\u001b[0;34m\u001b[0m\u001b[0m\n\u001b[0;32m---> 63\u001b[0;31m                 \u001b[0;32mreturn\u001b[0m \u001b[0mf\u001b[0m\u001b[0;34m(\u001b[0m\u001b[0;34m*\u001b[0m\u001b[0margs\u001b[0m\u001b[0;34m,\u001b[0m \u001b[0;34m**\u001b[0m\u001b[0mkwargs\u001b[0m\u001b[0;34m)\u001b[0m\u001b[0;34m\u001b[0m\u001b[0;34m\u001b[0m\u001b[0m\n\u001b[0m\u001b[1;32m     64\u001b[0m \u001b[0;34m\u001b[0m\u001b[0m\n\u001b[1;32m     65\u001b[0m             \u001b[0;31m# extra_args > 0\u001b[0m\u001b[0;34m\u001b[0m\u001b[0;34m\u001b[0m\u001b[0;34m\u001b[0m\u001b[0m\n",
      "\u001b[0;32m/opt/anaconda3/lib/python3.7/site-packages/sklearn/model_selection/_search.py\u001b[0m in \u001b[0;36mfit\u001b[0;34m(self, X, y, groups, **fit_params)\u001b[0m\n\u001b[1;32m    839\u001b[0m                 \u001b[0;32mreturn\u001b[0m \u001b[0mresults\u001b[0m\u001b[0;34m\u001b[0m\u001b[0;34m\u001b[0m\u001b[0m\n\u001b[1;32m    840\u001b[0m \u001b[0;34m\u001b[0m\u001b[0m\n\u001b[0;32m--> 841\u001b[0;31m             \u001b[0mself\u001b[0m\u001b[0;34m.\u001b[0m\u001b[0m_run_search\u001b[0m\u001b[0;34m(\u001b[0m\u001b[0mevaluate_candidates\u001b[0m\u001b[0;34m)\u001b[0m\u001b[0;34m\u001b[0m\u001b[0;34m\u001b[0m\u001b[0m\n\u001b[0m\u001b[1;32m    842\u001b[0m \u001b[0;34m\u001b[0m\u001b[0m\n\u001b[1;32m    843\u001b[0m             \u001b[0;31m# multimetric is determined here because in the case of a callable\u001b[0m\u001b[0;34m\u001b[0m\u001b[0;34m\u001b[0m\u001b[0;34m\u001b[0m\u001b[0m\n",
      "\u001b[0;32m/opt/anaconda3/lib/python3.7/site-packages/sklearn/model_selection/_search.py\u001b[0m in \u001b[0;36m_run_search\u001b[0;34m(self, evaluate_candidates)\u001b[0m\n\u001b[1;32m   1619\u001b[0m         evaluate_candidates(ParameterSampler(\n\u001b[1;32m   1620\u001b[0m             \u001b[0mself\u001b[0m\u001b[0;34m.\u001b[0m\u001b[0mparam_distributions\u001b[0m\u001b[0;34m,\u001b[0m \u001b[0mself\u001b[0m\u001b[0;34m.\u001b[0m\u001b[0mn_iter\u001b[0m\u001b[0;34m,\u001b[0m\u001b[0;34m\u001b[0m\u001b[0;34m\u001b[0m\u001b[0m\n\u001b[0;32m-> 1621\u001b[0;31m             random_state=self.random_state))\n\u001b[0m",
      "\u001b[0;32m/opt/anaconda3/lib/python3.7/site-packages/sklearn/model_selection/_search.py\u001b[0m in \u001b[0;36mevaluate_candidates\u001b[0;34m(candidate_params, cv, more_results)\u001b[0m\n\u001b[1;32m    807\u001b[0m                                    (split_idx, (train, test)) in product(\n\u001b[1;32m    808\u001b[0m                                    \u001b[0menumerate\u001b[0m\u001b[0;34m(\u001b[0m\u001b[0mcandidate_params\u001b[0m\u001b[0;34m)\u001b[0m\u001b[0;34m,\u001b[0m\u001b[0;34m\u001b[0m\u001b[0;34m\u001b[0m\u001b[0m\n\u001b[0;32m--> 809\u001b[0;31m                                    enumerate(cv.split(X, y, groups))))\n\u001b[0m\u001b[1;32m    810\u001b[0m \u001b[0;34m\u001b[0m\u001b[0m\n\u001b[1;32m    811\u001b[0m                 \u001b[0;32mif\u001b[0m \u001b[0mlen\u001b[0m\u001b[0;34m(\u001b[0m\u001b[0mout\u001b[0m\u001b[0;34m)\u001b[0m \u001b[0;34m<\u001b[0m \u001b[0;36m1\u001b[0m\u001b[0;34m:\u001b[0m\u001b[0;34m\u001b[0m\u001b[0;34m\u001b[0m\u001b[0m\n",
      "\u001b[0;32m/opt/anaconda3/lib/python3.7/site-packages/joblib/parallel.py\u001b[0m in \u001b[0;36m__call__\u001b[0;34m(self, iterable)\u001b[0m\n\u001b[1;32m   1052\u001b[0m \u001b[0;34m\u001b[0m\u001b[0m\n\u001b[1;32m   1053\u001b[0m             \u001b[0;32mwith\u001b[0m \u001b[0mself\u001b[0m\u001b[0;34m.\u001b[0m\u001b[0m_backend\u001b[0m\u001b[0;34m.\u001b[0m\u001b[0mretrieval_context\u001b[0m\u001b[0;34m(\u001b[0m\u001b[0;34m)\u001b[0m\u001b[0;34m:\u001b[0m\u001b[0;34m\u001b[0m\u001b[0;34m\u001b[0m\u001b[0m\n\u001b[0;32m-> 1054\u001b[0;31m                 \u001b[0mself\u001b[0m\u001b[0;34m.\u001b[0m\u001b[0mretrieve\u001b[0m\u001b[0;34m(\u001b[0m\u001b[0;34m)\u001b[0m\u001b[0;34m\u001b[0m\u001b[0;34m\u001b[0m\u001b[0m\n\u001b[0m\u001b[1;32m   1055\u001b[0m             \u001b[0;31m# Make sure that we get a last message telling us we are done\u001b[0m\u001b[0;34m\u001b[0m\u001b[0;34m\u001b[0m\u001b[0;34m\u001b[0m\u001b[0m\n\u001b[1;32m   1056\u001b[0m             \u001b[0melapsed_time\u001b[0m \u001b[0;34m=\u001b[0m \u001b[0mtime\u001b[0m\u001b[0;34m.\u001b[0m\u001b[0mtime\u001b[0m\u001b[0;34m(\u001b[0m\u001b[0;34m)\u001b[0m \u001b[0;34m-\u001b[0m \u001b[0mself\u001b[0m\u001b[0;34m.\u001b[0m\u001b[0m_start_time\u001b[0m\u001b[0;34m\u001b[0m\u001b[0;34m\u001b[0m\u001b[0m\n",
      "\u001b[0;32m/opt/anaconda3/lib/python3.7/site-packages/joblib/parallel.py\u001b[0m in \u001b[0;36mretrieve\u001b[0;34m(self)\u001b[0m\n\u001b[1;32m    931\u001b[0m             \u001b[0;32mtry\u001b[0m\u001b[0;34m:\u001b[0m\u001b[0;34m\u001b[0m\u001b[0;34m\u001b[0m\u001b[0m\n\u001b[1;32m    932\u001b[0m                 \u001b[0;32mif\u001b[0m \u001b[0mgetattr\u001b[0m\u001b[0;34m(\u001b[0m\u001b[0mself\u001b[0m\u001b[0;34m.\u001b[0m\u001b[0m_backend\u001b[0m\u001b[0;34m,\u001b[0m \u001b[0;34m'supports_timeout'\u001b[0m\u001b[0;34m,\u001b[0m \u001b[0;32mFalse\u001b[0m\u001b[0;34m)\u001b[0m\u001b[0;34m:\u001b[0m\u001b[0;34m\u001b[0m\u001b[0;34m\u001b[0m\u001b[0m\n\u001b[0;32m--> 933\u001b[0;31m                     \u001b[0mself\u001b[0m\u001b[0;34m.\u001b[0m\u001b[0m_output\u001b[0m\u001b[0;34m.\u001b[0m\u001b[0mextend\u001b[0m\u001b[0;34m(\u001b[0m\u001b[0mjob\u001b[0m\u001b[0;34m.\u001b[0m\u001b[0mget\u001b[0m\u001b[0;34m(\u001b[0m\u001b[0mtimeout\u001b[0m\u001b[0;34m=\u001b[0m\u001b[0mself\u001b[0m\u001b[0;34m.\u001b[0m\u001b[0mtimeout\u001b[0m\u001b[0;34m)\u001b[0m\u001b[0;34m)\u001b[0m\u001b[0;34m\u001b[0m\u001b[0;34m\u001b[0m\u001b[0m\n\u001b[0m\u001b[1;32m    934\u001b[0m                 \u001b[0;32melse\u001b[0m\u001b[0;34m:\u001b[0m\u001b[0;34m\u001b[0m\u001b[0;34m\u001b[0m\u001b[0m\n\u001b[1;32m    935\u001b[0m                     \u001b[0mself\u001b[0m\u001b[0;34m.\u001b[0m\u001b[0m_output\u001b[0m\u001b[0;34m.\u001b[0m\u001b[0mextend\u001b[0m\u001b[0;34m(\u001b[0m\u001b[0mjob\u001b[0m\u001b[0;34m.\u001b[0m\u001b[0mget\u001b[0m\u001b[0;34m(\u001b[0m\u001b[0;34m)\u001b[0m\u001b[0;34m)\u001b[0m\u001b[0;34m\u001b[0m\u001b[0;34m\u001b[0m\u001b[0m\n",
      "\u001b[0;32m/opt/anaconda3/lib/python3.7/site-packages/joblib/_parallel_backends.py\u001b[0m in \u001b[0;36mwrap_future_result\u001b[0;34m(future, timeout)\u001b[0m\n\u001b[1;32m    540\u001b[0m         AsyncResults.get from multiprocessing.\"\"\"\n\u001b[1;32m    541\u001b[0m         \u001b[0;32mtry\u001b[0m\u001b[0;34m:\u001b[0m\u001b[0;34m\u001b[0m\u001b[0;34m\u001b[0m\u001b[0m\n\u001b[0;32m--> 542\u001b[0;31m             \u001b[0;32mreturn\u001b[0m \u001b[0mfuture\u001b[0m\u001b[0;34m.\u001b[0m\u001b[0mresult\u001b[0m\u001b[0;34m(\u001b[0m\u001b[0mtimeout\u001b[0m\u001b[0;34m=\u001b[0m\u001b[0mtimeout\u001b[0m\u001b[0;34m)\u001b[0m\u001b[0;34m\u001b[0m\u001b[0;34m\u001b[0m\u001b[0m\n\u001b[0m\u001b[1;32m    543\u001b[0m         \u001b[0;32mexcept\u001b[0m \u001b[0mCfTimeoutError\u001b[0m \u001b[0;32mas\u001b[0m \u001b[0me\u001b[0m\u001b[0;34m:\u001b[0m\u001b[0;34m\u001b[0m\u001b[0;34m\u001b[0m\u001b[0m\n\u001b[1;32m    544\u001b[0m             \u001b[0;32mraise\u001b[0m \u001b[0mTimeoutError\u001b[0m \u001b[0;32mfrom\u001b[0m \u001b[0me\u001b[0m\u001b[0;34m\u001b[0m\u001b[0;34m\u001b[0m\u001b[0m\n",
      "\u001b[0;32m/opt/anaconda3/lib/python3.7/concurrent/futures/_base.py\u001b[0m in \u001b[0;36mresult\u001b[0;34m(self, timeout)\u001b[0m\n\u001b[1;32m    428\u001b[0m                 \u001b[0;32mreturn\u001b[0m \u001b[0mself\u001b[0m\u001b[0;34m.\u001b[0m\u001b[0m__get_result\u001b[0m\u001b[0;34m(\u001b[0m\u001b[0;34m)\u001b[0m\u001b[0;34m\u001b[0m\u001b[0;34m\u001b[0m\u001b[0m\n\u001b[1;32m    429\u001b[0m \u001b[0;34m\u001b[0m\u001b[0m\n\u001b[0;32m--> 430\u001b[0;31m             \u001b[0mself\u001b[0m\u001b[0;34m.\u001b[0m\u001b[0m_condition\u001b[0m\u001b[0;34m.\u001b[0m\u001b[0mwait\u001b[0m\u001b[0;34m(\u001b[0m\u001b[0mtimeout\u001b[0m\u001b[0;34m)\u001b[0m\u001b[0;34m\u001b[0m\u001b[0;34m\u001b[0m\u001b[0m\n\u001b[0m\u001b[1;32m    431\u001b[0m \u001b[0;34m\u001b[0m\u001b[0m\n\u001b[1;32m    432\u001b[0m             \u001b[0;32mif\u001b[0m \u001b[0mself\u001b[0m\u001b[0;34m.\u001b[0m\u001b[0m_state\u001b[0m \u001b[0;32min\u001b[0m \u001b[0;34m[\u001b[0m\u001b[0mCANCELLED\u001b[0m\u001b[0;34m,\u001b[0m \u001b[0mCANCELLED_AND_NOTIFIED\u001b[0m\u001b[0;34m]\u001b[0m\u001b[0;34m:\u001b[0m\u001b[0;34m\u001b[0m\u001b[0;34m\u001b[0m\u001b[0m\n",
      "\u001b[0;32m/opt/anaconda3/lib/python3.7/threading.py\u001b[0m in \u001b[0;36mwait\u001b[0;34m(self, timeout)\u001b[0m\n\u001b[1;32m    294\u001b[0m         \u001b[0;32mtry\u001b[0m\u001b[0;34m:\u001b[0m    \u001b[0;31m# restore state no matter what (e.g., KeyboardInterrupt)\u001b[0m\u001b[0;34m\u001b[0m\u001b[0;34m\u001b[0m\u001b[0m\n\u001b[1;32m    295\u001b[0m             \u001b[0;32mif\u001b[0m \u001b[0mtimeout\u001b[0m \u001b[0;32mis\u001b[0m \u001b[0;32mNone\u001b[0m\u001b[0;34m:\u001b[0m\u001b[0;34m\u001b[0m\u001b[0;34m\u001b[0m\u001b[0m\n\u001b[0;32m--> 296\u001b[0;31m                 \u001b[0mwaiter\u001b[0m\u001b[0;34m.\u001b[0m\u001b[0macquire\u001b[0m\u001b[0;34m(\u001b[0m\u001b[0;34m)\u001b[0m\u001b[0;34m\u001b[0m\u001b[0;34m\u001b[0m\u001b[0m\n\u001b[0m\u001b[1;32m    297\u001b[0m                 \u001b[0mgotit\u001b[0m \u001b[0;34m=\u001b[0m \u001b[0;32mTrue\u001b[0m\u001b[0;34m\u001b[0m\u001b[0;34m\u001b[0m\u001b[0m\n\u001b[1;32m    298\u001b[0m             \u001b[0;32melse\u001b[0m\u001b[0;34m:\u001b[0m\u001b[0;34m\u001b[0m\u001b[0;34m\u001b[0m\u001b[0m\n",
      "\u001b[0;31mKeyboardInterrupt\u001b[0m: "
     ]
    }
   ],
   "source": [
    "rf = RandomForestRegressor(max_depth = 20, n_jobs = -1 )\n",
    "rf_random = RandomizedSearchCV(estimator = rf, param_distributions = random_grid, n_iter = 50, cv=3,n_jobs=-1)\n",
    "rf_random.fit(X_train_2,y_train)"
   ]
  },
  {
   "cell_type": "code",
   "execution_count": 1065,
   "id": "special-bahamas",
   "metadata": {},
   "outputs": [
    {
     "data": {
      "text/plain": [
       "{'n_estimators': 300,\n",
       " 'min_samples_split': 2,\n",
       " 'min_samples_leaf': 1,\n",
       " 'max_features': 'auto'}"
      ]
     },
     "execution_count": 1065,
     "metadata": {},
     "output_type": "execute_result"
    }
   ],
   "source": [
    "rf_random.best_params_"
   ]
  },
  {
   "cell_type": "code",
   "execution_count": null,
   "id": "patent-citizen",
   "metadata": {},
   "outputs": [],
   "source": [
    "rf = RandomForestRegressor(n_estimators = 300, min_samples_split =2, min_samples_leaf = 1, max_features = 'auto', max_depth = 20).fit(X_train_2,y_train)\n",
    "print(f'Train RMSE: {-cross_val_score(rf,X_train_2,y_train, scoring=\"neg_root_mean_squared_error\").mean()}')\n",
    "print(f'Test RMSE: {np.sqrt(mean_squared_error(y_test,rf.predict(X_test_2)))}')"
   ]
  },
  {
   "cell_type": "code",
   "execution_count": 1042,
   "id": "single-avenue",
   "metadata": {},
   "outputs": [
    {
     "name": "stdout",
     "output_type": "stream",
     "text": [
      "A Random Forest Regressor with 1 # trees gets a score of 11176.095897196257\n",
      "A Random Forest Regressor with 5 # trees gets a score of 8552.025555891069\n",
      "A Random Forest Regressor with 10 # trees gets a score of 7412.964709538256\n",
      "A Random Forest Regressor with 20 # trees gets a score of 7510.149420683639\n",
      "A Random Forest Regressor with 50 # trees gets a score of 7076.474429446709\n",
      "A Random Forest Regressor with 100 # trees gets a score of 7110.977498026284\n",
      "A Random Forest Regressor with 200 # trees gets a score of 7030.275635041355\n",
      "A Random Forest Regressor with 500 # trees gets a score of 7071.017200483923\n",
      "A Random Forest Regressor with 1000 # trees gets a score of 7053.021918440689\n"
     ]
    },
    {
     "data": {
      "text/plain": [
       "[<matplotlib.lines.Line2D at 0x7feb3eca4d90>]"
      ]
     },
     "execution_count": 1042,
     "metadata": {},
     "output_type": "execute_result"
    },
    {
     "data": {
      "image/png": "[encoded data removed]",
      "text/plain": [
       "<Figure size 432x288 with 1 Axes>"
      ]
     },
     "metadata": {
      "needs_background": "light"
     },
     "output_type": "display_data"
    }
   ],
   "source": [
    "trees = [1, 5, 10, 20, 50, 100, 200, 500, 1000]\n",
    "scores = []\n",
    "\n",
    "for t in trees:\n",
    "    model = RandomForestRegressor(n_estimators=t, n_jobs = -1)\n",
    "    score = -cross_val_score(model,X_train_1,y_train, scoring=\"neg_root_mean_squared_error\").mean()\n",
    "    print('A Random Forest Regressor with {} # trees gets a score of {}'\n",
    "          .format(t,score))\n",
    "    scores.append(score)\n",
    "\n",
    "fig, ax = plt.subplots()\n",
    "ax.plot(trees, scores)"
   ]
  },
  {
   "cell_type": "code",
   "execution_count": 1048,
   "id": "informational-volume",
   "metadata": {},
   "outputs": [
    {
     "name": "stdout",
     "output_type": "stream",
     "text": [
      "A Random Forest Regressor with max_depth of: 1 gets a score of 17415.272001701796\n",
      "A Random Forest Regressor with max_depth of: 5 gets a score of 8860.923002807176\n",
      "A Random Forest Regressor with max_depth of: 10 gets a score of 7477.358983369717\n",
      "A Random Forest Regressor with max_depth of: 20 gets a score of 7001.749641253237\n",
      "A Random Forest Regressor with max_depth of: 50 gets a score of 7174.962332790188\n",
      "A Random Forest Regressor with max_depth of: 100 gets a score of 7005.565785643569\n"
     ]
    }
   ],
   "source": [
    "depth = [1, 5, 10, 20, 50, 100]\n",
    "scores = []\n",
    "for d in depth:\n",
    "    model = RandomForestRegressor(max_depth=d, n_jobs = -1)\n",
    "    score = -cross_val_score(model,X_train_1,y_train, scoring=\"neg_root_mean_squared_error\").mean()\n",
    "    print('A Random Forest Regressor with max_depth of: {} gets a score of {}'\n",
    "          .format(d,score))\n",
    "    scores.append(score)"
   ]
  },
  {
   "cell_type": "code",
   "execution_count": 1049,
   "id": "industrial-robinson",
   "metadata": {},
   "outputs": [
    {
     "data": {
      "text/plain": [
       "[<matplotlib.lines.Line2D at 0x7feb66b36b50>]"
      ]
     },
     "execution_count": 1049,
     "metadata": {},
     "output_type": "execute_result"
    },
    {
     "data": {
      "image/png": "[encoded data removed]",
      "text/plain": [
       "<Figure size 432x288 with 1 Axes>"
      ]
     },
     "metadata": {
      "needs_background": "light"
     },
     "output_type": "display_data"
    }
   ],
   "source": [
    "fig, ax = plt.subplots()\n",
    "ax.plot(depth, scores)"
   ]
  },
  {
   "cell_type": "code",
   "execution_count": null,
   "id": "desperate-meter",
   "metadata": {},
   "outputs": [],
   "source": []
  }
 ],
 "metadata": {
  "kernelspec": {
   "display_name": "Python 3",
   "language": "python",
   "name": "python3"
  },
  "language_info": {
   "codemirror_mode": {
    "name": "ipython",
    "version": 3
   },
   "file_extension": ".py",
   "mimetype": "text/x-python",
   "name": "python",
   "nbconvert_exporter": "python",
   "pygments_lexer": "ipython3",
   "version": "3.7.10"
  }
 },
 "nbformat": 4,
 "nbformat_minor": 5
}
