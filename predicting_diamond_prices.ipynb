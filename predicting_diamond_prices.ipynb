{
 "cells": [
  {
   "cell_type": "code",
   "execution_count": 1253,
   "id": "grateful-facility",
   "metadata": {},
   "outputs": [],
   "source": [
    "import pandas as pd\n",
    "import numpy as np\n",
    "import matplotlib.pyplot as plt\n",
    "import seaborn as sns\n",
    "from sklearn.linear_model import LinearRegression, Lasso\n",
    "from sklearn.model_selection import train_test_split, cross_val_score, GridSearchCV, RandomizedSearchCV\n",
    "from sklearn.metrics import mean_squared_error, r2_score, mean_absolute_percentage_error\n",
    "from sklearn.preprocessing import StandardScaler, OrdinalEncoder\n",
    "from sklearn.ensemble import RandomForestRegressor\n",
    "from pprint import pprint"
   ]
  },
  {
   "cell_type": "code",
   "execution_count": 527,
   "id": "advised-health",
   "metadata": {},
   "outputs": [],
   "source": [
    "df = pd.read_csv('updated_diamonds.csv')"
   ]
  },
  {
   "cell_type": "markdown",
   "id": "embedded-collins",
   "metadata": {},
   "source": [
    "## EDA"
   ]
  },
  {
   "cell_type": "code",
   "execution_count": 528,
   "id": "conceptual-beauty",
   "metadata": {},
   "outputs": [],
   "source": [
    "df.drop('Unnamed: 0',axis =1, inplace=True) #removing column that was basically the same as the index\n",
    "df.drop_duplicates(inplace = True) #might be some duplicate rows based on the way the data was scraped (changing floor price)"
   ]
  },
  {
   "cell_type": "code",
   "execution_count": 529,
   "id": "residential-checklist",
   "metadata": {},
   "outputs": [
    {
     "name": "stdout",
     "output_type": "stream",
     "text": [
      "<class 'pandas.core.frame.DataFrame'>\n",
      "Int64Index: 52461 entries, 0 to 52885\n",
      "Data columns (total 14 columns):\n",
      " #   Column            Non-Null Count  Dtype  \n",
      "---  ------            --------------  -----  \n",
      " 0   shape             52461 non-null  object \n",
      " 1   original_price    52461 non-null  int64  \n",
      " 2   discounted_price  6796 non-null   float64\n",
      " 3   carat             52461 non-null  float64\n",
      " 4   cut               52461 non-null  object \n",
      " 5   color             52461 non-null  object \n",
      " 6   clarity           52461 non-null  object \n",
      " 7   polish            52461 non-null  object \n",
      " 8   symmetry          52461 non-null  object \n",
      " 9   fluorescence      52461 non-null  object \n",
      " 10  depth             52461 non-null  float64\n",
      " 11  table             52461 non-null  float64\n",
      " 12  lxwratio          52461 non-null  float64\n",
      " 13  culet             52461 non-null  object \n",
      "dtypes: float64(5), int64(1), object(8)\n",
      "memory usage: 6.0+ MB\n"
     ]
    }
   ],
   "source": [
    "df.info() #data types are as expected"
   ]
  },
  {
   "cell_type": "code",
   "execution_count": 531,
   "id": "blessed-brunei",
   "metadata": {},
   "outputs": [],
   "source": [
    "#Astor Ideal and showing up as ealAstor - need to update\n",
    "df['cut'] = df['cut'].replace('ealAstor','Astor Ideal')"
   ]
  },
  {
   "cell_type": "code",
   "execution_count": 1335,
   "id": "vocal-disco",
   "metadata": {},
   "outputs": [
    {
     "data": {
      "image/png": "[encoded data removed]",
      "text/plain": [
       "<Figure size 720x720 with 6 Axes>"
      ]
     },
     "metadata": {
      "needs_background": "light"
     },
     "output_type": "display_data"
    }
   ],
   "source": [
    "df['log_price'] = np.log(df['original_price'])\n",
    "df.hist(figsize=(10,10),bins=30,grid=False);"
   ]
  },
  {
   "cell_type": "code",
   "execution_count": 1171,
   "id": "mathematical-glass",
   "metadata": {},
   "outputs": [
    {
     "data": {
      "text/html": [
       "<div>\n",
       "<style scoped>\n",
       "    .dataframe tbody tr th:only-of-type {\n",
       "        vertical-align: middle;\n",
       "    }\n",
       "\n",
       "    .dataframe tbody tr th {\n",
       "        vertical-align: top;\n",
       "    }\n",
       "\n",
       "    .dataframe thead th {\n",
       "        text-align: right;\n",
       "    }\n",
       "</style>\n",
       "<table border=\"1\" class=\"dataframe\">\n",
       "  <thead>\n",
       "    <tr style=\"text-align: right;\">\n",
       "      <th></th>\n",
       "      <th>original_price</th>\n",
       "      <th>carat</th>\n",
       "      <th>depth</th>\n",
       "      <th>table</th>\n",
       "      <th>lxwratio</th>\n",
       "      <th>log_price</th>\n",
       "    </tr>\n",
       "  </thead>\n",
       "  <tbody>\n",
       "    <tr>\n",
       "      <th>count</th>\n",
       "      <td>5.246100e+04</td>\n",
       "      <td>52461.000000</td>\n",
       "      <td>52461.000000</td>\n",
       "      <td>52461.000000</td>\n",
       "      <td>52461.000000</td>\n",
       "      <td>5.246100e+04</td>\n",
       "    </tr>\n",
       "    <tr>\n",
       "      <th>mean</th>\n",
       "      <td>7.941095e+03</td>\n",
       "      <td>0.993874</td>\n",
       "      <td>66.088462</td>\n",
       "      <td>62.946719</td>\n",
       "      <td>1.308527</td>\n",
       "      <td>7.941095e+03</td>\n",
       "    </tr>\n",
       "    <tr>\n",
       "      <th>std</th>\n",
       "      <td>2.688281e+04</td>\n",
       "      <td>0.909858</td>\n",
       "      <td>4.517800</td>\n",
       "      <td>5.039816</td>\n",
       "      <td>0.236147</td>\n",
       "      <td>2.688281e+04</td>\n",
       "    </tr>\n",
       "    <tr>\n",
       "      <th>min</th>\n",
       "      <td>2.210000e+02</td>\n",
       "      <td>0.230000</td>\n",
       "      <td>51.000000</td>\n",
       "      <td>51.000000</td>\n",
       "      <td>0.790000</td>\n",
       "      <td>2.210000e+02</td>\n",
       "    </tr>\n",
       "    <tr>\n",
       "      <th>25%</th>\n",
       "      <td>7.930000e+02</td>\n",
       "      <td>0.400000</td>\n",
       "      <td>62.700000</td>\n",
       "      <td>59.000000</td>\n",
       "      <td>1.050000</td>\n",
       "      <td>7.930000e+02</td>\n",
       "    </tr>\n",
       "    <tr>\n",
       "      <th>50%</th>\n",
       "      <td>2.152000e+03</td>\n",
       "      <td>0.710000</td>\n",
       "      <td>66.200000</td>\n",
       "      <td>62.000000</td>\n",
       "      <td>1.350000</td>\n",
       "      <td>2.152000e+03</td>\n",
       "    </tr>\n",
       "    <tr>\n",
       "      <th>75%</th>\n",
       "      <td>6.409000e+03</td>\n",
       "      <td>1.200000</td>\n",
       "      <td>68.900000</td>\n",
       "      <td>66.000000</td>\n",
       "      <td>1.440000</td>\n",
       "      <td>6.409000e+03</td>\n",
       "    </tr>\n",
       "    <tr>\n",
       "      <th>max</th>\n",
       "      <td>2.702260e+06</td>\n",
       "      <td>20.450000</td>\n",
       "      <td>80.000000</td>\n",
       "      <td>85.000000</td>\n",
       "      <td>3.370000</td>\n",
       "      <td>2.702260e+06</td>\n",
       "    </tr>\n",
       "  </tbody>\n",
       "</table>\n",
       "</div>"
      ],
      "text/plain": [
       "       original_price         carat         depth         table      lxwratio  \\\n",
       "count    5.246100e+04  52461.000000  52461.000000  52461.000000  52461.000000   \n",
       "mean     7.941095e+03      0.993874     66.088462     62.946719      1.308527   \n",
       "std      2.688281e+04      0.909858      4.517800      5.039816      0.236147   \n",
       "min      2.210000e+02      0.230000     51.000000     51.000000      0.790000   \n",
       "25%      7.930000e+02      0.400000     62.700000     59.000000      1.050000   \n",
       "50%      2.152000e+03      0.710000     66.200000     62.000000      1.350000   \n",
       "75%      6.409000e+03      1.200000     68.900000     66.000000      1.440000   \n",
       "max      2.702260e+06     20.450000     80.000000     85.000000      3.370000   \n",
       "\n",
       "          log_price  \n",
       "count  5.246100e+04  \n",
       "mean   7.941095e+03  \n",
       "std    2.688281e+04  \n",
       "min    2.210000e+02  \n",
       "25%    7.930000e+02  \n",
       "50%    2.152000e+03  \n",
       "75%    6.409000e+03  \n",
       "max    2.702260e+06  "
      ]
     },
     "execution_count": 1171,
     "metadata": {},
     "output_type": "execute_result"
    }
   ],
   "source": [
    "df.describe()"
   ]
  },
  {
   "cell_type": "code",
   "execution_count": 534,
   "id": "ranking-native",
   "metadata": {},
   "outputs": [
    {
     "data": {
      "text/html": [
       "<div>\n",
       "<style scoped>\n",
       "    .dataframe tbody tr th:only-of-type {\n",
       "        vertical-align: middle;\n",
       "    }\n",
       "\n",
       "    .dataframe tbody tr th {\n",
       "        vertical-align: top;\n",
       "    }\n",
       "\n",
       "    .dataframe thead th {\n",
       "        text-align: right;\n",
       "    }\n",
       "</style>\n",
       "<table border=\"1\" class=\"dataframe\">\n",
       "  <thead>\n",
       "    <tr style=\"text-align: right;\">\n",
       "      <th></th>\n",
       "      <th>original_price</th>\n",
       "      <th>discounted_price</th>\n",
       "      <th>carat</th>\n",
       "      <th>depth</th>\n",
       "      <th>table</th>\n",
       "      <th>lxwratio</th>\n",
       "    </tr>\n",
       "  </thead>\n",
       "  <tbody>\n",
       "    <tr>\n",
       "      <th>original_price</th>\n",
       "      <td>1.000000</td>\n",
       "      <td>0.996543</td>\n",
       "      <td>0.750451</td>\n",
       "      <td>-0.001705</td>\n",
       "      <td>0.009492</td>\n",
       "      <td>-0.022267</td>\n",
       "    </tr>\n",
       "    <tr>\n",
       "      <th>discounted_price</th>\n",
       "      <td>0.996543</td>\n",
       "      <td>1.000000</td>\n",
       "      <td>0.821921</td>\n",
       "      <td>0.021983</td>\n",
       "      <td>0.024054</td>\n",
       "      <td>-0.041886</td>\n",
       "    </tr>\n",
       "    <tr>\n",
       "      <th>carat</th>\n",
       "      <td>0.750451</td>\n",
       "      <td>0.821921</td>\n",
       "      <td>1.000000</td>\n",
       "      <td>0.050836</td>\n",
       "      <td>0.015941</td>\n",
       "      <td>-0.111207</td>\n",
       "    </tr>\n",
       "    <tr>\n",
       "      <th>depth</th>\n",
       "      <td>-0.001705</td>\n",
       "      <td>0.021983</td>\n",
       "      <td>0.050836</td>\n",
       "      <td>1.000000</td>\n",
       "      <td>0.592803</td>\n",
       "      <td>-0.555673</td>\n",
       "    </tr>\n",
       "    <tr>\n",
       "      <th>table</th>\n",
       "      <td>0.009492</td>\n",
       "      <td>0.024054</td>\n",
       "      <td>0.015941</td>\n",
       "      <td>0.592803</td>\n",
       "      <td>1.000000</td>\n",
       "      <td>-0.446653</td>\n",
       "    </tr>\n",
       "    <tr>\n",
       "      <th>lxwratio</th>\n",
       "      <td>-0.022267</td>\n",
       "      <td>-0.041886</td>\n",
       "      <td>-0.111207</td>\n",
       "      <td>-0.555673</td>\n",
       "      <td>-0.446653</td>\n",
       "      <td>1.000000</td>\n",
       "    </tr>\n",
       "  </tbody>\n",
       "</table>\n",
       "</div>"
      ],
      "text/plain": [
       "                  original_price  discounted_price     carat     depth  \\\n",
       "original_price          1.000000          0.996543  0.750451 -0.001705   \n",
       "discounted_price        0.996543          1.000000  0.821921  0.021983   \n",
       "carat                   0.750451          0.821921  1.000000  0.050836   \n",
       "depth                  -0.001705          0.021983  0.050836  1.000000   \n",
       "table                   0.009492          0.024054  0.015941  0.592803   \n",
       "lxwratio               -0.022267         -0.041886 -0.111207 -0.555673   \n",
       "\n",
       "                     table  lxwratio  \n",
       "original_price    0.009492 -0.022267  \n",
       "discounted_price  0.024054 -0.041886  \n",
       "carat             0.015941 -0.111207  \n",
       "depth             0.592803 -0.555673  \n",
       "table             1.000000 -0.446653  \n",
       "lxwratio         -0.446653  1.000000  "
      ]
     },
     "execution_count": 534,
     "metadata": {},
     "output_type": "execute_result"
    }
   ],
   "source": [
    "df.corr()"
   ]
  },
  {
   "cell_type": "markdown",
   "id": "asian-sheffield",
   "metadata": {},
   "source": [
    "need to remove discounted price since we are trying to predict original price or else there might be data leakage - model will have the information you are trying to predict"
   ]
  },
  {
   "cell_type": "code",
   "execution_count": 535,
   "id": "judicial-period",
   "metadata": {},
   "outputs": [],
   "source": [
    "df.drop('discounted_price',axis =1,inplace = True)"
   ]
  },
  {
   "cell_type": "code",
   "execution_count": 1315,
   "id": "reported-construction",
   "metadata": {},
   "outputs": [
    {
     "data": {
      "image/png": "[encoded data removed]",
      "text/plain": [
       "<Figure size 432x288 with 1 Axes>"
      ]
     },
     "metadata": {
      "needs_background": "light"
     },
     "output_type": "display_data"
    }
   ],
   "source": [
    "#there are outliers - one diamond is almost 3 million!\n",
    "fig,ax = plt.subplots()\n",
    "ax.scatter(df.carat,(df.original_price))\n",
    "ax.set_xlabel('Carats')\n",
    "ax.set_ylabel('Price')\n",
    "plt.axvline(x=9.5, color = 'r')\n",
    "plt.axhline(600000, color = 'r');"
   ]
  },
  {
   "cell_type": "code",
   "execution_count": 1310,
   "id": "endangered-reason",
   "metadata": {
    "scrolled": true
   },
   "outputs": [
    {
     "data": {
      "image/png": "[encoded data removed]",
      "text/plain": [
       "<Figure size 432x288 with 1 Axes>"
      ]
     },
     "metadata": {
      "needs_background": "light"
     },
     "output_type": "display_data"
    }
   ],
   "source": [
    "fig,ax = plt.subplots()\n",
    "ax.scatter(df.carat,np.log(df.original_price))\n",
    "ax.set_xlabel('Carats')\n",
    "ax.set_ylabel('Log of Price')\n",
    "plt.axvline(x=9.5, color = 'r');"
   ]
  },
  {
   "cell_type": "code",
   "execution_count": 1327,
   "id": "acute-wells",
   "metadata": {},
   "outputs": [
    {
     "name": "stdout",
     "output_type": "stream",
     "text": [
      "Percent of data to drop: 0.017155601303825697%\n"
     ]
    }
   ],
   "source": [
    "print(f'Percent of data to drop: {df[(df.carat>9.5) & (df.original_price>600000)].shape[0]/df.shape[0]*100}%')"
   ]
  },
  {
   "cell_type": "code",
   "execution_count": 1337,
   "id": "excellent-diversity",
   "metadata": {},
   "outputs": [
    {
     "data": {
      "text/html": [
       "<div>\n",
       "<style scoped>\n",
       "    .dataframe tbody tr th:only-of-type {\n",
       "        vertical-align: middle;\n",
       "    }\n",
       "\n",
       "    .dataframe tbody tr th {\n",
       "        vertical-align: top;\n",
       "    }\n",
       "\n",
       "    .dataframe thead th {\n",
       "        text-align: right;\n",
       "    }\n",
       "</style>\n",
       "<table border=\"1\" class=\"dataframe\">\n",
       "  <thead>\n",
       "    <tr style=\"text-align: right;\">\n",
       "      <th></th>\n",
       "      <th>shape</th>\n",
       "      <th>original_price</th>\n",
       "      <th>carat</th>\n",
       "      <th>cut</th>\n",
       "      <th>color</th>\n",
       "      <th>clarity</th>\n",
       "      <th>polish</th>\n",
       "      <th>symmetry</th>\n",
       "      <th>fluorescence</th>\n",
       "      <th>depth</th>\n",
       "      <th>table</th>\n",
       "      <th>lxwratio</th>\n",
       "      <th>culet</th>\n",
       "      <th>log_price</th>\n",
       "    </tr>\n",
       "  </thead>\n",
       "  <tbody>\n",
       "    <tr>\n",
       "      <th>0</th>\n",
       "      <td>Emerald</td>\n",
       "      <td>221</td>\n",
       "      <td>0.30</td>\n",
       "      <td>Good</td>\n",
       "      <td>J</td>\n",
       "      <td>VS2</td>\n",
       "      <td>Very Good</td>\n",
       "      <td>Good</td>\n",
       "      <td>None</td>\n",
       "      <td>70.0</td>\n",
       "      <td>61.0</td>\n",
       "      <td>1.33</td>\n",
       "      <td>None</td>\n",
       "      <td>5.398163</td>\n",
       "    </tr>\n",
       "    <tr>\n",
       "      <th>1</th>\n",
       "      <td>Emerald</td>\n",
       "      <td>224</td>\n",
       "      <td>0.30</td>\n",
       "      <td>Very Good</td>\n",
       "      <td>J</td>\n",
       "      <td>SI1</td>\n",
       "      <td>Excellent</td>\n",
       "      <td>Very Good</td>\n",
       "      <td>Faint</td>\n",
       "      <td>65.9</td>\n",
       "      <td>66.0</td>\n",
       "      <td>1.42</td>\n",
       "      <td>None</td>\n",
       "      <td>5.411646</td>\n",
       "    </tr>\n",
       "    <tr>\n",
       "      <th>2</th>\n",
       "      <td>Emerald</td>\n",
       "      <td>224</td>\n",
       "      <td>0.30</td>\n",
       "      <td>Very Good</td>\n",
       "      <td>J</td>\n",
       "      <td>SI1</td>\n",
       "      <td>Excellent</td>\n",
       "      <td>Very Good</td>\n",
       "      <td>Faint</td>\n",
       "      <td>66.6</td>\n",
       "      <td>66.0</td>\n",
       "      <td>1.28</td>\n",
       "      <td>None</td>\n",
       "      <td>5.411646</td>\n",
       "    </tr>\n",
       "    <tr>\n",
       "      <th>3</th>\n",
       "      <td>Pear</td>\n",
       "      <td>225</td>\n",
       "      <td>0.30</td>\n",
       "      <td>Very Good</td>\n",
       "      <td>J</td>\n",
       "      <td>SI1</td>\n",
       "      <td>Very Good</td>\n",
       "      <td>Very Good</td>\n",
       "      <td>Faint</td>\n",
       "      <td>61.7</td>\n",
       "      <td>62.0</td>\n",
       "      <td>1.60</td>\n",
       "      <td>None</td>\n",
       "      <td>5.416100</td>\n",
       "    </tr>\n",
       "    <tr>\n",
       "      <th>4</th>\n",
       "      <td>Pear</td>\n",
       "      <td>226</td>\n",
       "      <td>0.30</td>\n",
       "      <td>Very Good</td>\n",
       "      <td>J</td>\n",
       "      <td>SI2</td>\n",
       "      <td>Very Good</td>\n",
       "      <td>Very Good</td>\n",
       "      <td>None</td>\n",
       "      <td>62.5</td>\n",
       "      <td>59.0</td>\n",
       "      <td>1.57</td>\n",
       "      <td>None</td>\n",
       "      <td>5.420535</td>\n",
       "    </tr>\n",
       "    <tr>\n",
       "      <th>...</th>\n",
       "      <td>...</td>\n",
       "      <td>...</td>\n",
       "      <td>...</td>\n",
       "      <td>...</td>\n",
       "      <td>...</td>\n",
       "      <td>...</td>\n",
       "      <td>...</td>\n",
       "      <td>...</td>\n",
       "      <td>...</td>\n",
       "      <td>...</td>\n",
       "      <td>...</td>\n",
       "      <td>...</td>\n",
       "      <td>...</td>\n",
       "      <td>...</td>\n",
       "    </tr>\n",
       "    <tr>\n",
       "      <th>52861</th>\n",
       "      <td>Emerald</td>\n",
       "      <td>439952</td>\n",
       "      <td>7.25</td>\n",
       "      <td>Very Good</td>\n",
       "      <td>D</td>\n",
       "      <td>VS1</td>\n",
       "      <td>Excellent</td>\n",
       "      <td>Very Good</td>\n",
       "      <td>None</td>\n",
       "      <td>64.4</td>\n",
       "      <td>65.0</td>\n",
       "      <td>1.43</td>\n",
       "      <td>None</td>\n",
       "      <td>12.994421</td>\n",
       "    </tr>\n",
       "    <tr>\n",
       "      <th>52863</th>\n",
       "      <td>Oval</td>\n",
       "      <td>464826</td>\n",
       "      <td>8.02</td>\n",
       "      <td>Very Good</td>\n",
       "      <td>E</td>\n",
       "      <td>VS1</td>\n",
       "      <td>Excellent</td>\n",
       "      <td>Very Good</td>\n",
       "      <td>None</td>\n",
       "      <td>62.2</td>\n",
       "      <td>57.0</td>\n",
       "      <td>1.38</td>\n",
       "      <td>None</td>\n",
       "      <td>13.049418</td>\n",
       "    </tr>\n",
       "    <tr>\n",
       "      <th>52865</th>\n",
       "      <td>Emerald</td>\n",
       "      <td>469643</td>\n",
       "      <td>8.30</td>\n",
       "      <td>Very Good</td>\n",
       "      <td>E</td>\n",
       "      <td>VS1</td>\n",
       "      <td>Excellent</td>\n",
       "      <td>Excellent</td>\n",
       "      <td>None</td>\n",
       "      <td>68.1</td>\n",
       "      <td>69.0</td>\n",
       "      <td>1.60</td>\n",
       "      <td>None</td>\n",
       "      <td>13.059728</td>\n",
       "    </tr>\n",
       "    <tr>\n",
       "      <th>52866</th>\n",
       "      <td>Emerald</td>\n",
       "      <td>469665</td>\n",
       "      <td>7.00</td>\n",
       "      <td>Very Good</td>\n",
       "      <td>D</td>\n",
       "      <td>FL</td>\n",
       "      <td>Excellent</td>\n",
       "      <td>Very Good</td>\n",
       "      <td>None</td>\n",
       "      <td>66.7</td>\n",
       "      <td>68.0</td>\n",
       "      <td>1.34</td>\n",
       "      <td>None</td>\n",
       "      <td>13.059775</td>\n",
       "    </tr>\n",
       "    <tr>\n",
       "      <th>52868</th>\n",
       "      <td>Oval</td>\n",
       "      <td>481976</td>\n",
       "      <td>8.02</td>\n",
       "      <td>Very Good</td>\n",
       "      <td>D</td>\n",
       "      <td>VS1</td>\n",
       "      <td>Excellent</td>\n",
       "      <td>Excellent</td>\n",
       "      <td>None</td>\n",
       "      <td>62.1</td>\n",
       "      <td>62.0</td>\n",
       "      <td>1.41</td>\n",
       "      <td>None</td>\n",
       "      <td>13.085650</td>\n",
       "    </tr>\n",
       "  </tbody>\n",
       "</table>\n",
       "<p>52408 rows × 14 columns</p>\n",
       "</div>"
      ],
      "text/plain": [
       "         shape  original_price  carat        cut color clarity     polish  \\\n",
       "0      Emerald             221   0.30       Good     J     VS2  Very Good   \n",
       "1      Emerald             224   0.30  Very Good     J     SI1  Excellent   \n",
       "2      Emerald             224   0.30  Very Good     J     SI1  Excellent   \n",
       "3         Pear             225   0.30  Very Good     J     SI1  Very Good   \n",
       "4         Pear             226   0.30  Very Good     J     SI2  Very Good   \n",
       "...        ...             ...    ...        ...   ...     ...        ...   \n",
       "52861  Emerald          439952   7.25  Very Good     D     VS1  Excellent   \n",
       "52863     Oval          464826   8.02  Very Good     E     VS1  Excellent   \n",
       "52865  Emerald          469643   8.30  Very Good     E     VS1  Excellent   \n",
       "52866  Emerald          469665   7.00  Very Good     D      FL  Excellent   \n",
       "52868     Oval          481976   8.02  Very Good     D     VS1  Excellent   \n",
       "\n",
       "        symmetry fluorescence  depth  table  lxwratio culet  log_price  \n",
       "0           Good         None   70.0   61.0      1.33  None   5.398163  \n",
       "1      Very Good        Faint   65.9   66.0      1.42  None   5.411646  \n",
       "2      Very Good        Faint   66.6   66.0      1.28  None   5.411646  \n",
       "3      Very Good        Faint   61.7   62.0      1.60  None   5.416100  \n",
       "4      Very Good         None   62.5   59.0      1.57  None   5.420535  \n",
       "...          ...          ...    ...    ...       ...   ...        ...  \n",
       "52861  Very Good         None   64.4   65.0      1.43  None  12.994421  \n",
       "52863  Very Good         None   62.2   57.0      1.38  None  13.049418  \n",
       "52865  Excellent         None   68.1   69.0      1.60  None  13.059728  \n",
       "52866  Very Good         None   66.7   68.0      1.34  None  13.059775  \n",
       "52868  Excellent         None   62.1   62.0      1.41  None  13.085650  \n",
       "\n",
       "[52408 rows x 14 columns]"
      ]
     },
     "execution_count": 1337,
     "metadata": {},
     "output_type": "execute_result"
    }
   ],
   "source": [
    "df_filtered = df[(df.carat<9.5) & (df.original_price<500000)]\n",
    "df_filtered"
   ]
  },
  {
   "cell_type": "code",
   "execution_count": 1207,
   "id": "domestic-unknown",
   "metadata": {},
   "outputs": [
    {
     "data": {
      "image/png": "[encoded data removed]",
      "text/plain": [
       "<Figure size 720x432 with 2 Axes>"
      ]
     },
     "metadata": {
      "needs_background": "light"
     },
     "output_type": "display_data"
    }
   ],
   "source": [
    "plt.figure(figsize=(10,6))\n",
    "heatmap = sns.heatmap(df_filtered.corr(),cmap = 'BrBG',annot = True)\n",
    "heatmap.set_title('Correlation Heatmap');"
   ]
  },
  {
   "cell_type": "code",
   "execution_count": 1209,
   "id": "furnished-command",
   "metadata": {},
   "outputs": [
    {
     "data": {
      "image/png": "[encoded data removed]",
      "text/plain": [
       "<Figure size 720x432 with 2 Axes>"
      ]
     },
     "metadata": {
      "needs_background": "light"
     },
     "output_type": "display_data"
    }
   ],
   "source": [
    "plt.figure(figsize = (10,6))\n",
    "sns.heatmap(df_filtered.corr()[['original_price']],cmap = 'BrBG',annot=True);"
   ]
  },
  {
   "cell_type": "code",
   "execution_count": 1213,
   "id": "apart-origin",
   "metadata": {},
   "outputs": [
    {
     "data": {
      "image/png": "[encoded data removed]",
      "text/plain": [
       "<Figure size 432x288 with 1 Axes>"
      ]
     },
     "metadata": {
      "needs_background": "light"
     },
     "output_type": "display_data"
    }
   ],
   "source": [
    "sns.stripplot(data = df_filtered,\n",
    "              x='cut', y='original_price', \n",
    "              order = ['Good','Very Good','Astor Ideal'],\n",
    "              color = 'black', jitter=False);"
   ]
  },
  {
   "cell_type": "code",
   "execution_count": 1214,
   "id": "quick-dealer",
   "metadata": {},
   "outputs": [
    {
     "data": {
      "image/png": "[encoded data removed]",
      "text/plain": [
       "<Figure size 432x288 with 1 Axes>"
      ]
     },
     "metadata": {
      "needs_background": "light"
     },
     "output_type": "display_data"
    }
   ],
   "source": [
    "sns.stripplot(data = df_filtered,\n",
    "              x='cut', y='carat', \n",
    "              order = ['Good','Very Good','Astor Ideal'],\n",
    "              color = 'black', jitter=False);"
   ]
  },
  {
   "cell_type": "code",
   "execution_count": 1215,
   "id": "sustained-occurrence",
   "metadata": {},
   "outputs": [
    {
     "data": {
      "text/plain": [
       "0.009759630963954175"
      ]
     },
     "execution_count": 1215,
     "metadata": {},
     "output_type": "execute_result"
    }
   ],
   "source": [
    "len(df_filtered[df_filtered.cut == 'Astor Ideal']['cut'])/df.shape[0] #less than one percent of diamonds are astor ideal"
   ]
  },
  {
   "cell_type": "code",
   "execution_count": 1216,
   "id": "transsexual-reputation",
   "metadata": {},
   "outputs": [
    {
     "data": {
      "image/png": "[encoded data removed]",
      "text/plain": [
       "<Figure size 432x288 with 1 Axes>"
      ]
     },
     "metadata": {
      "needs_background": "light"
     },
     "output_type": "display_data"
    }
   ],
   "source": [
    "sns.stripplot(data = df_filtered,\n",
    "              x='clarity', y='original_price', \n",
    "              order = ['SI2','SI1','VS2','VS1','VVS2','VVS1','IF','FL'],\n",
    "              color = 'black', jitter=False);"
   ]
  },
  {
   "cell_type": "code",
   "execution_count": 1225,
   "id": "adapted-scottish",
   "metadata": {},
   "outputs": [
    {
     "data": {
      "image/png": "[encoded data removed]",
      "text/plain": [
       "<Figure size 432x288 with 1 Axes>"
      ]
     },
     "metadata": {
      "needs_background": "light"
     },
     "output_type": "display_data"
    }
   ],
   "source": [
    "sns.stripplot(data = df_filtered,\n",
    "              x='color', y='original_price', \n",
    "              order = ['D', 'E','F','G','H','I','J','K'],\n",
    "              color = 'black', jitter=False);"
   ]
  },
  {
   "cell_type": "markdown",
   "id": "genetic-issue",
   "metadata": {},
   "source": [
    "## Linear Regression Model"
   ]
  },
  {
   "cell_type": "markdown",
   "id": "impossible-orlando",
   "metadata": {},
   "source": [
    "## Predicting log of price"
   ]
  },
  {
   "cell_type": "code",
   "execution_count": 1532,
   "id": "sixth-bottle",
   "metadata": {},
   "outputs": [],
   "source": [
    "linreg = LinearRegression()\n",
    "\n",
    "X = df.drop(['original_price','log_price'],axis = 1)\n",
    "y = df.log_price\n",
    "X_train, X_test, y_train, y_test = train_test_split(X,y)"
   ]
  },
  {
   "cell_type": "code",
   "execution_count": 1533,
   "id": "armed-parliament",
   "metadata": {},
   "outputs": [
    {
     "name": "stdout",
     "output_type": "stream",
     "text": [
      "Train RMSE: 0.6298053082173724\n",
      "Test RMSE: 0.6518507243833425\n",
      "Train R2: 0.7997746229652567\n",
      "Test R2: 0.7902609398216868\n",
      "Mean Absolute Percentage Error: 1.064385780991823\n"
     ]
    }
   ],
   "source": [
    "X_train_1 = pd.get_dummies(X_train)\n",
    "X_test_1 = pd.get_dummies(X_test)\n",
    "y_predicted_1 = linreg.fit(X_train_1,y_train).predict(X_test_1)\n",
    "\n",
    "\n",
    "\n",
    "print(f'Train RMSE: {(-cross_val_score(linreg,X_train_1,y_train,scoring=\"neg_root_mean_squared_error\")).mean()}')\n",
    "print(f'Test RMSE: {np.sqrt(mean_squared_error(y_test, y_predicted_1))}')\n",
    "print(f'Train R2: {cross_val_score(linreg,X_train_1,y_train,scoring=\"r2\").mean()}')\n",
    "print(f'Test R2: {r2_score(y_test,y_predicted_1)}')\n",
    "print(f'Mean Absolute Percentage Error: {np.exp(mean_absolute_percentage_error(y_test,y_predicted_1))}')"
   ]
  },
  {
   "cell_type": "code",
   "execution_count": 1534,
   "id": "covered-cologne",
   "metadata": {},
   "outputs": [
    {
     "data": {
      "image/png": "[encoded data removed]",
      "text/plain": [
       "<Figure size 432x288 with 1 Axes>"
      ]
     },
     "metadata": {
      "needs_background": "light"
     },
     "output_type": "display_data"
    }
   ],
   "source": [
    "predicted = linreg.fit(X_train_1,y_train).predict(X_test_1)\n",
    "residuals = y_test - predicted\n",
    "\n",
    "fig,ax = plt.subplots()\n",
    "ax.scatter(predicted ,residuals)\n",
    "plt.axhline(y=0, color = 'r')\n",
    "ax.set_xlabel('Predicted Prices')\n",
    "ax.set_ylabel('Residuals');"
   ]
  },
  {
   "cell_type": "code",
   "execution_count": 1535,
   "id": "median-packing",
   "metadata": {},
   "outputs": [
    {
     "data": {
      "image/png": "[encoded data removed]",
      "text/plain": [
       "<Figure size 432x288 with 1 Axes>"
      ]
     },
     "metadata": {
      "needs_background": "light"
     },
     "output_type": "display_data"
    }
   ],
   "source": [
    "predicted = linreg.fit(X_train_1,y_train).predict(X_test_1)\n",
    "residuals = np.exp(y_test) - np.exp(predicted)\n",
    "\n",
    "fig,ax = plt.subplots()\n",
    "ax.scatter(np.exp(predicted),residuals)\n",
    "plt.axhline(y=0, color = 'r')\n",
    "plt.xscale('log')\n",
    "ax.set_xlabel('Predicted Prices')\n",
    "ax.set_ylabel('Residuals');"
   ]
  },
  {
   "cell_type": "markdown",
   "id": "accredited-leeds",
   "metadata": {},
   "source": [
    "## Predicting log of price with outliers removed"
   ]
  },
  {
   "cell_type": "code",
   "execution_count": 1528,
   "id": "timely-cameroon",
   "metadata": {},
   "outputs": [],
   "source": [
    "linreg = LinearRegression()\n",
    "\n",
    "X = df_filtered.drop(['original_price','log_price'],axis = 1)\n",
    "y = df_filtered.log_price\n",
    "X_train, X_test, y_train, y_test = train_test_split(X,y)"
   ]
  },
  {
   "cell_type": "code",
   "execution_count": 1529,
   "id": "brave-civilian",
   "metadata": {},
   "outputs": [
    {
     "name": "stdout",
     "output_type": "stream",
     "text": [
      "Train RMSE: 0.5705840169262928\n",
      "Test RMSE: 0.5865062452511492\n",
      "Train R2: 0.8350225170410879\n",
      "Test R2: 0.8240487956978838\n",
      "Mean Absolute Percentage Error: 1.0607904835693949\n"
     ]
    }
   ],
   "source": [
    "X_train_1 = pd.get_dummies(X_train)\n",
    "X_test_1 = pd.get_dummies(X_test)\n",
    "y_predicted_1 = linreg.fit(X_train_1,y_train).predict(X_test_1)\n",
    "\n",
    "\n",
    "\n",
    "print(f'Train RMSE: {(-cross_val_score(linreg,X_train_1,y_train,scoring=\"neg_root_mean_squared_error\")).mean()}')\n",
    "print(f'Test RMSE: {np.sqrt(mean_squared_error(y_test, y_predicted_1))}')\n",
    "print(f'Train R2: {cross_val_score(linreg,X_train_1,y_train,scoring=\"r2\").mean()}')\n",
    "print(f'Test R2: {r2_score(y_test,y_predicted_1)}')\n",
    "print(f'Mean Absolute Percentage Error: {np.exp(mean_absolute_percentage_error(y_test,y_predicted_1))}')"
   ]
  },
  {
   "cell_type": "code",
   "execution_count": 1531,
   "id": "musical-calvin",
   "metadata": {},
   "outputs": [
    {
     "data": {
      "image/png": "[encoded data removed]",
      "text/plain": [
       "<Figure size 432x288 with 1 Axes>"
      ]
     },
     "metadata": {
      "needs_background": "light"
     },
     "output_type": "display_data"
    }
   ],
   "source": [
    "predicted = linreg.fit(X_train_1,y_train).predict(X_test_1)\n",
    "residuals = y_test - predicted\n",
    "\n",
    "fig,ax = plt.subplots()\n",
    "ax.scatter(predicted,residuals)\n",
    "plt.axhline(y=0, color = 'r')\n",
    "ax.set_xlabel('Predicted Prices')\n",
    "ax.set_ylabel('Residuals');"
   ]
  },
  {
   "cell_type": "code",
   "execution_count": 1522,
   "id": "corresponding-candle",
   "metadata": {},
   "outputs": [
    {
     "data": {
      "image/png": "[encoded data removed]",
      "text/plain": [
       "<Figure size 432x288 with 1 Axes>"
      ]
     },
     "metadata": {
      "needs_background": "light"
     },
     "output_type": "display_data"
    }
   ],
   "source": [
    "predicted = linreg.fit(X_train_1,y_train).predict(X_test_1)\n",
    "residuals = np.exp(y_test) - np.exp(predicted)\n",
    "\n",
    "fig,ax = plt.subplots()\n",
    "ax.scatter(np.exp(predicted),residuals)\n",
    "plt.axhline(y=0, color = 'r')\n",
    "plt.xscale('log')\n",
    "ax.set_xlabel('Predicted Prices')\n",
    "ax.set_ylabel('Residuals');"
   ]
  },
  {
   "cell_type": "markdown",
   "id": "romance-compatibility",
   "metadata": {},
   "source": [
    "### Removing outliers"
   ]
  },
  {
   "cell_type": "code",
   "execution_count": 1475,
   "id": "cooperative-iraqi",
   "metadata": {},
   "outputs": [],
   "source": [
    "linreg = LinearRegression()\n",
    "\n",
    "X = df_filtered.drop(['original_price','log_price'],axis = 1)\n",
    "y = df_filtered.original_price\n",
    "X_train, X_test, y_train, y_test = train_test_split(X,y)"
   ]
  },
  {
   "cell_type": "markdown",
   "id": "premium-ukraine",
   "metadata": {},
   "source": [
    "Try using all features"
   ]
  },
  {
   "cell_type": "code",
   "execution_count": 1499,
   "id": "challenging-necklace",
   "metadata": {
    "scrolled": true
   },
   "outputs": [
    {
     "name": "stdout",
     "output_type": "stream",
     "text": [
      "Train RMSE: 0.5767670324848627\n",
      "Test RMSE: 0.569210613815734\n",
      "Train R2: 0.8304919976519646\n",
      "Test R2: 0.8367212849211053\n",
      "Mean Absolute Percentage Error: 0.05816423453700561\n"
     ]
    }
   ],
   "source": [
    "X_train_1 = pd.get_dummies(X_train)\n",
    "X_test_1 = pd.get_dummies(X_test)\n",
    "y_predicted_1 = linreg.fit(X_train_1,y_train).predict(X_test_1)\n",
    "print(f'Train RMSE: {-cross_val_score(linreg,X_train_1,y_train,scoring=\"neg_root_mean_squared_error\").mean()}')\n",
    "print(f'Test RMSE: {np.sqrt(mean_squared_error(y_test,y_predicted_1))}')\n",
    "print(f'Train R2: {cross_val_score(linreg,X_train_1,y_train,scoring=\"r2\").mean()}')\n",
    "print(f'Test R2: {linreg.score(X_test_1,y_test)}')\n",
    "print(f'Mean Absolute Percentage Error: {mean_absolute_percentage_error(y_test,y_predicted_1)}')"
   ]
  },
  {
   "cell_type": "code",
   "execution_count": 1287,
   "id": "horizontal-track",
   "metadata": {},
   "outputs": [
    {
     "data": {
      "text/plain": [
       "array([20074.91596133,   152.47356935,   121.66553516,  2547.81376433,\n",
       "        1191.91406857,  2090.30041796,  2030.41192169,   105.24178408,\n",
       "         305.57440933,   567.51168315,   329.46493602,  3727.79345934,\n",
       "        2037.61152212,  3202.24253157,  2069.88677247,  1132.3557591 ,\n",
       "        4068.85629139,  3860.26847867,  2931.04071464,  1444.4586806 ,\n",
       "         110.55716831,  1702.49862086,  3746.74338588,  6965.93932686,\n",
       "       16431.878926  ,    23.29691646,  3537.47650068,  6092.13733784,\n",
       "        1471.49113229,  2776.0308154 ,  1067.37455157,  1510.66550468,\n",
       "         422.11517655,    20.734547  ,   442.84972355,  1577.3310489 ,\n",
       "         956.05368048,   621.27736842,  2762.33045311,  1443.86821475,\n",
       "        1494.08371776,   305.73554428,   700.12164001,  3121.49565708,\n",
       "          51.52590758,   930.18256862,   781.31692465,  6155.94727271,\n",
       "        1915.59605664,  1530.15850316,   379.59440424,  3452.2832492 ,\n",
       "        2564.78161259,   784.75389829,  1406.96199947])"
      ]
     },
     "execution_count": 1287,
     "metadata": {},
     "output_type": "execute_result"
    }
   ],
   "source": [
    "scaler = StandardScaler()\n",
    "scaler.fit(X_train_1)\n",
    "X_train_s = scaler.transform(X_train_1)\n",
    "linreg.fit(X_train_1,y_train)\n",
    "\n",
    "np.abs(linreg.coef_)"
   ]
  },
  {
   "cell_type": "markdown",
   "id": "median-might",
   "metadata": {},
   "source": [
    "Look at coefficients to see if there is some insight from feature importance"
   ]
  },
  {
   "cell_type": "code",
   "execution_count": 1288,
   "id": "becoming-think",
   "metadata": {},
   "outputs": [
    {
     "data": {
      "text/html": [
       "<div>\n",
       "<style scoped>\n",
       "    .dataframe tbody tr th:only-of-type {\n",
       "        vertical-align: middle;\n",
       "    }\n",
       "\n",
       "    .dataframe tbody tr th {\n",
       "        vertical-align: top;\n",
       "    }\n",
       "\n",
       "    .dataframe thead th {\n",
       "        text-align: right;\n",
       "    }\n",
       "</style>\n",
       "<table border=\"1\" class=\"dataframe\">\n",
       "  <thead>\n",
       "    <tr style=\"text-align: right;\">\n",
       "      <th></th>\n",
       "      <th>features</th>\n",
       "      <th>coefs</th>\n",
       "    </tr>\n",
       "  </thead>\n",
       "  <tbody>\n",
       "    <tr>\n",
       "      <th>0</th>\n",
       "      <td>carat</td>\n",
       "      <td>20074.915961</td>\n",
       "    </tr>\n",
       "    <tr>\n",
       "      <th>24</th>\n",
       "      <td>clarity_FL</td>\n",
       "      <td>16431.878926</td>\n",
       "    </tr>\n",
       "    <tr>\n",
       "      <th>23</th>\n",
       "      <td>color_K</td>\n",
       "      <td>6965.939327</td>\n",
       "    </tr>\n",
       "    <tr>\n",
       "      <th>47</th>\n",
       "      <td>fluorescence_Very Strong Blue</td>\n",
       "      <td>6155.947273</td>\n",
       "    </tr>\n",
       "    <tr>\n",
       "      <th>27</th>\n",
       "      <td>clarity_SI2</td>\n",
       "      <td>6092.137338</td>\n",
       "    </tr>\n",
       "    <tr>\n",
       "      <th>16</th>\n",
       "      <td>color_D</td>\n",
       "      <td>4068.856291</td>\n",
       "    </tr>\n",
       "    <tr>\n",
       "      <th>17</th>\n",
       "      <td>color_E</td>\n",
       "      <td>3860.268479</td>\n",
       "    </tr>\n",
       "    <tr>\n",
       "      <th>22</th>\n",
       "      <td>color_J</td>\n",
       "      <td>3746.743386</td>\n",
       "    </tr>\n",
       "    <tr>\n",
       "      <th>11</th>\n",
       "      <td>shape_Princess</td>\n",
       "      <td>3727.793459</td>\n",
       "    </tr>\n",
       "    <tr>\n",
       "      <th>26</th>\n",
       "      <td>clarity_SI1</td>\n",
       "      <td>3537.476501</td>\n",
       "    </tr>\n",
       "    <tr>\n",
       "      <th>51</th>\n",
       "      <td>culet_Pointed</td>\n",
       "      <td>3452.283249</td>\n",
       "    </tr>\n",
       "    <tr>\n",
       "      <th>13</th>\n",
       "      <td>cut_Astor Ideal</td>\n",
       "      <td>3202.242532</td>\n",
       "    </tr>\n",
       "    <tr>\n",
       "      <th>43</th>\n",
       "      <td>fluorescence_None</td>\n",
       "      <td>3121.495657</td>\n",
       "    </tr>\n",
       "    <tr>\n",
       "      <th>18</th>\n",
       "      <td>color_F</td>\n",
       "      <td>2931.040715</td>\n",
       "    </tr>\n",
       "    <tr>\n",
       "      <th>29</th>\n",
       "      <td>clarity_VS2</td>\n",
       "      <td>2776.030815</td>\n",
       "    </tr>\n",
       "    <tr>\n",
       "      <th>38</th>\n",
       "      <td>fluorescence_Faint</td>\n",
       "      <td>2762.330453</td>\n",
       "    </tr>\n",
       "    <tr>\n",
       "      <th>52</th>\n",
       "      <td>culet_Slightly Large</td>\n",
       "      <td>2564.781613</td>\n",
       "    </tr>\n",
       "    <tr>\n",
       "      <th>3</th>\n",
       "      <td>lxwratio</td>\n",
       "      <td>2547.813764</td>\n",
       "    </tr>\n",
       "    <tr>\n",
       "      <th>5</th>\n",
       "      <td>shape_Cushion</td>\n",
       "      <td>2090.300418</td>\n",
       "    </tr>\n",
       "    <tr>\n",
       "      <th>14</th>\n",
       "      <td>cut_Good</td>\n",
       "      <td>2069.886772</td>\n",
       "    </tr>\n",
       "    <tr>\n",
       "      <th>12</th>\n",
       "      <td>shape_Radiant</td>\n",
       "      <td>2037.611522</td>\n",
       "    </tr>\n",
       "    <tr>\n",
       "      <th>6</th>\n",
       "      <td>shape_Emerald</td>\n",
       "      <td>2030.411922</td>\n",
       "    </tr>\n",
       "    <tr>\n",
       "      <th>48</th>\n",
       "      <td>culet_Large</td>\n",
       "      <td>1915.596057</td>\n",
       "    </tr>\n",
       "    <tr>\n",
       "      <th>21</th>\n",
       "      <td>color_I</td>\n",
       "      <td>1702.498621</td>\n",
       "    </tr>\n",
       "    <tr>\n",
       "      <th>35</th>\n",
       "      <td>symmetry_Excellent</td>\n",
       "      <td>1577.331049</td>\n",
       "    </tr>\n",
       "    <tr>\n",
       "      <th>49</th>\n",
       "      <td>culet_Medium</td>\n",
       "      <td>1530.158503</td>\n",
       "    </tr>\n",
       "    <tr>\n",
       "      <th>31</th>\n",
       "      <td>clarity_VVS2</td>\n",
       "      <td>1510.665505</td>\n",
       "    </tr>\n",
       "    <tr>\n",
       "      <th>40</th>\n",
       "      <td>fluorescence_Medium</td>\n",
       "      <td>1494.083718</td>\n",
       "    </tr>\n",
       "    <tr>\n",
       "      <th>28</th>\n",
       "      <td>clarity_VS1</td>\n",
       "      <td>1471.491132</td>\n",
       "    </tr>\n",
       "    <tr>\n",
       "      <th>19</th>\n",
       "      <td>color_G</td>\n",
       "      <td>1444.458681</td>\n",
       "    </tr>\n",
       "    <tr>\n",
       "      <th>39</th>\n",
       "      <td>fluorescence_Faint Blue</td>\n",
       "      <td>1443.868215</td>\n",
       "    </tr>\n",
       "    <tr>\n",
       "      <th>54</th>\n",
       "      <td>culet_Very Small</td>\n",
       "      <td>1406.961999</td>\n",
       "    </tr>\n",
       "    <tr>\n",
       "      <th>4</th>\n",
       "      <td>shape_Asscher</td>\n",
       "      <td>1191.914069</td>\n",
       "    </tr>\n",
       "    <tr>\n",
       "      <th>15</th>\n",
       "      <td>cut_Very Good</td>\n",
       "      <td>1132.355759</td>\n",
       "    </tr>\n",
       "    <tr>\n",
       "      <th>30</th>\n",
       "      <td>clarity_VVS1</td>\n",
       "      <td>1067.374552</td>\n",
       "    </tr>\n",
       "    <tr>\n",
       "      <th>36</th>\n",
       "      <td>symmetry_Good</td>\n",
       "      <td>956.053680</td>\n",
       "    </tr>\n",
       "    <tr>\n",
       "      <th>45</th>\n",
       "      <td>fluorescence_Strong Blue</td>\n",
       "      <td>930.182569</td>\n",
       "    </tr>\n",
       "    <tr>\n",
       "      <th>53</th>\n",
       "      <td>culet_Small</td>\n",
       "      <td>784.753898</td>\n",
       "    </tr>\n",
       "    <tr>\n",
       "      <th>46</th>\n",
       "      <td>fluorescence_Very Strong</td>\n",
       "      <td>781.316925</td>\n",
       "    </tr>\n",
       "    <tr>\n",
       "      <th>42</th>\n",
       "      <td>fluorescence_Medium Yellow</td>\n",
       "      <td>700.121640</td>\n",
       "    </tr>\n",
       "    <tr>\n",
       "      <th>37</th>\n",
       "      <td>symmetry_Very Good</td>\n",
       "      <td>621.277368</td>\n",
       "    </tr>\n",
       "    <tr>\n",
       "      <th>9</th>\n",
       "      <td>shape_Oval</td>\n",
       "      <td>567.511683</td>\n",
       "    </tr>\n",
       "    <tr>\n",
       "      <th>34</th>\n",
       "      <td>polish_Very Good</td>\n",
       "      <td>442.849724</td>\n",
       "    </tr>\n",
       "    <tr>\n",
       "      <th>32</th>\n",
       "      <td>polish_Excellent</td>\n",
       "      <td>422.115177</td>\n",
       "    </tr>\n",
       "    <tr>\n",
       "      <th>50</th>\n",
       "      <td>culet_None</td>\n",
       "      <td>379.594404</td>\n",
       "    </tr>\n",
       "    <tr>\n",
       "      <th>10</th>\n",
       "      <td>shape_Pear</td>\n",
       "      <td>329.464936</td>\n",
       "    </tr>\n",
       "    <tr>\n",
       "      <th>41</th>\n",
       "      <td>fluorescence_Medium Blue</td>\n",
       "      <td>305.735544</td>\n",
       "    </tr>\n",
       "    <tr>\n",
       "      <th>8</th>\n",
       "      <td>shape_Marquise</td>\n",
       "      <td>305.574409</td>\n",
       "    </tr>\n",
       "    <tr>\n",
       "      <th>1</th>\n",
       "      <td>depth</td>\n",
       "      <td>152.473569</td>\n",
       "    </tr>\n",
       "    <tr>\n",
       "      <th>2</th>\n",
       "      <td>table</td>\n",
       "      <td>121.665535</td>\n",
       "    </tr>\n",
       "    <tr>\n",
       "      <th>20</th>\n",
       "      <td>color_H</td>\n",
       "      <td>110.557168</td>\n",
       "    </tr>\n",
       "    <tr>\n",
       "      <th>7</th>\n",
       "      <td>shape_Heart</td>\n",
       "      <td>105.241784</td>\n",
       "    </tr>\n",
       "    <tr>\n",
       "      <th>44</th>\n",
       "      <td>fluorescence_Strong</td>\n",
       "      <td>51.525908</td>\n",
       "    </tr>\n",
       "    <tr>\n",
       "      <th>25</th>\n",
       "      <td>clarity_IF</td>\n",
       "      <td>23.296916</td>\n",
       "    </tr>\n",
       "    <tr>\n",
       "      <th>33</th>\n",
       "      <td>polish_Good</td>\n",
       "      <td>20.734547</td>\n",
       "    </tr>\n",
       "  </tbody>\n",
       "</table>\n",
       "</div>"
      ],
      "text/plain": [
       "                         features         coefs\n",
       "0                           carat  20074.915961\n",
       "24                     clarity_FL  16431.878926\n",
       "23                        color_K   6965.939327\n",
       "47  fluorescence_Very Strong Blue   6155.947273\n",
       "27                    clarity_SI2   6092.137338\n",
       "16                        color_D   4068.856291\n",
       "17                        color_E   3860.268479\n",
       "22                        color_J   3746.743386\n",
       "11                 shape_Princess   3727.793459\n",
       "26                    clarity_SI1   3537.476501\n",
       "51                  culet_Pointed   3452.283249\n",
       "13                cut_Astor Ideal   3202.242532\n",
       "43              fluorescence_None   3121.495657\n",
       "18                        color_F   2931.040715\n",
       "29                    clarity_VS2   2776.030815\n",
       "38             fluorescence_Faint   2762.330453\n",
       "52           culet_Slightly Large   2564.781613\n",
       "3                        lxwratio   2547.813764\n",
       "5                   shape_Cushion   2090.300418\n",
       "14                       cut_Good   2069.886772\n",
       "12                  shape_Radiant   2037.611522\n",
       "6                   shape_Emerald   2030.411922\n",
       "48                    culet_Large   1915.596057\n",
       "21                        color_I   1702.498621\n",
       "35             symmetry_Excellent   1577.331049\n",
       "49                   culet_Medium   1530.158503\n",
       "31                   clarity_VVS2   1510.665505\n",
       "40            fluorescence_Medium   1494.083718\n",
       "28                    clarity_VS1   1471.491132\n",
       "19                        color_G   1444.458681\n",
       "39        fluorescence_Faint Blue   1443.868215\n",
       "54               culet_Very Small   1406.961999\n",
       "4                   shape_Asscher   1191.914069\n",
       "15                  cut_Very Good   1132.355759\n",
       "30                   clarity_VVS1   1067.374552\n",
       "36                  symmetry_Good    956.053680\n",
       "45       fluorescence_Strong Blue    930.182569\n",
       "53                    culet_Small    784.753898\n",
       "46       fluorescence_Very Strong    781.316925\n",
       "42     fluorescence_Medium Yellow    700.121640\n",
       "37             symmetry_Very Good    621.277368\n",
       "9                      shape_Oval    567.511683\n",
       "34               polish_Very Good    442.849724\n",
       "32               polish_Excellent    422.115177\n",
       "50                     culet_None    379.594404\n",
       "10                     shape_Pear    329.464936\n",
       "41       fluorescence_Medium Blue    305.735544\n",
       "8                  shape_Marquise    305.574409\n",
       "1                           depth    152.473569\n",
       "2                           table    121.665535\n",
       "20                        color_H    110.557168\n",
       "7                     shape_Heart    105.241784\n",
       "44            fluorescence_Strong     51.525908\n",
       "25                     clarity_IF     23.296916\n",
       "33                    polish_Good     20.734547"
      ]
     },
     "execution_count": 1288,
     "metadata": {},
     "output_type": "execute_result"
    }
   ],
   "source": [
    "coefficients = pd.concat([pd.DataFrame(X_train_1.columns, columns = ['features']),pd.DataFrame(np.transpose(np.abs(linreg.coef_)),columns = ['coefs'])], axis = 1)\n",
    "coefficients.sort_values(by=['coefs'],ascending=False)"
   ]
  },
  {
   "cell_type": "code",
   "execution_count": 1478,
   "id": "dominant-authorization",
   "metadata": {
    "scrolled": true
   },
   "outputs": [
    {
     "name": "stdout",
     "output_type": "stream",
     "text": [
      "Train RMSE: 9527.642176907168\n",
      "Test RMSE: 9687.07371844203\n",
      "Train R2: 0.737447182613451\n",
      "Train R2: 0.7316435737133925\n",
      "Mean Absolute Percentage Error: 3.6333682346407974\n"
     ]
    }
   ],
   "source": [
    "X_train_2 = X_train[['carat','cut','clarity', 'color']]\n",
    "X_train_2 = pd.get_dummies(X_train_2)\n",
    "X_test_2 = X_test[['carat','cut','clarity', 'color']]\n",
    "X_test_2 = pd.get_dummies(X_test_2)\n",
    "y_predicted_2 = linreg.fit(X_train_2,y_train).predict(X_test_2)\n",
    "print(f'Train RMSE: {-cross_val_score(linreg,X_train_2,y_train,scoring=\"neg_root_mean_squared_error\").mean()}')\n",
    "print(f'Test RMSE: {np.sqrt(mean_squared_error(y_test,y_predicted_2))}')\n",
    "print(f'Train R2: {cross_val_score(linreg,X_train_2,y_train,scoring=\"r2\").mean()}')\n",
    "print(f'Train R2: {r2_score(y_test,y_predicted_2)}')\n",
    "print(f'Mean Absolute Percentage Error: {mean_absolute_percentage_error(y_test,y_predicted_2)}')"
   ]
  },
  {
   "cell_type": "markdown",
   "id": "alive-stranger",
   "metadata": {},
   "source": [
    "The plot below exhibits “heteroscedasticity,” meaning that the residuals get larger as the prediction moves from small to large (or from large to small)."
   ]
  },
  {
   "cell_type": "code",
   "execution_count": 1284,
   "id": "worldwide-grounds",
   "metadata": {},
   "outputs": [
    {
     "data": {
      "image/png": "[encoded data removed]",
      "text/plain": [
       "<Figure size 432x288 with 1 Axes>"
      ]
     },
     "metadata": {
      "needs_background": "light"
     },
     "output_type": "display_data"
    }
   ],
   "source": [
    "predicted = linreg.fit(X_train_1,y_train).predict(X_test_1)\n",
    "residuals = y_test - predicted\n",
    "\n",
    "fig,ax = plt.subplots()\n",
    "ax.scatter(predicted,residuals)\n",
    "plt.axhline(y=0, color = 'r')\n",
    "ax.set_xlabel('Predicted Prices')\n",
    "ax.set_ylabel('Residuals');"
   ]
  },
  {
   "cell_type": "markdown",
   "id": "asian-deposit",
   "metadata": {},
   "source": [
    "## Random Forest"
   ]
  },
  {
   "cell_type": "code",
   "execution_count": 1500,
   "id": "intelligent-police",
   "metadata": {},
   "outputs": [
    {
     "name": "stdout",
     "output_type": "stream",
     "text": [
      "Train RMSE: 0.10868097546923627\n",
      "Test RMSE: 0.10579941466059527\n",
      "Train R2: 0.9939805311226717\n",
      "Test R2: 0.9943590776072421\n",
      "Mean Absolute Percentage Error: 0.05816423453700561\n"
     ]
    }
   ],
   "source": [
    "#using all features\n",
    "rf= RandomForestRegressor(n_jobs=-1).fit(X_train_1,y_train)\n",
    "print(f'Train RMSE: {-cross_val_score(rf,X_train_1,y_train, scoring=\"neg_root_mean_squared_error\").mean()}')\n",
    "print(f'Test RMSE: {np.sqrt(mean_squared_error(y_test,rf.predict(X_test_1)))}')\n",
    "print(f'Train R2: {cross_val_score(rf,X_train_1,y_train,scoring=\"r2\").mean()}')\n",
    "print(f'Test R2: {r2_score(y_test,rf.predict(X_test_1))}')\n",
    "print(f'Mean Absolute Percentage Error: {mean_absolute_percentage_error(y_test,y_predicted_1)}')"
   ]
  },
  {
   "cell_type": "code",
   "execution_count": 1501,
   "id": "joint-player",
   "metadata": {},
   "outputs": [
    {
     "data": {
      "image/png": "[encoded data removed]",
      "text/plain": [
       "<Figure size 432x288 with 1 Axes>"
      ]
     },
     "metadata": {
      "needs_background": "light"
     },
     "output_type": "display_data"
    }
   ],
   "source": [
    "predicted = rf.fit(X_train_1,y_train).predict(X_test_1)\n",
    "residuals = y_test - predicted\n",
    "\n",
    "fig,ax = plt.subplots()\n",
    "ax.scatter(predicted,residuals)\n",
    "plt.axhline(y=0, color = 'r')\n",
    "ax.set_xlabel('Predicted Prices')\n",
    "ax.set_ylabel('Residuals');"
   ]
  },
  {
   "cell_type": "code",
   "execution_count": 1490,
   "id": "aware-thirty",
   "metadata": {},
   "outputs": [
    {
     "data": {
      "text/plain": [
       "Text(0, 0.5, 'percent error')"
      ]
     },
     "execution_count": 1490,
     "metadata": {},
     "output_type": "execute_result"
    },
    {
     "data": {
      "image/png": "[encoded data removed]",
      "text/plain": [
       "<Figure size 432x288 with 1 Axes>"
      ]
     },
     "metadata": {
      "needs_background": "light"
     },
     "output_type": "display_data"
    }
   ],
   "source": [
    "percent_error = np.abs(y_test - y_predicted_1)/y_test\n",
    "fig,ax = plt.subplots()\n",
    "ax.scatter(y_predicted_1,percent_error)\n",
    "ax.set_xlabel('predicted price')\n",
    "plt.axhline(y=0, color = 'r')\n",
    "ax.set_ylabel('percent error')"
   ]
  },
  {
   "cell_type": "code",
   "execution_count": 1070,
   "id": "norwegian-dubai",
   "metadata": {},
   "outputs": [
    {
     "name": "stdout",
     "output_type": "stream",
     "text": [
      "Train RMSE: 6694.9343785587935\n",
      "Test RMSE: 18279.272717774107\n"
     ]
    }
   ],
   "source": [
    "#remove features/only using 4c's - improved but still overfitting to training data\n",
    "rf= RandomForestRegressor(n_jobs=-1).fit(X_train_2,y_train)\n",
    "print(f'Train RMSE: {-cross_val_score(rf,X_train_2,y_train, scoring=\"neg_root_mean_squared_error\").mean()}')\n",
    "print(f'Test RMSE: {np.sqrt(mean_squared_error(y_test,rf.predict(X_test_2)))}')"
   ]
  },
  {
   "cell_type": "code",
   "execution_count": 1071,
   "id": "liked-testimony",
   "metadata": {},
   "outputs": [
    {
     "data": {
      "image/png": "[encoded data removed]",
      "text/plain": [
       "<Figure size 720x1440 with 1 Axes>"
      ]
     },
     "metadata": {
      "needs_background": "light"
     },
     "output_type": "display_data"
    }
   ],
   "source": [
    "# Plot the feature importance\n",
    "feat_scores = pd.Series(rf.feature_importances_,\n",
    "                           index=X_train_2.columns)\n",
    "feat_scores = feat_scores.sort_values()\n",
    "ax = feat_scores.plot(kind='barh', \n",
    "                      figsize=(10,20),\n",
    "                      color='b')\n",
    "ax.set_title('Average Gini Importance')\n",
    "ax.set_xlabel('Average contribution to information gain');"
   ]
  },
  {
   "cell_type": "code",
   "execution_count": null,
   "id": "sweet-boards",
   "metadata": {},
   "outputs": [],
   "source": []
  },
  {
   "cell_type": "markdown",
   "id": "sealed-saying",
   "metadata": {},
   "source": [
    "* n_estimators = number of trees in the foreset\n",
    "* max_features = max number of features considered for splitting a node\n",
    "* max_depth = max number of levels in each decision tree\n",
    "* min_samples_split = min number of data points placed in a node before the node is split\n",
    "* min_samples_leaf = min number of data points allowed in a leaf node\n",
    "* bootstrap = method for sampling data points (with or without replacement)"
   ]
  },
  {
   "cell_type": "code",
   "execution_count": 1063,
   "id": "aggregate-verification",
   "metadata": {},
   "outputs": [],
   "source": [
    "#creating a random grid\n",
    "n_estimators = [int(x) for x in np.linspace(start=200,stop=500, num =4)]\n",
    "max_features = ['auto','sqrt']\n",
    "min_samples_split = [2,5,10]\n",
    "min_samples_leaf = [1,2,4]\n",
    "\n",
    "random_grid = {'n_estimators': n_estimators, \n",
    "               'max_features': max_features,\n",
    "               'min_samples_split': min_samples_split,\n",
    "               'min_samples_leaf': min_samples_leaf}"
   ]
  },
  {
   "cell_type": "code",
   "execution_count": 1068,
   "id": "green-frame",
   "metadata": {},
   "outputs": [
    {
     "ename": "KeyboardInterrupt",
     "evalue": "",
     "output_type": "error",
     "traceback": [
      "\u001b[0;31m---------------------------------------------------------------------------\u001b[0m",
      "\u001b[0;31mKeyboardInterrupt\u001b[0m                         Traceback (most recent call last)",
      "\u001b[0;32m<ipython-input-1068-ea7bf3886779>\u001b[0m in \u001b[0;36m<module>\u001b[0;34m\u001b[0m\n\u001b[1;32m      1\u001b[0m \u001b[0mrf\u001b[0m \u001b[0;34m=\u001b[0m \u001b[0mRandomForestRegressor\u001b[0m\u001b[0;34m(\u001b[0m\u001b[0mmax_depth\u001b[0m \u001b[0;34m=\u001b[0m \u001b[0;36m20\u001b[0m\u001b[0;34m,\u001b[0m \u001b[0mn_jobs\u001b[0m \u001b[0;34m=\u001b[0m \u001b[0;34m-\u001b[0m\u001b[0;36m1\u001b[0m \u001b[0;34m)\u001b[0m\u001b[0;34m\u001b[0m\u001b[0;34m\u001b[0m\u001b[0m\n\u001b[1;32m      2\u001b[0m \u001b[0mrf_random\u001b[0m \u001b[0;34m=\u001b[0m \u001b[0mRandomizedSearchCV\u001b[0m\u001b[0;34m(\u001b[0m\u001b[0mestimator\u001b[0m \u001b[0;34m=\u001b[0m \u001b[0mrf\u001b[0m\u001b[0;34m,\u001b[0m \u001b[0mparam_distributions\u001b[0m \u001b[0;34m=\u001b[0m \u001b[0mrandom_grid\u001b[0m\u001b[0;34m,\u001b[0m \u001b[0mn_iter\u001b[0m \u001b[0;34m=\u001b[0m \u001b[0;36m50\u001b[0m\u001b[0;34m,\u001b[0m \u001b[0mcv\u001b[0m\u001b[0;34m=\u001b[0m\u001b[0;36m3\u001b[0m\u001b[0;34m,\u001b[0m\u001b[0mn_jobs\u001b[0m\u001b[0;34m=\u001b[0m\u001b[0;34m-\u001b[0m\u001b[0;36m1\u001b[0m\u001b[0;34m)\u001b[0m\u001b[0;34m\u001b[0m\u001b[0;34m\u001b[0m\u001b[0m\n\u001b[0;32m----> 3\u001b[0;31m \u001b[0mrf_random\u001b[0m\u001b[0;34m.\u001b[0m\u001b[0mfit\u001b[0m\u001b[0;34m(\u001b[0m\u001b[0mX_train_2\u001b[0m\u001b[0;34m,\u001b[0m\u001b[0my_train\u001b[0m\u001b[0;34m)\u001b[0m\u001b[0;34m\u001b[0m\u001b[0;34m\u001b[0m\u001b[0m\n\u001b[0m",
      "\u001b[0;32m/opt/anaconda3/lib/python3.7/site-packages/sklearn/utils/validation.py\u001b[0m in \u001b[0;36minner_f\u001b[0;34m(*args, **kwargs)\u001b[0m\n\u001b[1;32m     61\u001b[0m             \u001b[0mextra_args\u001b[0m \u001b[0;34m=\u001b[0m \u001b[0mlen\u001b[0m\u001b[0;34m(\u001b[0m\u001b[0margs\u001b[0m\u001b[0;34m)\u001b[0m \u001b[0;34m-\u001b[0m \u001b[0mlen\u001b[0m\u001b[0;34m(\u001b[0m\u001b[0mall_args\u001b[0m\u001b[0;34m)\u001b[0m\u001b[0;34m\u001b[0m\u001b[0;34m\u001b[0m\u001b[0m\n\u001b[1;32m     62\u001b[0m             \u001b[0;32mif\u001b[0m \u001b[0mextra_args\u001b[0m \u001b[0;34m<=\u001b[0m \u001b[0;36m0\u001b[0m\u001b[0;34m:\u001b[0m\u001b[0;34m\u001b[0m\u001b[0;34m\u001b[0m\u001b[0m\n\u001b[0;32m---> 63\u001b[0;31m                 \u001b[0;32mreturn\u001b[0m \u001b[0mf\u001b[0m\u001b[0;34m(\u001b[0m\u001b[0;34m*\u001b[0m\u001b[0margs\u001b[0m\u001b[0;34m,\u001b[0m \u001b[0;34m**\u001b[0m\u001b[0mkwargs\u001b[0m\u001b[0;34m)\u001b[0m\u001b[0;34m\u001b[0m\u001b[0;34m\u001b[0m\u001b[0m\n\u001b[0m\u001b[1;32m     64\u001b[0m \u001b[0;34m\u001b[0m\u001b[0m\n\u001b[1;32m     65\u001b[0m             \u001b[0;31m# extra_args > 0\u001b[0m\u001b[0;34m\u001b[0m\u001b[0;34m\u001b[0m\u001b[0;34m\u001b[0m\u001b[0m\n",
      "\u001b[0;32m/opt/anaconda3/lib/python3.7/site-packages/sklearn/model_selection/_search.py\u001b[0m in \u001b[0;36mfit\u001b[0;34m(self, X, y, groups, **fit_params)\u001b[0m\n\u001b[1;32m    839\u001b[0m                 \u001b[0;32mreturn\u001b[0m \u001b[0mresults\u001b[0m\u001b[0;34m\u001b[0m\u001b[0;34m\u001b[0m\u001b[0m\n\u001b[1;32m    840\u001b[0m \u001b[0;34m\u001b[0m\u001b[0m\n\u001b[0;32m--> 841\u001b[0;31m             \u001b[0mself\u001b[0m\u001b[0;34m.\u001b[0m\u001b[0m_run_search\u001b[0m\u001b[0;34m(\u001b[0m\u001b[0mevaluate_candidates\u001b[0m\u001b[0;34m)\u001b[0m\u001b[0;34m\u001b[0m\u001b[0;34m\u001b[0m\u001b[0m\n\u001b[0m\u001b[1;32m    842\u001b[0m \u001b[0;34m\u001b[0m\u001b[0m\n\u001b[1;32m    843\u001b[0m             \u001b[0;31m# multimetric is determined here because in the case of a callable\u001b[0m\u001b[0;34m\u001b[0m\u001b[0;34m\u001b[0m\u001b[0;34m\u001b[0m\u001b[0m\n",
      "\u001b[0;32m/opt/anaconda3/lib/python3.7/site-packages/sklearn/model_selection/_search.py\u001b[0m in \u001b[0;36m_run_search\u001b[0;34m(self, evaluate_candidates)\u001b[0m\n\u001b[1;32m   1619\u001b[0m         evaluate_candidates(ParameterSampler(\n\u001b[1;32m   1620\u001b[0m             \u001b[0mself\u001b[0m\u001b[0;34m.\u001b[0m\u001b[0mparam_distributions\u001b[0m\u001b[0;34m,\u001b[0m \u001b[0mself\u001b[0m\u001b[0;34m.\u001b[0m\u001b[0mn_iter\u001b[0m\u001b[0;34m,\u001b[0m\u001b[0;34m\u001b[0m\u001b[0;34m\u001b[0m\u001b[0m\n\u001b[0;32m-> 1621\u001b[0;31m             random_state=self.random_state))\n\u001b[0m",
      "\u001b[0;32m/opt/anaconda3/lib/python3.7/site-packages/sklearn/model_selection/_search.py\u001b[0m in \u001b[0;36mevaluate_candidates\u001b[0;34m(candidate_params, cv, more_results)\u001b[0m\n\u001b[1;32m    807\u001b[0m                                    (split_idx, (train, test)) in product(\n\u001b[1;32m    808\u001b[0m                                    \u001b[0menumerate\u001b[0m\u001b[0;34m(\u001b[0m\u001b[0mcandidate_params\u001b[0m\u001b[0;34m)\u001b[0m\u001b[0;34m,\u001b[0m\u001b[0;34m\u001b[0m\u001b[0;34m\u001b[0m\u001b[0m\n\u001b[0;32m--> 809\u001b[0;31m                                    enumerate(cv.split(X, y, groups))))\n\u001b[0m\u001b[1;32m    810\u001b[0m \u001b[0;34m\u001b[0m\u001b[0m\n\u001b[1;32m    811\u001b[0m                 \u001b[0;32mif\u001b[0m \u001b[0mlen\u001b[0m\u001b[0;34m(\u001b[0m\u001b[0mout\u001b[0m\u001b[0;34m)\u001b[0m \u001b[0;34m<\u001b[0m \u001b[0;36m1\u001b[0m\u001b[0;34m:\u001b[0m\u001b[0;34m\u001b[0m\u001b[0;34m\u001b[0m\u001b[0m\n",
      "\u001b[0;32m/opt/anaconda3/lib/python3.7/site-packages/joblib/parallel.py\u001b[0m in \u001b[0;36m__call__\u001b[0;34m(self, iterable)\u001b[0m\n\u001b[1;32m   1052\u001b[0m \u001b[0;34m\u001b[0m\u001b[0m\n\u001b[1;32m   1053\u001b[0m             \u001b[0;32mwith\u001b[0m \u001b[0mself\u001b[0m\u001b[0;34m.\u001b[0m\u001b[0m_backend\u001b[0m\u001b[0;34m.\u001b[0m\u001b[0mretrieval_context\u001b[0m\u001b[0;34m(\u001b[0m\u001b[0;34m)\u001b[0m\u001b[0;34m:\u001b[0m\u001b[0;34m\u001b[0m\u001b[0;34m\u001b[0m\u001b[0m\n\u001b[0;32m-> 1054\u001b[0;31m                 \u001b[0mself\u001b[0m\u001b[0;34m.\u001b[0m\u001b[0mretrieve\u001b[0m\u001b[0;34m(\u001b[0m\u001b[0;34m)\u001b[0m\u001b[0;34m\u001b[0m\u001b[0;34m\u001b[0m\u001b[0m\n\u001b[0m\u001b[1;32m   1055\u001b[0m             \u001b[0;31m# Make sure that we get a last message telling us we are done\u001b[0m\u001b[0;34m\u001b[0m\u001b[0;34m\u001b[0m\u001b[0;34m\u001b[0m\u001b[0m\n\u001b[1;32m   1056\u001b[0m             \u001b[0melapsed_time\u001b[0m \u001b[0;34m=\u001b[0m \u001b[0mtime\u001b[0m\u001b[0;34m.\u001b[0m\u001b[0mtime\u001b[0m\u001b[0;34m(\u001b[0m\u001b[0;34m)\u001b[0m \u001b[0;34m-\u001b[0m \u001b[0mself\u001b[0m\u001b[0;34m.\u001b[0m\u001b[0m_start_time\u001b[0m\u001b[0;34m\u001b[0m\u001b[0;34m\u001b[0m\u001b[0m\n",
      "\u001b[0;32m/opt/anaconda3/lib/python3.7/site-packages/joblib/parallel.py\u001b[0m in \u001b[0;36mretrieve\u001b[0;34m(self)\u001b[0m\n\u001b[1;32m    931\u001b[0m             \u001b[0;32mtry\u001b[0m\u001b[0;34m:\u001b[0m\u001b[0;34m\u001b[0m\u001b[0;34m\u001b[0m\u001b[0m\n\u001b[1;32m    932\u001b[0m                 \u001b[0;32mif\u001b[0m \u001b[0mgetattr\u001b[0m\u001b[0;34m(\u001b[0m\u001b[0mself\u001b[0m\u001b[0;34m.\u001b[0m\u001b[0m_backend\u001b[0m\u001b[0;34m,\u001b[0m \u001b[0;34m'supports_timeout'\u001b[0m\u001b[0;34m,\u001b[0m \u001b[0;32mFalse\u001b[0m\u001b[0;34m)\u001b[0m\u001b[0;34m:\u001b[0m\u001b[0;34m\u001b[0m\u001b[0;34m\u001b[0m\u001b[0m\n\u001b[0;32m--> 933\u001b[0;31m                     \u001b[0mself\u001b[0m\u001b[0;34m.\u001b[0m\u001b[0m_output\u001b[0m\u001b[0;34m.\u001b[0m\u001b[0mextend\u001b[0m\u001b[0;34m(\u001b[0m\u001b[0mjob\u001b[0m\u001b[0;34m.\u001b[0m\u001b[0mget\u001b[0m\u001b[0;34m(\u001b[0m\u001b[0mtimeout\u001b[0m\u001b[0;34m=\u001b[0m\u001b[0mself\u001b[0m\u001b[0;34m.\u001b[0m\u001b[0mtimeout\u001b[0m\u001b[0;34m)\u001b[0m\u001b[0;34m)\u001b[0m\u001b[0;34m\u001b[0m\u001b[0;34m\u001b[0m\u001b[0m\n\u001b[0m\u001b[1;32m    934\u001b[0m                 \u001b[0;32melse\u001b[0m\u001b[0;34m:\u001b[0m\u001b[0;34m\u001b[0m\u001b[0;34m\u001b[0m\u001b[0m\n\u001b[1;32m    935\u001b[0m                     \u001b[0mself\u001b[0m\u001b[0;34m.\u001b[0m\u001b[0m_output\u001b[0m\u001b[0;34m.\u001b[0m\u001b[0mextend\u001b[0m\u001b[0;34m(\u001b[0m\u001b[0mjob\u001b[0m\u001b[0;34m.\u001b[0m\u001b[0mget\u001b[0m\u001b[0;34m(\u001b[0m\u001b[0;34m)\u001b[0m\u001b[0;34m)\u001b[0m\u001b[0;34m\u001b[0m\u001b[0;34m\u001b[0m\u001b[0m\n",
      "\u001b[0;32m/opt/anaconda3/lib/python3.7/site-packages/joblib/_parallel_backends.py\u001b[0m in \u001b[0;36mwrap_future_result\u001b[0;34m(future, timeout)\u001b[0m\n\u001b[1;32m    540\u001b[0m         AsyncResults.get from multiprocessing.\"\"\"\n\u001b[1;32m    541\u001b[0m         \u001b[0;32mtry\u001b[0m\u001b[0;34m:\u001b[0m\u001b[0;34m\u001b[0m\u001b[0;34m\u001b[0m\u001b[0m\n\u001b[0;32m--> 542\u001b[0;31m             \u001b[0;32mreturn\u001b[0m \u001b[0mfuture\u001b[0m\u001b[0;34m.\u001b[0m\u001b[0mresult\u001b[0m\u001b[0;34m(\u001b[0m\u001b[0mtimeout\u001b[0m\u001b[0;34m=\u001b[0m\u001b[0mtimeout\u001b[0m\u001b[0;34m)\u001b[0m\u001b[0;34m\u001b[0m\u001b[0;34m\u001b[0m\u001b[0m\n\u001b[0m\u001b[1;32m    543\u001b[0m         \u001b[0;32mexcept\u001b[0m \u001b[0mCfTimeoutError\u001b[0m \u001b[0;32mas\u001b[0m \u001b[0me\u001b[0m\u001b[0;34m:\u001b[0m\u001b[0;34m\u001b[0m\u001b[0;34m\u001b[0m\u001b[0m\n\u001b[1;32m    544\u001b[0m             \u001b[0;32mraise\u001b[0m \u001b[0mTimeoutError\u001b[0m \u001b[0;32mfrom\u001b[0m \u001b[0me\u001b[0m\u001b[0;34m\u001b[0m\u001b[0;34m\u001b[0m\u001b[0m\n",
      "\u001b[0;32m/opt/anaconda3/lib/python3.7/concurrent/futures/_base.py\u001b[0m in \u001b[0;36mresult\u001b[0;34m(self, timeout)\u001b[0m\n\u001b[1;32m    428\u001b[0m                 \u001b[0;32mreturn\u001b[0m \u001b[0mself\u001b[0m\u001b[0;34m.\u001b[0m\u001b[0m__get_result\u001b[0m\u001b[0;34m(\u001b[0m\u001b[0;34m)\u001b[0m\u001b[0;34m\u001b[0m\u001b[0;34m\u001b[0m\u001b[0m\n\u001b[1;32m    429\u001b[0m \u001b[0;34m\u001b[0m\u001b[0m\n\u001b[0;32m--> 430\u001b[0;31m             \u001b[0mself\u001b[0m\u001b[0;34m.\u001b[0m\u001b[0m_condition\u001b[0m\u001b[0;34m.\u001b[0m\u001b[0mwait\u001b[0m\u001b[0;34m(\u001b[0m\u001b[0mtimeout\u001b[0m\u001b[0;34m)\u001b[0m\u001b[0;34m\u001b[0m\u001b[0;34m\u001b[0m\u001b[0m\n\u001b[0m\u001b[1;32m    431\u001b[0m \u001b[0;34m\u001b[0m\u001b[0m\n\u001b[1;32m    432\u001b[0m             \u001b[0;32mif\u001b[0m \u001b[0mself\u001b[0m\u001b[0;34m.\u001b[0m\u001b[0m_state\u001b[0m \u001b[0;32min\u001b[0m \u001b[0;34m[\u001b[0m\u001b[0mCANCELLED\u001b[0m\u001b[0;34m,\u001b[0m \u001b[0mCANCELLED_AND_NOTIFIED\u001b[0m\u001b[0;34m]\u001b[0m\u001b[0;34m:\u001b[0m\u001b[0;34m\u001b[0m\u001b[0;34m\u001b[0m\u001b[0m\n",
      "\u001b[0;32m/opt/anaconda3/lib/python3.7/threading.py\u001b[0m in \u001b[0;36mwait\u001b[0;34m(self, timeout)\u001b[0m\n\u001b[1;32m    294\u001b[0m         \u001b[0;32mtry\u001b[0m\u001b[0;34m:\u001b[0m    \u001b[0;31m# restore state no matter what (e.g., KeyboardInterrupt)\u001b[0m\u001b[0;34m\u001b[0m\u001b[0;34m\u001b[0m\u001b[0m\n\u001b[1;32m    295\u001b[0m             \u001b[0;32mif\u001b[0m \u001b[0mtimeout\u001b[0m \u001b[0;32mis\u001b[0m \u001b[0;32mNone\u001b[0m\u001b[0;34m:\u001b[0m\u001b[0;34m\u001b[0m\u001b[0;34m\u001b[0m\u001b[0m\n\u001b[0;32m--> 296\u001b[0;31m                 \u001b[0mwaiter\u001b[0m\u001b[0;34m.\u001b[0m\u001b[0macquire\u001b[0m\u001b[0;34m(\u001b[0m\u001b[0;34m)\u001b[0m\u001b[0;34m\u001b[0m\u001b[0;34m\u001b[0m\u001b[0m\n\u001b[0m\u001b[1;32m    297\u001b[0m                 \u001b[0mgotit\u001b[0m \u001b[0;34m=\u001b[0m \u001b[0;32mTrue\u001b[0m\u001b[0;34m\u001b[0m\u001b[0;34m\u001b[0m\u001b[0m\n\u001b[1;32m    298\u001b[0m             \u001b[0;32melse\u001b[0m\u001b[0;34m:\u001b[0m\u001b[0;34m\u001b[0m\u001b[0;34m\u001b[0m\u001b[0m\n",
      "\u001b[0;31mKeyboardInterrupt\u001b[0m: "
     ]
    }
   ],
   "source": [
    "rf = RandomForestRegressor(max_depth = 20, n_jobs = -1 )\n",
    "rf_random = RandomizedSearchCV(estimator = rf, param_distributions = random_grid, n_iter = 50, cv=3,n_jobs=-1)\n",
    "rf_random.fit(X_train_2,y_train)"
   ]
  },
  {
   "cell_type": "code",
   "execution_count": 1065,
   "id": "occupied-cuisine",
   "metadata": {},
   "outputs": [
    {
     "data": {
      "text/plain": [
       "{'n_estimators': 300,\n",
       " 'min_samples_split': 2,\n",
       " 'min_samples_leaf': 1,\n",
       " 'max_features': 'auto'}"
      ]
     },
     "execution_count": 1065,
     "metadata": {},
     "output_type": "execute_result"
    }
   ],
   "source": [
    "rf_random.best_params_"
   ]
  },
  {
   "cell_type": "code",
   "execution_count": null,
   "id": "raising-vertical",
   "metadata": {},
   "outputs": [],
   "source": [
    "rf = RandomForestRegressor(n_estimators = 300, min_samples_split =2, min_samples_leaf = 1, max_features = 'auto', max_depth = 20).fit(X_train_2,y_train)\n",
    "print(f'Train RMSE: {-cross_val_score(rf,X_train_2,y_train, scoring=\"neg_root_mean_squared_error\").mean()}')\n",
    "print(f'Test RMSE: {np.sqrt(mean_squared_error(y_test,rf.predict(X_test_2)))}')"
   ]
  },
  {
   "cell_type": "code",
   "execution_count": 1042,
   "id": "backed-france",
   "metadata": {},
   "outputs": [
    {
     "name": "stdout",
     "output_type": "stream",
     "text": [
      "A Random Forest Regressor with 1 # trees gets a score of 11176.095897196257\n",
      "A Random Forest Regressor with 5 # trees gets a score of 8552.025555891069\n",
      "A Random Forest Regressor with 10 # trees gets a score of 7412.964709538256\n",
      "A Random Forest Regressor with 20 # trees gets a score of 7510.149420683639\n",
      "A Random Forest Regressor with 50 # trees gets a score of 7076.474429446709\n",
      "A Random Forest Regressor with 100 # trees gets a score of 7110.977498026284\n",
      "A Random Forest Regressor with 200 # trees gets a score of 7030.275635041355\n",
      "A Random Forest Regressor with 500 # trees gets a score of 7071.017200483923\n",
      "A Random Forest Regressor with 1000 # trees gets a score of 7053.021918440689\n"
     ]
    },
    {
     "data": {
      "text/plain": [
       "[<matplotlib.lines.Line2D at 0x7feb3eca4d90>]"
      ]
     },
     "execution_count": 1042,
     "metadata": {},
     "output_type": "execute_result"
    },
    {
     "data": {
      "image/png": "[encoded data removed]",
      "text/plain": [
       "<Figure size 432x288 with 1 Axes>"
      ]
     },
     "metadata": {
      "needs_background": "light"
     },
     "output_type": "display_data"
    }
   ],
   "source": [
    "trees = [1, 5, 10, 20, 50, 100, 200, 500, 1000]\n",
    "scores = []\n",
    "\n",
    "for t in trees:\n",
    "    model = RandomForestRegressor(n_estimators=t, n_jobs = -1)\n",
    "    score = -cross_val_score(model,X_train_1,y_train, scoring=\"neg_root_mean_squared_error\").mean()\n",
    "    print('A Random Forest Regressor with {} # trees gets a score of {}'\n",
    "          .format(t,score))\n",
    "    scores.append(score)\n",
    "\n",
    "fig, ax = plt.subplots()\n",
    "ax.plot(trees, scores)"
   ]
  },
  {
   "cell_type": "code",
   "execution_count": 1048,
   "id": "toxic-justice",
   "metadata": {},
   "outputs": [
    {
     "name": "stdout",
     "output_type": "stream",
     "text": [
      "A Random Forest Regressor with max_depth of: 1 gets a score of 17415.272001701796\n",
      "A Random Forest Regressor with max_depth of: 5 gets a score of 8860.923002807176\n",
      "A Random Forest Regressor with max_depth of: 10 gets a score of 7477.358983369717\n",
      "A Random Forest Regressor with max_depth of: 20 gets a score of 7001.749641253237\n",
      "A Random Forest Regressor with max_depth of: 50 gets a score of 7174.962332790188\n",
      "A Random Forest Regressor with max_depth of: 100 gets a score of 7005.565785643569\n"
     ]
    }
   ],
   "source": [
    "depth = [1, 5, 10, 20, 50, 100]\n",
    "scores = []\n",
    "for d in depth:\n",
    "    model = RandomForestRegressor(max_depth=d, n_jobs = -1)\n",
    "    score = -cross_val_score(model,X_train_1,y_train, scoring=\"neg_root_mean_squared_error\").mean()\n",
    "    print('A Random Forest Regressor with max_depth of: {} gets a score of {}'\n",
    "          .format(d,score))\n",
    "    scores.append(score)"
   ]
  },
  {
   "cell_type": "code",
   "execution_count": 1049,
   "id": "objective-surfing",
   "metadata": {},
   "outputs": [
    {
     "data": {
      "text/plain": [
       "[<matplotlib.lines.Line2D at 0x7feb66b36b50>]"
      ]
     },
     "execution_count": 1049,
     "metadata": {},
     "output_type": "execute_result"
    },
    {
     "data": {
      "image/png": "[encoded data removed]",
      "text/plain": [
       "<Figure size 432x288 with 1 Axes>"
      ]
     },
     "metadata": {
      "needs_background": "light"
     },
     "output_type": "display_data"
    }
   ],
   "source": [
    "fig, ax = plt.subplots()\n",
    "ax.plot(depth, scores)"
   ]
  },
  {
   "cell_type": "code",
   "execution_count": null,
   "id": "korean-westminster",
   "metadata": {},
   "outputs": [],
   "source": []
  }
 ],
 "metadata": {
  "kernelspec": {
   "display_name": "Python 3",
   "language": "python",
   "name": "python3"
  },
  "language_info": {
   "codemirror_mode": {
    "name": "ipython",
    "version": 3
   },
   "file_extension": ".py",
   "mimetype": "text/x-python",
   "name": "python",
   "nbconvert_exporter": "python",
   "pygments_lexer": "ipython3",
   "version": "3.7.10"
  }
 },
 "nbformat": 4,
 "nbformat_minor": 5
}
