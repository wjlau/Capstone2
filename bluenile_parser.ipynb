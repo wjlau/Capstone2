{
 "cells": [
  {
   "cell_type": "code",
   "execution_count": 148,
   "id": "olympic-armor",
   "metadata": {},
   "outputs": [],
   "source": [
    "from pymongo import MongoClient\n",
    "import pprint\n",
    "\n",
    "import pandas as pd\n",
    "import numpy as np\n",
    "import matplotlib.pyplot as plt\n",
    "\n",
    "from bs4 import BeautifulSoup\n",
    "\n",
    "import json\n"
   ]
  },
  {
   "cell_type": "code",
   "execution_count": 149,
   "id": "urban-fundamentals",
   "metadata": {},
   "outputs": [],
   "source": [
    "#Connect to hosted MongoDB instance\n",
    "client = MongoClient()\n",
    "#Access already existing database\n",
    "db = client['capstone2_updated']\n",
    "#Access already existing collection in database\n",
    "diamond_info = db['diamond_info']"
   ]
  },
  {
   "cell_type": "markdown",
   "id": "immune-bubble",
   "metadata": {},
   "source": [
    "## Parsing one page first to get workflow before iterating through all pages"
   ]
  },
  {
   "cell_type": "code",
   "execution_count": 147,
   "id": "lesbian-fields",
   "metadata": {},
   "outputs": [
    {
     "data": {
      "text/plain": [
       "[{'shape': 'Oval',\n",
       "  'original_price': 238,\n",
       "  'discounted_price': nan,\n",
       "  'carat': '0.30',\n",
       "  'cut': 'Very Good',\n",
       "  'color': 'I',\n",
       "  'clarity': 'SI1',\n",
       "  'polish': 'Excellent',\n",
       "  'symmetry': 'Very Good',\n",
       "  'fluorescence': 'Faint',\n",
       "  'depth': '64.6',\n",
       "  'table': '60.0',\n",
       "  'lxwratio': '1.32',\n",
       "  'culet': 'None'},\n",
       " {'shape': 'Emerald',\n",
       "  'original_price': 261,\n",
       "  'discounted_price': 238,\n",
       "  'carat': '0.31',\n",
       "  'cut': 'Good',\n",
       "  'color': 'K',\n",
       "  'clarity': 'VVS2',\n",
       "  'polish': 'Excellent',\n",
       "  'symmetry': 'Very Good',\n",
       "  'fluorescence': 'Faint',\n",
       "  'depth': '70.7',\n",
       "  'table': '62.0',\n",
       "  'lxwratio': '1.28',\n",
       "  'culet': 'None'},\n",
       " {'shape': 'Pear',\n",
       "  'original_price': 251,\n",
       "  'discounted_price': 238,\n",
       "  'carat': '0.30',\n",
       "  'cut': 'Very Good',\n",
       "  'color': 'J',\n",
       "  'clarity': 'SI1',\n",
       "  'polish': 'Very Good',\n",
       "  'symmetry': 'Very Good',\n",
       "  'fluorescence': 'None',\n",
       "  'depth': '62.8',\n",
       "  'table': '61.0',\n",
       "  'lxwratio': '1.52',\n",
       "  'culet': 'None'},\n",
       " {'shape': 'Pear',\n",
       "  'original_price': 239,\n",
       "  'discounted_price': nan,\n",
       "  'carat': '0.30',\n",
       "  'cut': 'Very Good',\n",
       "  'color': 'J',\n",
       "  'clarity': 'SI1',\n",
       "  'polish': 'Very Good',\n",
       "  'symmetry': 'Very Good',\n",
       "  'fluorescence': 'Faint',\n",
       "  'depth': '63.3',\n",
       "  'table': '59.0',\n",
       "  'lxwratio': '1.51',\n",
       "  'culet': 'None'},\n",
       " {'shape': 'Oval',\n",
       "  'original_price': 259,\n",
       "  'discounted_price': 240,\n",
       "  'carat': '0.30',\n",
       "  'cut': 'Very Good',\n",
       "  'color': 'J',\n",
       "  'clarity': 'VVS2',\n",
       "  'polish': 'Excellent',\n",
       "  'symmetry': 'Very Good',\n",
       "  'fluorescence': 'None',\n",
       "  'depth': '63.0',\n",
       "  'table': '61.0',\n",
       "  'lxwratio': '1.45',\n",
       "  'culet': 'None'}]"
      ]
     },
     "execution_count": 147,
     "metadata": {},
     "output_type": "execute_result"
    }
   ],
   "source": [
    "diamonds = diamond_info.find_one({'pull':1})['html']\n",
    "soup = BeautifulSoup(diamonds,'html.parser')\n",
    "\n",
    "example = []\n",
    "#getting list of shapes\n",
    "# for i in range(len(soup.find_all('div','shape-cell-wrapper'))):\n",
    "for i in range(12,17):\n",
    "    example_diamonds = dict()\n",
    "    #getting diamond shape\n",
    "    example_diamonds['shape'] = soup.find_all('div','shape-cell-wrapper')[i].text\n",
    "    #getting diamond price - some were discounted\n",
    "    if len(soup.find_all('div','row-cell price')[i].text.split('Now: ')) == 2:\n",
    "        og_price = soup.find_all('div','row-cell price')[i].text.split('Now: ')[0][6:].replace(',','')\n",
    "        example_diamonds['original_price'] = int(og_price)\n",
    "        disc_price = soup.find_all('div','row-cell price')[i].text.split('Now: ')[1][1:].replace(',','')\n",
    "        example_diamonds['discounted_price'] = int(disc_price)\n",
    "    else: \n",
    "        og_price = soup.find_all('div','row-cell price')[i].text[1:].replace(',','')\n",
    "        example_diamonds['original_price'] = int(og_price)\n",
    "        example_diamonds['discounted_price'] = np.nan\n",
    "    #getting diamond carat\n",
    "    example_diamonds['carat'] = soup.find_all('div','row-cell carat')[i].text\n",
    "    #getting diamond cut\n",
    "    #repeats the cut 2x with no space in between - need to cut string in half\n",
    "    x = int(len(soup.find_all('div','row-cell cut')[i].text)/2)\n",
    "    example_diamonds['cut'] = soup.find_all('div','row-cell cut')[i].text[x:]\n",
    "    #getting diamond color\n",
    "    example_diamonds['color'] = soup.find_all('div','row-cell color')[i].text\n",
    "    #getting diamond clarity\n",
    "    example_diamonds['clarity'] = soup.find_all('div','row-cell clarity')[i].text\n",
    "    #getting diamond polish\n",
    "    example_diamonds['polish'] = soup.find_all('div','row-cell polish')[i].text\n",
    "    #getting diamond symmetry\n",
    "    example_diamonds['symmetry'] = soup.find_all('div','row-cell symmetry')[i].text\n",
    "    #getting diamond fluorescence\n",
    "    example_diamonds['fluorescence'] = soup.find_all('div','row-cell fluorescence')[i].text\n",
    "    #getting diamond depth\n",
    "    example_diamonds['depth'] = soup.find_all('div','row-cell depth')[i].text\n",
    "    #getting diamond table\n",
    "    example_diamonds['table'] = soup.find_all('div','row-cell table')[i].text\n",
    "    #getting diamond lw ratio\n",
    "    example_diamonds['lxwratio'] = soup.find_all('div','row-cell lxwratio')[i].text\n",
    "    #getting diamond culet\n",
    "    example_diamonds['culet'] = soup.find_all('div','row-cell culet')[i].text\n",
    "    example.append(example_diamonds)\n",
    "example"
   ]
  },
  {
   "cell_type": "markdown",
   "id": "suited-briefing",
   "metadata": {},
   "source": [
    "## Iterate through all pages and parse to dataframe"
   ]
  },
  {
   "cell_type": "code",
   "execution_count": 154,
   "id": "grateful-hindu",
   "metadata": {},
   "outputs": [],
   "source": [
    "def parse_to_df(num_pulls):\n",
    "    diamond_list = []\n",
    "    for i in range(1,num_pages+1):\n",
    "        diamonds = diamond_info.find_one({'pull':i})['html']\n",
    "        soup = BeautifulSoup(diamonds,'html.parser')\n",
    "\n",
    "\n",
    "        for i in range(len(soup.find_all('div','shape-cell-wrapper'))):\n",
    "            per_diamond = dict()\n",
    "            per_diamond['shape'] = soup.find_all('div','shape-cell-wrapper')[i].text  \n",
    "            \n",
    "            \n",
    "            if len(soup.find_all('div','row-cell price')[i].text.split('Now: ')) == 2:\n",
    "                og_price = soup.find_all('div','row-cell price')[i].text.split('Now: ')[0][6:].replace(',','')\n",
    "                per_diamond['original_price'] = int(og_price)\n",
    "                disc_price = soup.find_all('div','row-cell price')[i].text.split('Now: ')[1][1:].replace(',','')\n",
    "                per_diamond['discounted_price'] = int(disc_price)\n",
    "            else: \n",
    "                og_price = soup.find_all('div','row-cell price')[i].text[1:].replace(',','')\n",
    "                per_diamond['original_price'] = int(og_price)\n",
    "                per_diamond['discounted_price'] = np.nan\n",
    "            \n",
    "            \n",
    "            per_diamond['carat'] = soup.find_all('div','row-cell carat')[i].text\n",
    "            x = int(len(soup.find_all('div','row-cell cut')[i].text)/2)\n",
    "            per_diamond['cut'] = soup.find_all('div','row-cell cut')[i].text[x:]\n",
    "            per_diamond['color'] = soup.find_all('div','row-cell color')[i].text\n",
    "            per_diamond['clarity'] = soup.find_all('div','row-cell clarity')[i].text\n",
    "            per_diamond['polish'] = soup.find_all('div','row-cell polish')[i].text\n",
    "            per_diamond['symmetry'] = soup.find_all('div','row-cell symmetry')[i].text\n",
    "            per_diamond['fluorescence'] = soup.find_all('div','row-cell fluorescence')[i].text\n",
    "            per_diamond['depth'] = soup.find_all('div','row-cell depth')[i].text\n",
    "            per_diamond['table'] = soup.find_all('div','row-cell table')[i].text\n",
    "            per_diamond['lxwratio'] = soup.find_all('div','row-cell lxwratio')[i].text\n",
    "            per_diamond['culet'] = soup.find_all('div','row-cell culet')[i].text\n",
    "            diamond_list.append(per_diamond)\n",
    "        df = pd.DataFrame(diamond_list)\n",
    "    return df"
   ]
  },
  {
   "cell_type": "code",
   "execution_count": 155,
   "id": "possible-inside",
   "metadata": {},
   "outputs": [
    {
     "name": "stderr",
     "output_type": "stream",
     "text": [
      "/opt/anaconda3/lib/python3.7/site-packages/ipykernel_launcher.py:1: DeprecationWarning: count is deprecated. Use estimated_document_count or count_documents instead. Please note that $where must be replaced by $expr, $near must be replaced by $geoWithin with $center, and $nearSphere must be replaced by $geoWithin with $centerSphere\n",
      "  \"\"\"Entry point for launching an IPython kernel.\n"
     ]
    },
    {
     "data": {
      "text/plain": [
       "58"
      ]
     },
     "execution_count": 155,
     "metadata": {},
     "output_type": "execute_result"
    }
   ],
   "source": [
    "num_pulls = diamond_info.count()\n",
    "num_pulls"
   ]
  },
  {
   "cell_type": "code",
   "execution_count": null,
   "id": "laughing-length",
   "metadata": {},
   "outputs": [],
   "source": [
    "diamond_data = parse_to_df(num_pulls)\n",
    "diamond_data.to_csv(r'/Users/winglau/Desktop/Docker/Capstone2/updated_diamonds.csv')"
   ]
  },
  {
   "cell_type": "code",
   "execution_count": null,
   "id": "general-world",
   "metadata": {},
   "outputs": [],
   "source": []
  }
 ],
 "metadata": {
  "kernelspec": {
   "display_name": "Python 3",
   "language": "python",
   "name": "python3"
  },
  "language_info": {
   "codemirror_mode": {
    "name": "ipython",
    "version": 3
   },
   "file_extension": ".py",
   "mimetype": "text/x-python",
   "name": "python",
   "nbconvert_exporter": "python",
   "pygments_lexer": "ipython3",
   "version": "3.7.10"
  }
 },
 "nbformat": 4,
 "nbformat_minor": 5
}
