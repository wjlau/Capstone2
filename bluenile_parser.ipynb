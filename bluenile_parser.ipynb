{
 "cells": [
  {
   "cell_type": "code",
   "execution_count": 2,
   "id": "underlying-printing",
   "metadata": {},
   "outputs": [],
   "source": [
    "from pymongo import MongoClient\n",
    "import pprint\n",
    "\n",
    "import pandas as pd\n",
    "import numpy as np\n",
    "import matplotlib.pyplot as plt\n",
    "\n",
    "from bs4 import BeautifulSoup\n",
    "\n",
    "import json\n"
   ]
  },
  {
   "cell_type": "code",
   "execution_count": 8,
   "id": "enormous-frontier",
   "metadata": {},
   "outputs": [],
   "source": [
    "#Connect to hosted MongoDB instance\n",
    "client = MongoClient()\n",
    "#Access already existing database\n",
    "db = client['capstone2_bluenile']\n",
    "#Access already existing collection in database\n",
    "diamond_info = db['diamond_info']"
   ]
  },
  {
   "cell_type": "code",
   "execution_count": 5,
   "id": "mechanical-lightweight",
   "metadata": {},
   "outputs": [],
   "source": [
    "pages = [f'page:{i}' for i in range(1,2493)]"
   ]
  },
  {
   "cell_type": "code",
   "execution_count": 185,
   "id": "piano-farming",
   "metadata": {},
   "outputs": [],
   "source": [
    "diamond_list = []"
   ]
  },
  {
   "cell_type": "code",
   "execution_count": 72,
   "id": "furnished-biology",
   "metadata": {},
   "outputs": [],
   "source": [
    "#parsing one page first\n",
    "diamond = diamond_info.find_one({'page':1})['html']\n",
    "soup = BeautifulSoup(diamond,'html.parser')"
   ]
  },
  {
   "cell_type": "code",
   "execution_count": 186,
   "id": "technical-lunch",
   "metadata": {},
   "outputs": [],
   "source": [
    "#getting list of shapes\n",
    "for i in range(len(soup.find_all('div','shape-cell-wrapper'))):\n",
    "    per_diamond = dict()\n",
    "    #getting diamond shape\n",
    "    per_diamond['shape'] = soup.find_all('div','shape-cell-wrapper')[i].text\n",
    "    #getting diamond price - some were discounted\n",
    "    if len(soup.find_all('div','row-cell price')[i].text.split('Now: ')) == 2:\n",
    "        per_diamond['original_price'] = soup.find_all('div','row-cell price')[i].text.split('Now: ')[0][5:]\n",
    "        per_diamond['discounted_price'] = soup.find_all('div','row-cell price')[i].text.split('Now: ')[1]\n",
    "    else: \n",
    "        per_diamond['original_price'] = soup.find_all('div','row-cell price')[i].text\n",
    "        per_diamond['discounted_price'] = np.nan\n",
    "    #getting diamond carat\n",
    "    per_diamond['carat'] = soup.find_all('div','row-cell carat')[i].text\n",
    "    #getting diamond cut\n",
    "    #repeats the cut 2x with no space in between - need to cut string in half\n",
    "    x = int(len(soup.find_all('div','row-cell cut')[i].text)/2)\n",
    "    per_diamond['cut'] = soup.find_all('div','row-cell cut')[i].text[x:]\n",
    "    #getting diamond color\n",
    "    per_diamond['color'] = soup.find_all('div','row-cell color')[i].text\n",
    "    #getting diamond clarity\n",
    "    per_diamond['clarity'] = soup.find_all('div','row-cell clarity')[i].text\n",
    "    #getting diamond polish\n",
    "    per_diamond['polish'] = soup.find_all('div','row-cell polish')[i].text\n",
    "    #getting diamond symmetry\n",
    "    per_diamond['symmetry'] = soup.find_all('div','row-cell symmetry')[i].text\n",
    "    #getting diamond fluorescence\n",
    "    per_diamond['fluorescence'] = soup.find_all('div','row-cell fluorescence')[i].text\n",
    "    #getting diamond depth\n",
    "    per_diamond['depth'] = soup.find_all('div','row-cell depth')[i].text\n",
    "    #getting diamond table\n",
    "    per_diamond['table'] = soup.find_all('div','row-cell table')[i].text\n",
    "    #getting diamond lw ratio\n",
    "    per_diamond['lxwratio'] = soup.find_all('div','row-cell lxwratio')[i].text\n",
    "    #getting diamond culet\n",
    "    per_diamond['culet'] = soup.find_all('div','row-cell culet')[i].text\n",
    "    diamond_list.append(per_diamond)"
   ]
  },
  {
   "cell_type": "code",
   "execution_count": null,
   "id": "threaded-compact",
   "metadata": {},
   "outputs": [],
   "source": []
  },
  {
   "cell_type": "code",
   "execution_count": null,
   "id": "practical-arbitration",
   "metadata": {},
   "outputs": [],
   "source": []
  }
 ],
 "metadata": {
  "kernelspec": {
   "display_name": "Python 3",
   "language": "python",
   "name": "python3"
  },
  "language_info": {
   "codemirror_mode": {
    "name": "ipython",
    "version": 3
   },
   "file_extension": ".py",
   "mimetype": "text/x-python",
   "name": "python",
   "nbconvert_exporter": "python",
   "pygments_lexer": "ipython3",
   "version": "3.7.10"
  }
 },
 "nbformat": 4,
 "nbformat_minor": 5
}
